{
 "cells": [
  {
   "cell_type": "markdown",
   "id": "78f3110e",
   "metadata": {},
   "source": [
    "# Timer Contract"
   ]
  },
  {
   "cell_type": "code",
   "execution_count": 1,
   "id": "01cef23d",
   "metadata": {},
   "outputs": [
    {
     "name": "stdout",
     "output_type": "stream",
     "text": [
      "Writing src/Timer.sol\n"
     ]
    }
   ],
   "source": [
    "%%writefile src/Timer.sol\n",
    "\n",
    "pragma solidity ^0.8.0;\n",
    "contract Timer {\n",
    "    uint256 startTime;\n",
    "    function start() public {\n",
    "        //startTime=now; now is deprecated as of v0.7\n",
    "        startTime=block.timestamp;\n",
    "    }\n",
    "    function timePassed() public view returns(uint256) {\n",
    "        //return now-startTime;\n",
    "        return block.timestamp-startTime;\n",
    "    }\n",
    "    function getNow() view public returns(uint) {\n",
    "        //return now;\n",
    "        return block.timestamp;\n",
    "    }\n",
    "}"
   ]
  },
  {
   "cell_type": "code",
   "execution_count": 4,
   "id": "a68396f8",
   "metadata": {},
   "outputs": [
    {
     "name": "stdout",
     "output_type": "stream",
     "text": [
      "\u001b[1m\u001b[33mWarning\u001b[0m\u001b[1m\u001b[37m: SPDX license identifier not provided in source file. Before publishing, consider adding a comment containing \"SPDX-License-Identifier: <SPDX-License>\" to each source file. Use \"SPDX-License-Identifier: UNLICENSED\" for non-open-source code. Please see https://spdx.org for more information.\r\n",
      "\u001b[0m\u001b[1m\u001b[34m-->\u001b[0m src/Timer.sol\r\n",
      "\r\n"
     ]
    }
   ],
   "source": [
    "!solc --optimize --combined-json abi,bin src/Timer.sol > src/Timer.json"
   ]
  },
  {
   "cell_type": "code",
   "execution_count": 5,
   "id": "b259acc8",
   "metadata": {},
   "outputs": [
    {
     "name": "stdout",
     "output_type": "stream",
     "text": [
      "{\"contracts\":{\"src/Timer.sol:Timer\":{\"abi\":[{\"inputs\":[],\"name\":\"getNow\",\"outputs\":[{\"internalType\":\"uint256\",\"name\":\"\",\"type\":\"uint256\"}],\"stateMutability\":\"view\",\"type\":\"function\"},{\"inputs\":[],\"name\":\"start\",\"outputs\":[],\"stateMutability\":\"nonpayable\",\"type\":\"function\"},{\"inputs\":[],\"name\":\"timePassed\",\"outputs\":[{\"internalType\":\"uint256\",\"name\":\"\",\"type\":\"uint256\"}],\"stateMutability\":\"view\",\"type\":\"function\"}],\"bin\":\"608060405234801561001057600080fd5b5060d38061001f6000396000f3fe6080604052348015600f57600080fd5b5060043610603c5760003560e01c8063b4454253146041578063bbe4fd50146059578063be9a655514605e575b600080fd5b60476068565b60405190815260200160405180910390f35b426047565b606642600055565b005b60008054607490426079565b905090565b600082821015609857634e487b7160e01b600052601160045260246000fd5b50039056fea26469706673582212203c2b59ce533913d7519507fd7b51bc8d99f58b2e1451b04d4450e6c66fab485764736f6c634300080c0033\"}},\"version\":\"0.8.12+commit.f00d7308.Darwin.appleclang\"}\r\n"
     ]
    }
   ],
   "source": [
    "!cat src/Timer.json"
   ]
  },
  {
   "cell_type": "code",
   "execution_count": 6,
   "id": "9cb4a7c7",
   "metadata": {},
   "outputs": [
    {
     "name": "stdout",
     "output_type": "stream",
     "text": [
      "Writing src/TimerImportTest.js\n"
     ]
    }
   ],
   "source": [
    "%%writefile src/TimerImportTest.js\n",
    "const _abiBinJson = require('./Timer.json');     //importing a javascript file\n",
    "contractName=Object.keys(_abiBinJson.contracts); // reading ['src/Timer.sol:Timer']\n",
    "console.log(\"- contract name: \", contractName);\n",
    "_abi=_abiBinJson.contracts[contractName].abi;\n",
    "_abiArray=JSON.parse(JSON.stringify(_abi));\n",
    "_bin=_abiBinJson.contracts[contractName].bin;\n",
    "console.log(\"- ABI: \", _abi);\n",
    "console.log(\"- ABIArray: \", _abiArray);\n",
    "console.log(\"- Bytecode: \", _bin);"
   ]
  },
  {
   "cell_type": "code",
   "execution_count": 7,
   "id": "7762f92f",
   "metadata": {},
   "outputs": [
    {
     "name": "stdout",
     "output_type": "stream",
     "text": [
      "- contract name:  [ \u001b[32m'src/Timer.sol:Timer'\u001b[39m ]\r\n",
      "- ABI:  [\r\n",
      "  {\r\n",
      "    inputs: [],\r\n",
      "    name: \u001b[32m'getNow'\u001b[39m,\r\n",
      "    outputs: [ \u001b[36m[Object]\u001b[39m ],\r\n",
      "    stateMutability: \u001b[32m'view'\u001b[39m,\r\n",
      "    type: \u001b[32m'function'\u001b[39m\r\n",
      "  },\r\n",
      "  {\r\n",
      "    inputs: [],\r\n",
      "    name: \u001b[32m'start'\u001b[39m,\r\n",
      "    outputs: [],\r\n",
      "    stateMutability: \u001b[32m'nonpayable'\u001b[39m,\r\n",
      "    type: \u001b[32m'function'\u001b[39m\r\n",
      "  },\r\n",
      "  {\r\n",
      "    inputs: [],\r\n",
      "    name: \u001b[32m'timePassed'\u001b[39m,\r\n",
      "    outputs: [ \u001b[36m[Object]\u001b[39m ],\r\n",
      "    stateMutability: \u001b[32m'view'\u001b[39m,\r\n",
      "    type: \u001b[32m'function'\u001b[39m\r\n",
      "  }\r\n",
      "]\r\n",
      "- ABIArray:  [\r\n",
      "  {\r\n",
      "    inputs: [],\r\n",
      "    name: \u001b[32m'getNow'\u001b[39m,\r\n",
      "    outputs: [ \u001b[36m[Object]\u001b[39m ],\r\n",
      "    stateMutability: \u001b[32m'view'\u001b[39m,\r\n",
      "    type: \u001b[32m'function'\u001b[39m\r\n",
      "  },\r\n",
      "  {\r\n",
      "    inputs: [],\r\n",
      "    name: \u001b[32m'start'\u001b[39m,\r\n",
      "    outputs: [],\r\n",
      "    stateMutability: \u001b[32m'nonpayable'\u001b[39m,\r\n",
      "    type: \u001b[32m'function'\u001b[39m\r\n",
      "  },\r\n",
      "  {\r\n",
      "    inputs: [],\r\n",
      "    name: \u001b[32m'timePassed'\u001b[39m,\r\n",
      "    outputs: [ \u001b[36m[Object]\u001b[39m ],\r\n",
      "    stateMutability: \u001b[32m'view'\u001b[39m,\r\n",
      "    type: \u001b[32m'function'\u001b[39m\r\n",
      "  }\r\n",
      "]\r\n",
      "- Bytecode:  608060405234801561001057600080fd5b5060d38061001f6000396000f3fe6080604052348015600f57600080fd5b5060043610603c5760003560e01c8063b4454253146041578063bbe4fd50146059578063be9a655514605e575b600080fd5b60476068565b60405190815260200160405180910390f35b426047565b606642600055565b005b60008054607490426079565b905090565b600082821015609857634e487b7160e01b600052601160045260246000fd5b50039056fea26469706673582212203c2b59ce533913d7519507fd7b51bc8d99f58b2e1451b04d4450e6c66fab485764736f6c634300080c0033\r\n"
     ]
    }
   ],
   "source": [
    "!node src/TimerImportTest.js"
   ]
  },
  {
   "cell_type": "code",
   "execution_count": 18,
   "id": "535aaa3b",
   "metadata": {},
   "outputs": [
    {
     "name": "stdout",
     "output_type": "stream",
     "text": [
      "Overwriting src/TimerDeployAbiBinFromFile.js\n"
     ]
    }
   ],
   "source": [
    "%%writefile src/TimerDeployAbiBinFromFile.js\n",
    "var Web3 = require('web3');\n",
    "var _abiBinJson = require('./Timer.json');      //importing a javascript file\n",
    "\n",
    "var web3 = new Web3(new Web3.providers.HttpProvider(\"http://localhost:8345\"));\n",
    "\n",
    "contractName=Object.keys(_abiBinJson.contracts); // reading ['src/Timer.sol:Timer']\n",
    "console.log(\"- contract name: \", contractName);\n",
    "_abi=_abiBinJson.contracts[contractName].abi;\n",
    "_abiArray=JSON.parse(JSON.stringify(_abi)); // -> 문자열로 바꾸고 parsing해야함.\n",
    "//_abiArray=JSON.parse(_abi);      //JSON parsing needed!! \n",
    "_bin=_abiBinJson.contracts[contractName].bin;\n",
    "\n",
    "console.log(\"- ABI: \" + _abiArray);\n",
    "console.log(\"- Bytecode: \" + _bin);\n",
    "\n",
    "async function deploy() {\n",
    "    const accounts = await web3.eth.getAccounts();\n",
    "    console.log(\"Deploying the contract from \" + accounts[0]);\n",
    "    var deployed = await new web3.eth.Contract(_abiArray)\n",
    "        .deploy({data: \"0x\"+_bin})\n",
    "        .send({from: accounts[0], gas: 364124}, function(err, transactionHash) {\n",
    "                if(!err) console.log(\"hash: \" + transactionHash); \n",
    "        })\n",
    "        //.then(function(newContractInstance){\n",
    "        //    console.log(newContractInstance)\n",
    "        //});\n",
    "    console.log(\"---> The contract deployed to: \" + deployed.options.address)\n",
    "}\n",
    "deploy()"
   ]
  },
  {
   "cell_type": "code",
   "execution_count": 19,
   "id": "50fcc0aa",
   "metadata": {},
   "outputs": [
    {
     "name": "stdout",
     "output_type": "stream",
     "text": [
      "- contract name:  [ \u001b[32m'src/Timer.sol:Timer'\u001b[39m ]\r\n",
      "- ABI: [object Object],[object Object],[object Object]\r\n",
      "- Bytecode: 608060405234801561001057600080fd5b5060d38061001f6000396000f3fe6080604052348015600f57600080fd5b5060043610603c5760003560e01c8063b4454253146041578063bbe4fd50146059578063be9a655514605e575b600080fd5b60476068565b60405190815260200160405180910390f35b426047565b606642600055565b005b60008054607490426079565b905090565b600082821015609857634e487b7160e01b600052601160045260246000fd5b50039056fea26469706673582212203c2b59ce533913d7519507fd7b51bc8d99f58b2e1451b04d4450e6c66fab485764736f6c634300080c0033\r\n",
      "Deploying the contract from 0x6F973e6C3758Bd4445dB01ed92A33Fe6f148e7A5\r\n",
      "hash: 0x8e7f5c2533ba175e5ec5c7eb54a5c1ecda9c3594124ae9b3b1c05eae59e5e130\r\n",
      "---> The contract deployed to: 0xCB3149700d0B761cB5c99376e4EAFc4607e87f0c\r\n"
     ]
    }
   ],
   "source": [
    "!node src/TimerDeployAbiBinFromFile.js"
   ]
  },
  {
   "cell_type": "code",
   "execution_count": 22,
   "id": "5f6948c9",
   "metadata": {},
   "outputs": [
    {
     "name": "stdout",
     "output_type": "stream",
     "text": [
      "Overwriting src/timerUse.js\n"
     ]
    }
   ],
   "source": [
    "%%writefile src/timerUse.js\n",
    "var Web3=require('web3');\n",
    "var _abiBinJson = require('./Timer.json');      //importing a javascript file\n",
    "\n",
    "var web3 = new Web3(new Web3.providers.HttpProvider(\"http://localhost:8345\"));\n",
    "contractName=Object.keys(_abiBinJson.contracts); // reading ['src/Timer.sol:Timer']\n",
    "//console.log(\"- contract name: \", contractName); //or console.log(contractName[0]);\n",
    "_abi=_abiBinJson.contracts[contractName].abi;\n",
    "_abiArray=JSON.parse(JSON.stringify(_abi));\n",
    "//_abiArray=JSON.parse(_abi);      //JSON parsing needed!!\n",
    "//_bin=_abiBinJson.contracts[contractName].bin;\n",
    "//console.log(\"- ABI: \" + _abiArray);\n",
    "//console.log(\"- Bytecode: \" + _bin);\n",
    "\n",
    "var timer = new web3.eth.Contract(_abiArray,\"0xCB3149700d0B761cB5c99376e4EAFc4607e87f0c\");\n",
    "\n",
    "async function doIt() {\n",
    "    const accounts = await web3.eth.getAccounts();\n",
    "    console.log(\"Call from: \" + accounts[0]);\n",
    "    timer.methods.getNow().call().then(function(value) {console.log(\"Now: \", value);});\n",
    "    await timer.methods.start().send({from:accounts[0],gas:100000});\n",
    "    //await 4000;\n",
    "    timer.methods.timePassed().call().then(function(value) {console.log(\"Passed: \", value);});\n",
    "}\n",
    "\n",
    "doIt()"
   ]
  },
  {
   "cell_type": "code",
   "execution_count": 25,
   "id": "c17209fb",
   "metadata": {
    "scrolled": false
   },
   "outputs": [
    {
     "name": "stdout",
     "output_type": "stream",
     "text": [
      "Call from: 0x6F973e6C3758Bd4445dB01ed92A33Fe6f148e7A5\r\n",
      "Now:  1650269676\r\n",
      "Passed:  0\r\n"
     ]
    }
   ],
   "source": [
    "!node src/timerUse.js"
   ]
  },
  {
   "cell_type": "code",
   "execution_count": null,
   "id": "f794e422",
   "metadata": {},
   "outputs": [],
   "source": []
  }
 ],
 "metadata": {
  "kernelspec": {
   "display_name": "opcv",
   "language": "python",
   "name": "opcv"
  },
  "language_info": {
   "codemirror_mode": {
    "name": "ipython",
    "version": 3
   },
   "file_extension": ".py",
   "mimetype": "text/x-python",
   "name": "python",
   "nbconvert_exporter": "python",
   "pygments_lexer": "ipython3",
   "version": "3.8.12"
  }
 },
 "nbformat": 4,
 "nbformat_minor": 5
}
