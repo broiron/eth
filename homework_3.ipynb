{
 "cells": [
  {
   "cell_type": "code",
   "execution_count": 18,
   "id": "b52ffa3c",
   "metadata": {
    "scrolled": false
   },
   "outputs": [
    {
     "name": "stdout",
     "output_type": "stream",
     "text": [
      "Block Number: 3126\r\n",
      "enode://302d3b1e0da5ec10187222c4ec03f02349da2ff2d53060a44d586e7725cb8568f1439e835ee5d6d9c5795f48c1415109d87a80b73cbaf9ef2870a41823cb8cd7@203.237.172.100:38445\r\n",
      "Number of Peers: 0\r\n",
      "Accounts: 0xbc3995a91ef543781cd777de3b192acbc03a74a0,0x3e71e1211c1dee2836bfd3b41cd9e6e17935b35e,0x5982411b6aabab1088c9c2ab5371b3f709ef11d3\r\n",
      "Balance 0 : 104.6875 (ether)\r\n",
      "Balance 1 : 140 (ether)\r\n",
      "Balance 2 : 35 (ether)\r\n",
      "Changing Coinbase\r\n",
      "Before: 0xbc3995a91ef543781cd777de3b192acbc03a74a0\r\n",
      "After: 0x3e71e1211c1dee2836bfd3b41cd9e6e17935b35e\r\n",
      "Number of Pendning Transaction: 0\r\n",
      "{\"pending\":{},\"queued\":{}}\r\n",
      "Status: There are no trasactions in Transaction pool\r\n",
      "Block Number: 3126\r\n",
      "마이닝이나 transaction이 없었으므로 block number는 변함이 없다.\r\n",
      "\u001b[1mnull\u001b[0m\r\n"
     ]
    }
   ],
   "source": [
    "!geth --exec 'loadScript(\"src/exercise1.js\")' attach http://\"localhost\":8445"
   ]
  },
  {
   "cell_type": "code",
   "execution_count": null,
   "id": "a6f8a685",
   "metadata": {},
   "outputs": [],
   "source": []
  }
 ],
 "metadata": {
  "kernelspec": {
   "display_name": "opcv",
   "language": "python",
   "name": "opcv"
  },
  "language_info": {
   "codemirror_mode": {
    "name": "ipython",
    "version": 3
   },
   "file_extension": ".py",
   "mimetype": "text/x-python",
   "name": "python",
   "nbconvert_exporter": "python",
   "pygments_lexer": "ipython3",
   "version": "3.8.12"
  }
 },
 "nbformat": 4,
 "nbformat_minor": 5
}
