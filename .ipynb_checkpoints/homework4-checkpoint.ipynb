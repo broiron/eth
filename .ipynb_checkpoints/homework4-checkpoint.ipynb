{
 "cells": [
  {
   "cell_type": "markdown",
   "id": "cdfaf3e8",
   "metadata": {},
   "source": [
    "# 연습문제 1"
   ]
  },
  {
   "cell_type": "code",
   "execution_count": 1,
   "id": "5bf7166f",
   "metadata": {},
   "outputs": [],
   "source": [
    "import hashlib"
   ]
  },
  {
   "cell_type": "code",
   "execution_count": 2,
   "id": "b0dfcf55",
   "metadata": {},
   "outputs": [],
   "source": [
    "txA = \"Hello\"\n",
    "txB = \"How are you\""
   ]
  },
  {
   "cell_type": "code",
   "execution_count": 5,
   "id": "6446c20b",
   "metadata": {},
   "outputs": [
    {
     "name": "stdout",
     "output_type": "stream",
     "text": [
      "70bc18bef5ae66b72d1995f8db90a583a60d77b4066e4653f1cead613025861c\n",
      "<class 'str'>\n"
     ]
    }
   ],
   "source": [
    "_hA=hashlib.sha256(hashlib.sha256(txA.encode()).digest()).hexdigest()\n",
    "print(_hA)\n",
    "print(type(_hA))"
   ]
  },
  {
   "cell_type": "code",
   "execution_count": 40,
   "id": "2f740867",
   "metadata": {},
   "outputs": [
    {
     "name": "stdout",
     "output_type": "stream",
     "text": [
      "70  bc  18  be  f5  ae  66  b7  2d  19  95  f8  db  90  a5  83  a6  0d  77  b4  06  6e  46  53  f1  ce  ad  61  30  25  86  1c  \n",
      "\n",
      "\n",
      "\n",
      "1c86253061adcef153466e06b4770da683a590dbf895192db766aef5be18bc70\n"
     ]
    }
   ],
   "source": [
    "for i in range(0, len(_hA), 2):\n",
    "    print(_hA[i:i+2], end=\"  \")\n",
    "print(\"\\n\")\n",
    "\n",
    "hA = \"\".join(reversed([_hA[i:i+2] for i in range(0, len(_hA), 2)]))\n",
    "# 첫번째 출력문을 그대로 리스트로 만들고, 이를 reversed()를 써서 역순으로 만든다음 원소 전체를 join으로 str 객체로 만들기\n",
    "print(\"\\n\")\n",
    "print(hA)"
   ]
  },
  {
   "cell_type": "code",
   "execution_count": 42,
   "id": "c4e9d2cd",
   "metadata": {},
   "outputs": [
    {
     "name": "stdout",
     "output_type": "stream",
     "text": [
      "a7396bffca60c6806265e00daeb012eabd4b4b2b16db1f30ca86137fb7bdaad7\n"
     ]
    }
   ],
   "source": [
    "_hB = hashlib.sha256(hashlib.sha256(txB.encode()).digest()).hexdigest()\n",
    "print(_hB)"
   ]
  },
  {
   "cell_type": "code",
   "execution_count": 43,
   "id": "051f3d33",
   "metadata": {},
   "outputs": [
    {
     "name": "stdout",
     "output_type": "stream",
     "text": [
      "d7aabdb77f1386ca301fdb162b4b4bbdea12b0ae0de0656280c660caff6b39a7\n"
     ]
    }
   ],
   "source": [
    "hB = \"\".join(reversed([_hB[i:i+2] for i in range(0, len(_hB), 2)]))\n",
    "print(hB)"
   ]
  },
  {
   "cell_type": "code",
   "execution_count": 44,
   "id": "420ab893",
   "metadata": {},
   "outputs": [
    {
     "name": "stdout",
     "output_type": "stream",
     "text": [
      "9f785ea09d4ad8472f9087a83dafe600b66e10655dd30c353262db5af441ca88\n",
      "88ca41f45adb6232350cd35d65106eb600e6af3da887902f47d84a9da05e789f\n"
     ]
    }
   ],
   "source": [
    "hAhB = hA + hB\n",
    "_hAB = hashlib.sha256(hashlib.sha256(hAhB.encode()).digest()).hexdigest()\n",
    "print(_hAB)\n",
    "hAB = \"\".join(reversed([_hAB[i:i+2] for i in range(0, len(_hAB), 2)]))\n",
    "print(hAB)"
   ]
  },
  {
   "cell_type": "markdown",
   "id": "0f500125",
   "metadata": {},
   "source": [
    "# 연습문제2"
   ]
  },
  {
   "cell_type": "code",
   "execution_count": 10,
   "id": "2b596af6",
   "metadata": {},
   "outputs": [
    {
     "name": "stdout",
     "output_type": "stream",
     "text": [
      "\u001b[1mtrue\u001b[0m\r\n"
     ]
    }
   ],
   "source": [
    "!geth --exec 'admin.addPeer(\"enode://0d4775ded0a34ffeea5e702a5bb8db94bcb33a18237a633eef8ed07f87d0a08655454252f05f39d954285ab785c161de89d6c44de52e3fb9798f7ea9cc8dd1bb@182.172.149.200:38445?discport=0\")' attach http://\"localhost\":8445"
   ]
  },
  {
   "cell_type": "code",
   "execution_count": 12,
   "id": "fb6c7f64",
   "metadata": {
    "scrolled": false
   },
   "outputs": [
    {
     "name": "stdout",
     "output_type": "stream",
     "text": [
      "[{\r\n",
      "    caps: [\u001b[32m\"eth/66\"\u001b[0m, \u001b[32m\"snap/1\"\u001b[0m],\r\n",
      "    enode: \u001b[32m\"enode://0d4775ded0a34ffeea5e702a5bb8db94bcb33a18237a633eef8ed07f87d0a08655454252f05f39d954285ab785c161de89d6c44de52e3fb9798f7ea9cc8dd1bb@182.172.149.200:13047\"\u001b[0m,\r\n",
      "    id: \u001b[32m\"6efc297018f98170a1c6f2d4d6bbd38f0834bfa5ae676685affaae15e94e68da\"\u001b[0m,\r\n",
      "    name: \u001b[32m\"Geth/silver/v1.10.16-stable-20356e57/windows-amd64/go1.17.5\"\u001b[0m,\r\n",
      "    network: {\r\n",
      "      inbound: \u001b[1mtrue\u001b[0m,\r\n",
      "      localAddress: \u001b[32m\"192.168.0.2:38445\"\u001b[0m,\r\n",
      "      remoteAddress: \u001b[32m\"182.172.149.200:13047\"\u001b[0m,\r\n",
      "      static: \u001b[1mfalse\u001b[0m,\r\n",
      "      trusted: \u001b[1mfalse\u001b[0m\r\n",
      "    },\r\n",
      "    protocols: {\r\n",
      "      eth: {\r\n",
      "        difficulty: \u001b[31m810916912\u001b[0m,\r\n",
      "        head: \u001b[32m\"0x47c77bd8eada263c015ff87dd10062744bcb2e87659b5f18f1922ed235adb0e2\"\u001b[0m,\r\n",
      "        version: \u001b[31m66\u001b[0m\r\n",
      "      },\r\n",
      "      snap: {\r\n",
      "        version: \u001b[31m1\u001b[0m\r\n",
      "      }\r\n",
      "    }\r\n",
      "}]\r\n"
     ]
    }
   ],
   "source": [
    "!geth --exec 'admin.peers' attach http://\"localhost\":8445"
   ]
  },
  {
   "cell_type": "code",
   "execution_count": 13,
   "id": "7a6377e1",
   "metadata": {},
   "outputs": [
    {
     "name": "stdout",
     "output_type": "stream",
     "text": [
      "\u001b[31m140000000000000010000\u001b[0m\r\n"
     ]
    }
   ],
   "source": [
    "!geth --exec 'eth.getBalance(eth.accounts[1])' attach http://\"localhost\":8445"
   ]
  },
  {
   "cell_type": "code",
   "execution_count": 15,
   "id": "bd3ee6f9",
   "metadata": {},
   "outputs": [
    {
     "name": "stdout",
     "output_type": "stream",
     "text": [
      "\u001b[32m\"0x7da29a3eecaad30a0710d2c28ddad5f1b2f9cb8e14ec7f357f0e73fe5cc34fb8\"\u001b[0m\r\n"
     ]
    }
   ],
   "source": [
    "!geth --exec 'eth.sendTransaction({from:eth.accounts[1], to:\"0x8952c4077dffd6e6c70eaebd52c14dd37cf99725\", value: 10000 })' attach http://\"localhost\":8445"
   ]
  },
  {
   "cell_type": "code",
   "execution_count": 16,
   "id": "025c6670",
   "metadata": {},
   "outputs": [
    {
     "name": "stdout",
     "output_type": "stream",
     "text": [
      "\u001b[31m140000000000000010000\u001b[0m\r\n"
     ]
    }
   ],
   "source": [
    "!geth --exec 'eth.getBalance(eth.accounts[1])' attach http://\"localhost:8445\""
   ]
  },
  {
   "cell_type": "code",
   "execution_count": 17,
   "id": "ce078752",
   "metadata": {},
   "outputs": [
    {
     "name": "stdout",
     "output_type": "stream",
     "text": [
      "\u001b[1mnull\u001b[0m\r\n"
     ]
    }
   ],
   "source": [
    "!geth --exec 'miner.start(1);admin.sleepBlocks(1);miner.stop();' attach http://\"localhost:8445\""
   ]
  },
  {
   "cell_type": "code",
   "execution_count": 18,
   "id": "878407fb",
   "metadata": {},
   "outputs": [
    {
     "name": "stdout",
     "output_type": "stream",
     "text": [
      "\u001b[31m139999979000000000000\u001b[0m\r\n"
     ]
    }
   ],
   "source": [
    "!geth --exec 'eth.getBalance(eth.accounts[1])' attach http://\"localhost:8445\""
   ]
  },
  {
   "cell_type": "markdown",
   "id": "0d116fa8",
   "metadata": {},
   "source": [
    "# 연습문제 3"
   ]
  },
  {
   "cell_type": "code",
   "execution_count": 20,
   "id": "40875e53",
   "metadata": {},
   "outputs": [
    {
     "name": "stdout",
     "output_type": "stream",
     "text": [
      "Solved  NONCE:  94280 guessHash:  000043ce4a61d02bff0e68ba18a7daf448cb3b93691fdd4850f6cd3f85b7a13f\n"
     ]
    }
   ],
   "source": [
    "import hashlib\n",
    "ntry=1\n",
    "found=False\n",
    "blockNumber=54 # hex\n",
    "NONCE=0\n",
    "data='Hello'\n",
    "previousHash='5d7c7ba21cbbcd75d14800b100252d5b428e5b1213d27c385bc141ca6b47989e'\n",
    "while found==False:\n",
    "    z=str(blockNumber)+str(NONCE)+data+previousHash\n",
    "    guessHash=hashlib.sha256(z.encode('utf-8')).hexdigest()\n",
    "    if guessHash[:4]=='0000':\n",
    "        found=True\n",
    "    NONCE+=1\n",
    "    if(NONCE%10000000==0):   #print guessHash every 10000000\n",
    "        print(\"NONCE: \",NONCE, guessHash)\n",
    "print(\"Solved \", \"NONCE: \", NONCE, \"guessHash: \", guessHash)"
   ]
  },
  {
   "cell_type": "code",
   "execution_count": 22,
   "id": "d0ab7496",
   "metadata": {
    "scrolled": true
   },
   "outputs": [
    {
     "name": "stdout",
     "output_type": "stream",
     "text": [
      "Solved  NONCE:  315753 guessHash:  000007f9f69a43f1bb6ab92672d873b93d6bafaa2007e44b6151bd19efadf4d1\n"
     ]
    }
   ],
   "source": [
    "ntry=2\n",
    "found=False\n",
    "blockNumber=54 # hex\n",
    "NONCE=0\n",
    "data='Hello'\n",
    "previousHash='5d7c7ba21cbbcd75d14800b100252d5b428e5b1213d27c385bc141ca6b47989e'\n",
    "while found==False:\n",
    "    z=str(blockNumber)+str(NONCE)+data+previousHash\n",
    "    guessHash=hashlib.sha256(z.encode('utf-8')).hexdigest()\n",
    "    if guessHash[:5]=='00000':\n",
    "        found=True\n",
    "    NONCE+=1\n",
    "    if(NONCE%10000000==0):   #print guessHash every 10000000\n",
    "        print(\"NONCE: \",NONCE, guessHash)\n",
    "print(\"Solved \", \"NONCE: \", NONCE, \"guessHash: \", guessHash)"
   ]
  },
  {
   "cell_type": "code",
   "execution_count": 23,
   "id": "71bdba59",
   "metadata": {},
   "outputs": [
    {
     "name": "stdout",
     "output_type": "stream",
     "text": [
      "NONCE:  10000000 660b9e057377381579f5c54347901cf462fce656c069a4d0f26bdd4cf1e05e66\n",
      "NONCE:  20000000 c31d3ddd7bb92312bcc2a88263d92e94c6d17a641ac9e59ac262c775c7f58925\n",
      "NONCE:  30000000 236077716f4ce428ec83f12bf74fb7ab76450bad60bc3f21d924e200c39a9fa4\n",
      "NONCE:  40000000 5b07929bd7088f11d6caf0e65a6f44ab3b7f82d32900430cc7c7244b2917e04d\n",
      "Solved  NONCE:  45576417 guessHash:  0000003d02b95604bb1ec436ff20e08168dd339f2ec0f9941bfc58bad039994e\n"
     ]
    }
   ],
   "source": [
    "ntry=3\n",
    "found=False\n",
    "blockNumber=54 # hex\n",
    "NONCE=0\n",
    "data='Hello'\n",
    "previousHash='5d7c7ba21cbbcd75d14800b100252d5b428e5b1213d27c385bc141ca6b47989e'\n",
    "while found==False:\n",
    "    z=str(blockNumber)+str(NONCE)+data+previousHash\n",
    "    guessHash=hashlib.sha256(z.encode('utf-8')).hexdigest()\n",
    "    if guessHash[:6]=='000000':\n",
    "        found=True\n",
    "    NONCE+=1\n",
    "    if(NONCE%10000000==0):   #print guessHash every 10000000\n",
    "        print(\"NONCE: \",NONCE, guessHash)\n",
    "print(\"Solved \", \"NONCE: \", NONCE, \"guessHash: \", guessHash)"
   ]
  },
  {
   "cell_type": "markdown",
   "id": "98be2aa5",
   "metadata": {},
   "source": [
    "# 3번 설명\n",
    "찾고자 하는 hash가 '000000'으로 시작할 때 난이도가 가장 높았고, 난이도가 높을 수록 hash를 찾는 횟수가 더 많아졌다.\n",
    "target hash값이 작을 수록 최대값과 목표 값의 간극이 벌려지기 때문에 난이도가 높아지고, Nonce값이 더 증가하게 되는 것이다."
   ]
  },
  {
   "cell_type": "code",
   "execution_count": null,
   "id": "9ecc0511",
   "metadata": {},
   "outputs": [],
   "source": []
  }
 ],
 "metadata": {
  "kernelspec": {
   "display_name": "opcv",
   "language": "python",
   "name": "opcv"
  },
  "language_info": {
   "codemirror_mode": {
    "name": "ipython",
    "version": 3
   },
   "file_extension": ".py",
   "mimetype": "text/x-python",
   "name": "python",
   "nbconvert_exporter": "python",
   "pygments_lexer": "ipython3",
   "version": "3.8.12"
  }
 },
 "nbformat": 4,
 "nbformat_minor": 5
}
