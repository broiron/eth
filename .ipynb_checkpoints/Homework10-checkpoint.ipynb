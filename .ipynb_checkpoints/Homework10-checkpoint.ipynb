{
 "cells": [
  {
   "cell_type": "markdown",
   "id": "fdfdd8d7",
   "metadata": {},
   "source": [
    "# (0). Source Code"
   ]
  },
  {
   "cell_type": "markdown",
   "id": "068cad05",
   "metadata": {},
   "source": [
    "//SPDX-License-Identifier: GPL-3.0-or-later\n",
    "pragma solidity ^0.8.0;\n",
    "\n",
    "contract StudentsCrud {\n",
    "    struct Student {\n",
    "        uint num;\n",
    "        string name;\n",
    "        bool e;\n",
    "    }\n",
    "    Student[] Students;\n",
    "    uint length = Students.length;\n",
    "\n",
    "    function insert (uint num, string memory name, bool e) public {\n",
    "        Student memory s = Student(num, name, e);\n",
    "        Students.push(s);\n",
    "        length ++;\n",
    "    }\n",
    "    function getFirstStudent() public view returns(uint, string memory, bool) {\n",
    "        return (Students[0].num, Students[0].name, Students[0].e);\n",
    "    }\n",
    "    function findBy(uint8 index) view public returns(uint, string memory, bool) {\n",
    "        return (Students[index].num, Students[index].name, Students[index].e);\n",
    "    }\n",
    "    function remove(uint index) public {\n",
    "        delete Students[index];\n",
    "        length--;\n",
    "    }\n",
    "    function getLength() view public returns(uint) {\n",
    "        return length;\n",
    "    }\n",
    "    function pop() public {\n",
    "        Students.pop();\n",
    "        length--;\n",
    "    }\n",
    "}"
   ]
  },
  {
   "cell_type": "markdown",
   "id": "bd83b245",
   "metadata": {},
   "source": [
    "# (1). 학생 list 입력"
   ]
  },
  {
   "cell_type": "markdown",
   "id": "0e968557",
   "metadata": {},
   "source": [
    "\n",
    "[vm]from: 0x5B3...eddC4to: StudentsCrud.insert(uint256,string,bool) 0x358...D5eE3value: 0 weidata: 0xf07...00000logs: 0hash: 0x820...20db6\n",
    "Debug\n",
    "status\ttrue Transaction mined and execution succeed\n",
    "transaction hash\t0x82096a45501dc5297d7fbbe94fbcaed039f50c46f7b56d1055bd2d7d84720db6\n",
    "from\t0x5B38Da6a701c568545dCfcB03FcB875f56beddC4\n",
    "to\tStudentsCrud.insert(uint256,string,bool) 0x358AA13c52544ECCEF6B0ADD0f801012ADAD5eE3\n",
    "gas\t131937 gas\n",
    "transaction cost\t114727 gas \n",
    "execution cost\t114727 gas \n",
    "input\t0xf07...00000\n",
    "decoded input\t{\n",
    "\t\"uint256 num\": \"201711111\",\n",
    "\t\"string name\": \"kim\",\n",
    "\t\"bool e\": false\n",
    "}\n",
    "decoded output\t{}\n",
    "logs\t[]\n",
    "val\t0 wei\n",
    "\n",
    "\n",
    "\n",
    "[vm]from: 0x5B3...eddC4to: StudentsCrud.insert(uint256,string,bool) 0x358...D5eE3value: 0 weidata: 0xf07...00000logs: 0hash: 0x0b0...4a8f6\n",
    "Debug\n",
    "status\ttrue Transaction mined and execution succeed\n",
    "transaction hash\t0x0b093041853d360c6eccae47b6479bfaa138580844d5a8d57e65cc075b04a8f6\n",
    "from\t0x5B38Da6a701c568545dCfcB03FcB875f56beddC4\n",
    "to\tStudentsCrud.insert(uint256,string,bool) 0x358AA13c52544ECCEF6B0ADD0f801012ADAD5eE3\n",
    "gas\t115519 gas\n",
    "transaction cost\t100451 gas \n",
    "execution cost\t100451 gas \n",
    "input\t0xf07...00000\n",
    "decoded input\t{\n",
    "\t\"uint256 num\": \"201711112\",\n",
    "\t\"string name\": \"park\",\n",
    "\t\"bool e\": true\n",
    "}\n",
    "decoded output\t{}\n",
    "logs\t[]\n",
    "val\t0 wei\n",
    "\n",
    "\n",
    "\n",
    "[vm]from: 0x5B3...eddC4to: StudentsCrud.insert(uint256,string,bool) 0x358...D5eE3value: 0 weidata: 0xf07...00000logs: 0hash: 0xe7e...97a5b\n",
    "Debug\n",
    "status\ttrue Transaction mined and execution succeed\n",
    "transaction hash\t0xe7ec459bf8fcd75284b4dd6b6bc2c463d50fe60e4cd179772db5c7f328097a5b\n",
    "from\t0x5B38Da6a701c568545dCfcB03FcB875f56beddC4\n",
    "to\tStudentsCrud.insert(uint256,string,bool) 0x358AA13c52544ECCEF6B0ADD0f801012ADAD5eE3\n",
    "gas\t92607 gas\n",
    "transaction cost\t80527 gas \n",
    "execution cost\t80527 gas \n",
    "input\t0xf07...00000\n",
    "decoded input\t{\n",
    "\t\"uint256 num\": \"201711113\",\n",
    "\t\"string name\": \"lee\",\n",
    "\t\"bool e\": false\n",
    "}\n",
    "decoded output\t{}\n",
    "logs\t[]\n",
    "val\t0 wei\n",
    "\n",
    "\n",
    "\n",
    "[vm]from: 0x5B3...eddC4to: StudentsCrud.insert(uint256,string,bool) 0x358...D5eE3value: 0 weidata: 0xf07...00000logs: 0hash: 0x0d1...7a937\n",
    "Debug\n",
    "status\ttrue Transaction mined and execution succeed\n",
    "transaction hash\t0x0d12f26c66e290b6e13f8d1da50b67d79a46bedcb2c18eaa6a995f2e83b7a937\n",
    "from\t0x5B38Da6a701c568545dCfcB03FcB875f56beddC4\n",
    "to\tStudentsCrud.insert(uint256,string,bool) 0x358AA13c52544ECCEF6B0ADD0f801012ADAD5eE3\n",
    "gas\t92607 gas\n",
    "transaction cost\t80527 gas \n",
    "execution cost\t80527 gas \n",
    "input\t0xf07...00000\n",
    "decoded input\t{\n",
    "\t\"uint256 num\": \"201711114\",\n",
    "\t\"string name\": \"lim\",\n",
    "\t\"bool e\": false\n",
    "}\n",
    "decoded output\t{}\n",
    "logs\t[]\n",
    "val\t0 wei"
   ]
  },
  {
   "cell_type": "markdown",
   "id": "4c84f350",
   "metadata": {},
   "source": [
    "# (2) 2번째 데이터 201711112 제거"
   ]
  },
  {
   "cell_type": "markdown",
   "id": "a3e08d0a",
   "metadata": {},
   "source": [
    "[vm]from: 0x5B3...eddC4to: StudentsCrud.remove(uint256) 0x358...D5eE3value: 0 weidata: 0x4cc...00002logs: 0hash: 0xbac...0aca2\n",
    "Debug\n",
    "status\ttrue Transaction mined and execution succeed\n",
    "transaction hash\t0xbaca9c843f9eb8f705033e26bdfea6c6b4340ce16685d67ef05e212700d0aca2\n",
    "from\t0x5B38Da6a701c568545dCfcB03FcB875f56beddC4\n",
    "to\tStudentsCrud.remove(uint256) 0x358AA13c52544ECCEF6B0ADD0f801012ADAD5eE3\n",
    "gas\t49157 gas\n",
    "transaction cost\t33145 gas \n",
    "execution cost\t33145 gas \n",
    "input\t0x4cc...00002\n",
    "decoded input\t{\n",
    "\t\"uint256 index\": \"2\"\n",
    "}\n",
    "decoded output\t{}\n",
    "logs\t[]\n",
    "val\t0 wei"
   ]
  },
  {
   "cell_type": "markdown",
   "id": "327aab7a",
   "metadata": {},
   "source": [
    "# (3) 배열크기 조회 (4개 항목에서 1개가 제거되었으니 3이 출력)"
   ]
  },
  {
   "cell_type": "markdown",
   "id": "9a6506e8",
   "metadata": {},
   "source": [
    "call to StudentsCrud.getLength\n",
    "CALL\n",
    "[call]from: 0x5B38Da6a701c568545dCfcB03FcB875f56beddC4to: StudentsCrud.getLength()data: 0xbe1...c766b\n",
    "Debug\n",
    "from\t0x5B38Da6a701c568545dCfcB03FcB875f56beddC4\n",
    "to\tStudentsCrud.getLength() 0x358AA13c52544ECCEF6B0ADD0f801012ADAD5eE3\n",
    "execution cost\t23545 gas (Cost only applies when called by a contract)\n",
    "input\t0xbe1...c766b\n",
    "decoded input\t{}\n",
    "decoded output\t{\n",
    "\t\"0\": \"uint256: 3\"\n",
    "}\n",
    "logs\t[]"
   ]
  },
  {
   "cell_type": "markdown",
   "id": "844eacd7",
   "metadata": {},
   "source": [
    "# (4) 2 번째 데이터조회를 조회한다. 20171112는 삭제되어서 출력할 수 없고, 다른 데이터 항목이 출력."
   ]
  },
  {
   "cell_type": "markdown",
   "id": "5c2269ac",
   "metadata": {},
   "source": [
    "call to StudentsCrud.findBy\n",
    "CALL\n",
    "[call]from: 0x5B38Da6a701c568545dCfcB03FcB875f56beddC4to: StudentsCrud.findBy(uint8)data: 0xedf...00002\n",
    "Debug\n",
    "from\t0x5B38Da6a701c568545dCfcB03FcB875f56beddC4\n",
    "to\tStudentsCrud.findBy(uint8) 0x358AA13c52544ECCEF6B0ADD0f801012ADAD5eE3\n",
    "execution cost\t31822 gas (Cost only applies when called by a contract)\n",
    "input\t0xedf...00002\n",
    "decoded input\t{\n",
    "\t\"uint8 index\": 2\n",
    "}\n",
    "decoded output\t{\n",
    "\t\"0\": \"uint256: 0\",\n",
    "\t\"1\": \"string: \",\n",
    "\t\"2\": \"bool: false\"\n",
    "}\n",
    "logs\t[]"
   ]
  },
  {
   "cell_type": "markdown",
   "id": "8145801e",
   "metadata": {},
   "source": [
    "# (5) 첫 데이터 조회"
   ]
  },
  {
   "cell_type": "markdown",
   "id": "a27d4999",
   "metadata": {},
   "source": [
    "call to StudentsCrud.getFirstStudent\n",
    "CALL\n",
    "[call]from: 0x5B38Da6a701c568545dCfcB03FcB875f56beddC4to: StudentsCrud.getFirstStudent()data: 0xacb...e8cee\n",
    "Debug\n",
    "from\t0x5B38Da6a701c568545dCfcB03FcB875f56beddC4\n",
    "to\tStudentsCrud.getFirstStudent() 0x358AA13c52544ECCEF6B0ADD0f801012ADAD5eE3\n",
    "execution cost\t31618 gas (Cost only applies when called by a contract)\n",
    "input\t0xacb...e8cee\n",
    "decoded input\t{}\n",
    "decoded output\t{\n",
    "\t\"0\": \"uint256: 201711111\",\n",
    "\t\"1\": \"string: kim\",\n",
    "\t\"2\": \"bool: false\"\n",
    "}\n",
    "logs\t[]"
   ]
  }
 ],
 "metadata": {
  "kernelspec": {
   "display_name": "opcv",
   "language": "python",
   "name": "opcv"
  },
  "language_info": {
   "codemirror_mode": {
    "name": "ipython",
    "version": 3
   },
   "file_extension": ".py",
   "mimetype": "text/x-python",
   "name": "python",
   "nbconvert_exporter": "python",
   "pygments_lexer": "ipython3",
   "version": "3.8.12"
  }
 },
 "nbformat": 4,
 "nbformat_minor": 5
}
