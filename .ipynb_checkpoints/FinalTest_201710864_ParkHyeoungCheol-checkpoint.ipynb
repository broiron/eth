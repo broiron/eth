{
 "cells": [
  {
   "cell_type": "markdown",
   "id": "61cdaf97",
   "metadata": {},
   "source": [
    "# 201710864 박형철"
   ]
  },
  {
   "cell_type": "markdown",
   "id": "e52051e3",
   "metadata": {},
   "source": [
    "https://ipfs.io/ipfs/QmWifTgpQQeDSvqPWNsMYRQbk33MzXUCjCx34XDsEP9yZY\n",
    "https://ipfs.io/ipfs/QmczZnAmTMDXrr5EREH9zdeoKAWsGTRzSFiC6nPNg642Fi"
   ]
  },
  {
   "cell_type": "markdown",
   "id": "07f09493",
   "metadata": {},
   "source": [
    "# (1) solution"
   ]
  },
  {
   "cell_type": "markdown",
   "id": "c24b4142",
   "metadata": {},
   "source": [
    "[vm]from: 0x5B3...eddC4to: MyNFT1.mintWithURI(address,string) 0xd8b...33fa8value: 0 weidata: 0x0e9...00000logs: 1hash: 0xb09...4e191\n",
    "Debug\n",
    "status\ttrue Transaction mined and execution succeed\n",
    "transaction hash\t0xb09f3824494e329f27d0adfaeaf28b547d9f6f2b865684e2f3504a4331c4e191\n",
    "from\t0x5B38Da6a701c568545dCfcB03FcB875f56beddC4\n",
    "to\tMyNFT1.mintWithURI(address,string) 0xd8b934580fcE35a11B58C6D73aDeE468a2833fa8\n",
    "gas\t171371 gas\n",
    "transaction cost\t149018 gas \n",
    "execution cost\t149018 gas \n",
    "input\t0x0e9...00000\n",
    "decoded input\t{\n",
    "\t\"address to\": \"0xAb8483F64d9C6d1EcF9b849Ae677dD3315835cb2\",\n",
    "\t\"string tokenURI\": \"https://ipfs.io/ipfs/QmWifTgpQQeDSvqPWNsMYRQbk33MzXUCjCx34XDsEP9yZY\"\n",
    "}\n",
    "decoded output\t{\n",
    "\t\"0\": \"uint256: 3\"\n",
    "}\n",
    "logs\t[\n",
    "\t{\n",
    "\t\t\"from\": \"0xd8b934580fcE35a11B58C6D73aDeE468a2833fa8\",\n",
    "\t\t\"topic\": \"0xddf252ad1be2c89b69c2b068fc378daa952ba7f163c4a11628f55a4df523b3ef\",\n",
    "\t\t\"event\": \"Transfer\",\n",
    "\t\t\"args\": {\n",
    "\t\t\t\"0\": \"0x0000000000000000000000000000000000000000\",\n",
    "\t\t\t\"1\": \"0xAb8483F64d9C6d1EcF9b849Ae677dD3315835cb2\",\n",
    "\t\t\t\"2\": \"3\",\n",
    "\t\t\t\"from\": \"0x0000000000000000000000000000000000000000\",\n",
    "\t\t\t\"to\": \"0xAb8483F64d9C6d1EcF9b849Ae677dD3315835cb2\",\n",
    "\t\t\t\"tokenId\": \"3\"\n",
    "\t\t}\n",
    "\t}\n",
    "]\n",
    "val\t0 wei"
   ]
  },
  {
   "cell_type": "markdown",
   "id": "a1c5c032",
   "metadata": {},
   "source": [
    "# (2) solution"
   ]
  },
  {
   "cell_type": "markdown",
   "id": "4bb26600",
   "metadata": {},
   "source": [
    "[vm]from: 0x5B3...eddC4to: MyNFT1.mintWithURI(address,string) 0xd8b...33fa8value: 0 weidata: 0x0e9...00000logs: 1hash: 0x4ea...467e1\n",
    "Debug\n",
    "status\ttrue Transaction mined and execution succeed\n",
    "transaction hash\t0x4eabf53381ed97452b9d5567a620c4a85d325a5161922554259c15e5c15467e1\n",
    "from\t0x5B38Da6a701c568545dCfcB03FcB875f56beddC4\n",
    "to\tMyNFT1.mintWithURI(address,string) 0xd8b934580fcE35a11B58C6D73aDeE468a2833fa8\n",
    "gas\t191036 gas\n",
    "transaction cost\t166118 gas \n",
    "execution cost\t166118 gas \n",
    "input\t0x0e9...00000\n",
    "decoded input\t{\n",
    "\t\"address to\": \"0x4B20993Bc481177ec7E8f571ceCaE8A9e22C02db\",\n",
    "\t\"string tokenURI\": \"https://ipfs.io/ipfs/QmczZnAmTMDXrr5EREH9zdeoKAWsGTRzSFiC6nPNg642Fi\"\n",
    "}\n",
    "decoded output\t{\n",
    "\t\"0\": \"uint256: 4\"\n",
    "}\n",
    "logs\t[\n",
    "\t{\n",
    "\t\t\"from\": \"0xd8b934580fcE35a11B58C6D73aDeE468a2833fa8\",\n",
    "\t\t\"topic\": \"0xddf252ad1be2c89b69c2b068fc378daa952ba7f163c4a11628f55a4df523b3ef\",\n",
    "\t\t\"event\": \"Transfer\",\n",
    "\t\t\"args\": {\n",
    "\t\t\t\"0\": \"0x0000000000000000000000000000000000000000\",\n",
    "\t\t\t\"1\": \"0x4B20993Bc481177ec7E8f571ceCaE8A9e22C02db\",\n",
    "\t\t\t\"2\": \"4\",\n",
    "\t\t\t\"from\": \"0x0000000000000000000000000000000000000000\",\n",
    "\t\t\t\"to\": \"0x4B20993Bc481177ec7E8f571ceCaE8A9e22C02db\",\n",
    "\t\t\t\"tokenId\": \"4\"\n",
    "\t\t}\n",
    "\t}\n",
    "]\n",
    "val\t0 wei"
   ]
  },
  {
   "cell_type": "markdown",
   "id": "79db0824",
   "metadata": {},
   "source": [
    "# (3) solution"
   ]
  },
  {
   "cell_type": "markdown",
   "id": "067494dd",
   "metadata": {},
   "source": [
    "[vm]from: 0xAb8...35cb2to: MyNFT1.mintWithIdURI(uint256,address,string) 0xd8b...33fa8value: 0 weidata: 0x93d...00000logs: 0hash: 0x90c...4d94e\n",
    "Debug\n",
    "status\tfalse Transaction mined but execution failed\n",
    "transaction hash\t0x90c05caf2e30df37da35f04983de1a62ad2aeaada8b73104de53d3de2064d94e\n",
    "from\t0xAb8483F64d9C6d1EcF9b849Ae677dD3315835cb2\n",
    "to\tMyNFT1.mintWithIdURI(uint256,address,string) 0xd8b934580fcE35a11B58C6D73aDeE468a2833fa8\n",
    "gas\t3000000 gas\n",
    "transaction cost\t27136 gas \n",
    "execution cost\t27136 gas \n",
    "input\t0x93d...00000\n",
    "decoded input\t{\n",
    "\t\"uint256 _id\": \"1\",\n",
    "\t\"address to\": \"0xAb8483F64d9C6d1EcF9b849Ae677dD3315835cb2\",\n",
    "\t\"string tokenURI\": \"https://ipfs.io/ipfs/QmWifTgpQQeDSvqPWNsMYRQbk33MzXUCjCx34XDsEP9yZY\"\n",
    "}\n",
    "decoded output\t{\n",
    "\t\"0\": \"uint256: 3963877391197344453575983046348115674221700746820753546331534351508065746944\"\n",
    "}\n",
    "logs\t[]\n",
    "val\t0 wei\n",
    "transact to MyNFT1.mintWithIdURI errored: VM error: revert.\n",
    "\n",
    "revert\n",
    "\tThe transaction has been reverted to the initial state.\n",
    "Reason provided by the contract: \"ERC721: token already minted\".\n",
    "Debug the transaction to get more information."
   ]
  },
  {
   "cell_type": "markdown",
   "id": "58e515c7",
   "metadata": {},
   "source": [
    "# (4) solution"
   ]
  },
  {
   "cell_type": "markdown",
   "id": "97362c94",
   "metadata": {},
   "source": [
    "CALL\n",
    "[call]from: 0xAb8483F64d9C6d1EcF9b849Ae677dD3315835cb2to: MyNFT1.ownerOf(uint256)data: 0x635...00001\n",
    "Debug\n",
    "from\t0xAb8483F64d9C6d1EcF9b849Ae677dD3315835cb2\n",
    "to\tMyNFT1.ownerOf(uint256) 0xd8b934580fcE35a11B58C6D73aDeE468a2833fa8\n",
    "execution cost\t24231 gas (Cost only applies when called by a contract)\n",
    "input\t0x635...00001\n",
    "decoded input\t{\n",
    "\t\"uint256 tokenId\": \"1\"\n",
    "}\n",
    "decoded output\t{\n",
    "\t\"0\": \"address: 0xAb8483F64d9C6d1EcF9b849Ae677dD3315835cb2\"\n",
    "}\n",
    "logs\t[]"
   ]
  },
  {
   "cell_type": "markdown",
   "id": "97887d80",
   "metadata": {},
   "source": [
    "# (5) 번 - no solution"
   ]
  },
  {
   "cell_type": "code",
   "execution_count": null,
   "id": "1a5a85f0",
   "metadata": {},
   "outputs": [],
   "source": []
  },
  {
   "cell_type": "code",
   "execution_count": 9,
   "id": "8b83a089",
   "metadata": {
    "scrolled": true
   },
   "outputs": [
    {
     "name": "stdout",
     "output_type": "stream",
     "text": [
      "Overwriting src/MyNFT.sol\n"
     ]
    }
   ],
   "source": [
    "%%writefile src/MyNFT.sol\n",
    "// SPDX-License-Identifier: MIT\n",
    "pragma solidity ^0.8.0;\n",
    "\n",
    "import \"@openzeppelin/contracts/token/ERC721/extensions/ERC721URIStorage.sol\";\n",
    "//import \"https://github.com/OpenZeppelin/openzeppelin-contracts/blob/v4.4.0/contracts/token/ERC721/extensions/ERC721URIStorage.sol\";\n",
    "import \"@openzeppelin/contracts/utils/Counters.sol\";\n",
    "//import \"https://github.com/OpenZeppelin/openzeppelin-contracts/blob/v4.4.0/contracts/utils/Counters.sol\";\n",
    "import \"@openzeppelin/contracts/access/Ownable.sol\";\n",
    "//import \"https://github.com/nibbstack/erc721/blob/2.6.1/src/contracts/ownership/ownable.sol\";\n",
    "\n",
    "contract MyNFT is ERC721URIStorage, Ownable {\n",
    "    using Counters for Counters.Counter; \n",
    "\t\n",
    "    Counters.Counter private _tokenIds;\t//NFT id\n",
    "\n",
    "    constructor() ERC721 (\"Hello DApp Screens\", \"JSL\") {}\n",
    "\n",
    "    struct Item {\n",
    "        address ownerAdd;\n",
    "        address nowOwnerAdd;\n",
    "        uint256 price;\n",
    "        string tokenURI;\n",
    "        uint256 time;\n",
    "    }\n",
    "    Item[] Items;\n",
    "    mapping(uint256 => Item) public tokenIdToItem;\n",
    "\n",
    "    function mintWithURI(address to, string memory tokenURI) public returns(uint256)\n",
    "    {\n",
    "        _tokenIds.increment();\n",
    "        uint256 newTokenId = _tokenIds.current();\n",
    "        _mint(to, newTokenId);\n",
    "        _setTokenURI(newTokenId, tokenURI);\n",
    "        return newTokenId;\n",
    "    }\n",
    "    function mintWithIdURI(uint256 _id, address to, string memory tokenURI) public returns(uint256)\n",
    "    {\n",
    "        _mint(to, _id);\n",
    "        _setTokenURI(_id, tokenURI);\n",
    "        return _id;\n",
    "    }\n",
    "    function myTransfer(address from, address to, uint256 _tokenId) public\n",
    "    {\n",
    "        transferFrom(from, to, _tokenId);\n",
    "    }\n",
    "    function setTokenIdToItem(uint256 _id, address _o, address _to, uint256 _p, string memory _uri, uint256 _t) public\n",
    "    {\n",
    "        tokenIdToItem[_id].ownerAdd = _o;\n",
    "        tokenIdToItem[_id].nowOwnerAdd = _to;\n",
    "        tokenIdToItem[_id].price = _p;\n",
    "        tokenIdToItem[_id].tokenURI = _uri;\n",
    "        tokenIdToItem[_id].time = _t;\n",
    "        Items.push(tokenIdToItem[_id]);\n",
    "    }\n",
    "    function getTokenIdToItem(uint256 tokenId) public view returns (address, address, uint256, string memory, uint256)\n",
    "    {\n",
    "        return (tokenIdToItem[tokenId].ownerAdd, tokenIdToItem[tokenId].nowOwnerAdd, tokenIdToItem[tokenId].price, tokenIdToItem[tokenId].tokenURI, tokenIdToItem[tokenId].time);\n",
    "    }\n",
    "\n",
    "    function getItemLength() public view returns (uint256)\n",
    "    {\n",
    "        return Items.length;\n",
    "    }\n",
    "    function getOwner() view public returns(address) {\n",
    "        return owner();\n",
    "    }\n",
    "\n",
    "    function getTokenURI(uint256 tokenId) view public returns(string memory)\n",
    "    {\n",
    "        return tokenIdToItem[tokenId].tokenURI;\n",
    "    }\n",
    "\n",
    "    function getTotalSupply() view public returns (uint256 tokenId) {\n",
    "        return _tokenIds.current();\n",
    "    }\n",
    "}"
   ]
  },
  {
   "cell_type": "markdown",
   "id": "0a74abb6",
   "metadata": {},
   "source": [
    "# (6) solution"
   ]
  },
  {
   "cell_type": "code",
   "execution_count": 10,
   "id": "847719b3",
   "metadata": {},
   "outputs": [],
   "source": [
    "!solc @openzeppelin/=\"/Users/broiron/Code/201710864/node_modules/@openzeppelin/\" --optimize --combined-json abi,bin src/MyNFT.sol > src/MyNFT.json"
   ]
  },
  {
   "cell_type": "code",
   "execution_count": 11,
   "id": "d45358e4",
   "metadata": {},
   "outputs": [
    {
     "name": "stdout",
     "output_type": "stream",
     "text": [
      "Writing src/MyNFTDeploy.js\n"
     ]
    }
   ],
   "source": [
    "%%writefile src/MyNFTDeploy.js\n",
    "var Web3 = require('web3');\n",
    "var _abiBinJson = require('./MyNFT.json');      //importing a javascript file\n",
    "\n",
    "var web3 = new Web3(new Web3.providers.HttpProvider(\"http://localhost:8345\"));\n",
    "\n",
    "contractName=Object.keys(_abiBinJson.contracts);\n",
    "console.log(contractName);\n",
    "console.log(contractName[12]);"
   ]
  },
  {
   "cell_type": "code",
   "execution_count": 12,
   "id": "ebcc9f5b",
   "metadata": {
    "scrolled": true
   },
   "outputs": [
    {
     "name": "stdout",
     "output_type": "stream",
     "text": [
      "[\r\n",
      "  \u001b[32m'/Users/broiron/Code/201710864/node_modules/@openzeppelin/contracts/access/Ownable.sol:Ownable'\u001b[39m,\r\n",
      "  \u001b[32m'/Users/broiron/Code/201710864/node_modules/@openzeppelin/contracts/token/ERC721/ERC721.sol:ERC721'\u001b[39m,\r\n",
      "  \u001b[32m'/Users/broiron/Code/201710864/node_modules/@openzeppelin/contracts/token/ERC721/IERC721.sol:IERC721'\u001b[39m,\r\n",
      "  \u001b[32m'/Users/broiron/Code/201710864/node_modules/@openzeppelin/contracts/token/ERC721/IERC721Receiver.sol:IERC721Receiver'\u001b[39m,\r\n",
      "  \u001b[32m'/Users/broiron/Code/201710864/node_modules/@openzeppelin/contracts/token/ERC721/extensions/ERC721URIStorage.sol:ERC721URIStorage'\u001b[39m,\r\n",
      "  \u001b[32m'/Users/broiron/Code/201710864/node_modules/@openzeppelin/contracts/token/ERC721/extensions/IERC721Metadata.sol:IERC721Metadata'\u001b[39m,\r\n",
      "  \u001b[32m'/Users/broiron/Code/201710864/node_modules/@openzeppelin/contracts/utils/Address.sol:Address'\u001b[39m,\r\n",
      "  \u001b[32m'/Users/broiron/Code/201710864/node_modules/@openzeppelin/contracts/utils/Context.sol:Context'\u001b[39m,\r\n",
      "  \u001b[32m'/Users/broiron/Code/201710864/node_modules/@openzeppelin/contracts/utils/Counters.sol:Counters'\u001b[39m,\r\n",
      "  \u001b[32m'/Users/broiron/Code/201710864/node_modules/@openzeppelin/contracts/utils/Strings.sol:Strings'\u001b[39m,\r\n",
      "  \u001b[32m'/Users/broiron/Code/201710864/node_modules/@openzeppelin/contracts/utils/introspection/ERC165.sol:ERC165'\u001b[39m,\r\n",
      "  \u001b[32m'/Users/broiron/Code/201710864/node_modules/@openzeppelin/contracts/utils/introspection/IERC165.sol:IERC165'\u001b[39m,\r\n",
      "  \u001b[32m'src/MyNFT.sol:MyNFT'\u001b[39m\r\n",
      "]\r\n",
      "src/MyNFT.sol:MyNFT\r\n"
     ]
    }
   ],
   "source": [
    "!node src/MyNFTDeploy.js"
   ]
  },
  {
   "cell_type": "code",
   "execution_count": 17,
   "id": "1142142a",
   "metadata": {},
   "outputs": [
    {
     "name": "stdout",
     "output_type": "stream",
     "text": [
      "Overwriting src/MyNFTDeploy.js\n"
     ]
    }
   ],
   "source": [
    "%%writefile src/MyNFTDeploy.js\n",
    "var Web3 = require('web3');\n",
    "var _abiBinJson = require('./MyNFT.json');      //importing a javascript file\n",
    "\n",
    "var web3 = new Web3(new Web3.providers.HttpProvider(\"http://localhost:8345\"));\n",
    "\n",
    "contractName=Object.keys(_abiBinJson.contracts);\n",
    "//console.log(contractName);\n",
    "console.log(contractName[13]);\n",
    "_abiArray=_abiBinJson.contracts[contractName[12]].abi;\n",
    "_bin=\"0x\"+_abiBinJson.contracts[contractName[12]].bin;\n",
    "async function deploy() {\n",
    "    const accounts = await web3.eth.getAccounts();\n",
    "    console.log(\"Deploying the contract from \" + accounts[0]);\n",
    "    var deployed = await new web3.eth.Contract(_abiArray)\n",
    "        .deploy({data: _bin})\n",
    "        .send({from: accounts[0], gas: 3800000}, function(err, transactionHash) {\n",
    "                if(!err) console.log(\"hash: \" + transactionHash); \n",
    "        })\n",
    "        //.then(function(newContractInstance){\n",
    "        //    console.log(newContractInstance)\n",
    "        //});\n",
    "    console.log(\"(7) solution\")\n",
    "    console.log(\"---> The contract deployed to: \" + deployed.options.address)\n",
    "}\n",
    "deploy()"
   ]
  },
  {
   "cell_type": "markdown",
   "id": "dfbb06cd",
   "metadata": {},
   "source": [
    "# (7) solution"
   ]
  },
  {
   "cell_type": "code",
   "execution_count": 18,
   "id": "deed2082",
   "metadata": {
    "scrolled": true
   },
   "outputs": [
    {
     "name": "stdout",
     "output_type": "stream",
     "text": [
      "\u001b[90mundefined\u001b[39m\n",
      "Deploying the contract from 0xC5a20588567e23dBD0ed353c6755b9806ce722D9\n",
      "hash: 0x59b6bacd5e00f3875df41f0231f0518fd10e75d5d2413be37991c31a17bfe414\n",
      "(7) solution\n",
      "---> The contract deployed to: 0x6590a509a4f1B93A1632BaF0F9CAf196cdb17EDA\n"
     ]
    }
   ],
   "source": [
    "!node src/MyNFTDeploy.js"
   ]
  },
  {
   "cell_type": "code",
   "execution_count": 36,
   "id": "8da8c18e",
   "metadata": {},
   "outputs": [
    {
     "name": "stdout",
     "output_type": "stream",
     "text": [
      "Overwriting src/MyNFTUse.js\n"
     ]
    }
   ],
   "source": [
    "%%writefile src/MyNFTUse.js\n",
    "\n",
    "var Web3 = require('web3');\n",
    "var _abiBinJson = require('./MyNFT.json');      //importing a javascript file\n",
    "\n",
    "var web3 = new Web3(new Web3.providers.HttpProvider(\"http://localhost:8345\"));\n",
    "\n",
    "contractName=Object.keys(_abiBinJson.contracts);\n",
    "_abiArray=_abiBinJson.contracts[contractName[12]].abi;\n",
    "_bin=\"0x\"+_abiBinJson.contracts[contractName[12]].bin;\n",
    "var _nft = new web3.eth.Contract(_abiArray,\"0x6590a509a4f1B93A1632BaF0F9CAf196cdb17EDA\");\n",
    "var event = _nft.events.Transfer({fromBlock: 0}, function (error, result) {\n",
    "    if (!error) {\n",
    "        console.log(\"Event fired: \" + JSON.stringify(result.returnValues));\n",
    "    }\n",
    "});\n",
    "async function doIt() {\n",
    "    const accounts = await web3.eth.getAccounts();\n",
    "    var addrFrom = accounts[0];\n",
    "    var owner = await _nft.methods.getOwner().call();\n",
    "    var addrTo = accounts[1];\n",
    "    var uri1 = \"https://ipfs.io/ipfs/QmWifTgpQQeDSvqPWNsMYRQbk33MzXUCjCx34XDsEP9yZY\";\n",
    "    var uri2 = \"https://ipfs.io/ipfs/QmczZnAmTMDXrr5EREH9zdeoKAWsGTRzSFiC6nPNg642Fi\"\n",
    "    await _nft.methods.mintWithURI(addrTo,uri1).send({from: accounts[0], gas: 1000000});\n",
    "    console.log(\"(8) minting from \" + addrFrom + \" to \" + addrTo);\n",
    "    await _nft.methods.mintWithURI(accounts[2],uri2).send({from: accounts[0],gas: 1000000});\n",
    "    console.log(\"(9) minting from \" + addrFrom + \" to \" + accounts[2]);\n",
    "        \n",
    "    //process.exit(1); //force exit\n",
    "}\n",
    "doIt()"
   ]
  },
  {
   "cell_type": "markdown",
   "id": "12d3fbe5",
   "metadata": {},
   "source": [
    "# (8) + (9) solution"
   ]
  },
  {
   "cell_type": "code",
   "execution_count": 37,
   "id": "591e11b3",
   "metadata": {
    "scrolled": true
   },
   "outputs": [
    {
     "name": "stdout",
     "output_type": "stream",
     "text": [
      "(8) minting from 0xC5a20588567e23dBD0ed353c6755b9806ce722D9 to 0xE2A43b7Bf74EeDCDE8666498D921623a13D6837f\r\n",
      "(9) minting from 0xC5a20588567e23dBD0ed353c6755b9806ce722D9 to 0x2f977f56e1f1D40f5C762a79538455f3ca885a6F\r\n"
     ]
    }
   ],
   "source": [
    "!node src/MyNFTUse.js"
   ]
  },
  {
   "cell_type": "markdown",
   "id": "4e4bce4c",
   "metadata": {},
   "source": [
    "# (10) ~ (19) no solution"
   ]
  },
  {
   "cell_type": "code",
   "execution_count": null,
   "id": "40860f6d",
   "metadata": {},
   "outputs": [],
   "source": []
  }
 ],
 "metadata": {
  "kernelspec": {
   "display_name": "opcv",
   "language": "python",
   "name": "opcv"
  },
  "language_info": {
   "codemirror_mode": {
    "name": "ipython",
    "version": 3
   },
   "file_extension": ".py",
   "mimetype": "text/x-python",
   "name": "python",
   "nbconvert_exporter": "python",
   "pygments_lexer": "ipython3",
   "version": "3.8.12"
  }
 },
 "nbformat": 4,
 "nbformat_minor": 5
}
