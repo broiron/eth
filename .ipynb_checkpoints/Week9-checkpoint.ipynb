{
 "cells": [
  {
   "cell_type": "code",
   "execution_count": 1,
   "id": "5cd7baf9",
   "metadata": {},
   "outputs": [
    {
     "name": "stdout",
     "output_type": "stream",
     "text": [
      "Writing src/SimpleChild.sol\n"
     ]
    }
   ],
   "source": [
    "%%writefile src/SimpleChild.sol\n",
    "//SPDX-License-Identifier: GPL-3.0-or-later\n",
    "pragma solidity ^0.8.0;\n",
    "\n",
    "contract Parent {\n",
    "    //state variables\n",
    "    address owner; //as of 0.8.0 no need to be address payable owner;\n",
    "    uint private counter;\n",
    "    \n",
    "    //constructor. no need for constructor to be public as of 0.7.0\n",
    "    constructor() {\n",
    "        owner = msg.sender;\n",
    "        counter = 0;\n",
    "    }\n",
    "    //functions\n",
    "    function add() public { counter++; }\n",
    "    function getCounter() public view returns(uint) { return counter; }\n",
    "}\n",
    "\n",
    "contract SimpleChild is Parent {\n",
    "    //state variables\n",
    "    string nickName;\n",
    "    mapping(address => uint) private balances;\n",
    "    //event\n",
    "    event PrintLog(address, uint);\n",
    "    \n",
    "    //constructor\n",
    "    constructor() {}  // no public as in constructor() public {}  \n",
    "    //functions\n",
    "    function setNickName(string memory s) public { nickName = s; }\n",
    "    function getNickName() public view returns(string memory) { return nickName; }\n",
    "    function deposit() public payable {\n",
    "        balances[msg.sender] += msg.value;\n",
    "        emit PrintLog(msg.sender, msg.value);\n",
    "    }\n",
    "    function queryBalance() public view returns (uint) {\n",
    "        return balances[msg.sender];\n",
    "    }\n",
    "    //access non-private members of the parent\n",
    "    function kill() public {\n",
    "        if (msg.sender == owner) selfdestruct(payable(owner)); //0.6.x selfdestruct(owner)\n",
    "    }\n",
    "}"
   ]
  },
  {
   "cell_type": "code",
   "execution_count": 2,
   "id": "edddebf6",
   "metadata": {},
   "outputs": [
    {
     "name": "stdout",
     "output_type": "stream",
     "text": [
      "\r\n",
      "======= src/SimpleChild.sol:Parent =======\r\n",
      "Gas estimation:\r\n",
      "construction:\r\n",
      "   29403 + 72200 = 101603\r\n",
      "external:\r\n",
      "   add():\t24482\r\n",
      "   getCounter():\t2437\r\n",
      "Binary:\r\n",
      "608060405234801561001057600080fd5b50336000806101000a81548173ffffffffffffffffffffffffffffffffffffffff021916908373ffffffffffffffffffffffffffffffffffffffff1602179055506000600181905550610169806100686000396000f3fe608060405234801561001057600080fd5b50600436106100365760003560e01c80634f2be91f1461003b5780638ada066e14610045575b600080fd5b610043610063565b005b61004d61007d565b60405161005a91906100a0565b60405180910390f35b60016000815480929190610076906100ea565b9190505550565b6000600154905090565b6000819050919050565b61009a81610087565b82525050565b60006020820190506100b56000830184610091565b92915050565b7f4e487b7100000000000000000000000000000000000000000000000000000000600052601160045260246000fd5b60006100f582610087565b91507fffffffffffffffffffffffffffffffffffffffffffffffffffffffffffffffff821415610128576101276100bb565b5b60018201905091905056fea264697066735822122052f760e241fbd6c667b3a56a00d83c3809b1c63dac6200085563effb89cb513264736f6c634300080c0033\r\n",
      "Contract JSON ABI\r\n",
      "[{\"inputs\":[],\"stateMutability\":\"nonpayable\",\"type\":\"constructor\"},{\"inputs\":[],\"name\":\"add\",\"outputs\":[],\"stateMutability\":\"nonpayable\",\"type\":\"function\"},{\"inputs\":[],\"name\":\"getCounter\",\"outputs\":[{\"internalType\":\"uint256\",\"name\":\"\",\"type\":\"uint256\"}],\"stateMutability\":\"view\",\"type\":\"function\"}]\r\n",
      "\r\n",
      "======= src/SimpleChild.sol:SimpleChild =======\r\n",
      "Gas estimation:\r\n",
      "construction:\r\n",
      "   29754 + 435400 = 465154\r\n",
      "external:\r\n",
      "   add():\t24549\r\n",
      "   deposit():\tinfinite\r\n",
      "   getCounter():\t2459\r\n",
      "   getNickName():\tinfinite\r\n",
      "   kill():\t32069\r\n",
      "   queryBalance():\t2527\r\n",
      "   setNickName(string):\tinfinite\r\n",
      "Binary:\r\n",
      "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\r\n",
      "Contract JSON ABI\r\n",
      "[{\"inputs\":[],\"stateMutability\":\"nonpayable\",\"type\":\"constructor\"},{\"anonymous\":false,\"inputs\":[{\"indexed\":false,\"internalType\":\"address\",\"name\":\"\",\"type\":\"address\"},{\"indexed\":false,\"internalType\":\"uint256\",\"name\":\"\",\"type\":\"uint256\"}],\"name\":\"PrintLog\",\"type\":\"event\"},{\"inputs\":[],\"name\":\"add\",\"outputs\":[],\"stateMutability\":\"nonpayable\",\"type\":\"function\"},{\"inputs\":[],\"name\":\"deposit\",\"outputs\":[],\"stateMutability\":\"payable\",\"type\":\"function\"},{\"inputs\":[],\"name\":\"getCounter\",\"outputs\":[{\"internalType\":\"uint256\",\"name\":\"\",\"type\":\"uint256\"}],\"stateMutability\":\"view\",\"type\":\"function\"},{\"inputs\":[],\"name\":\"getNickName\",\"outputs\":[{\"internalType\":\"string\",\"name\":\"\",\"type\":\"string\"}],\"stateMutability\":\"view\",\"type\":\"function\"},{\"inputs\":[],\"name\":\"kill\",\"outputs\":[],\"stateMutability\":\"nonpayable\",\"type\":\"function\"},{\"inputs\":[],\"name\":\"queryBalance\",\"outputs\":[{\"internalType\":\"uint256\",\"name\":\"\",\"type\":\"uint256\"}],\"stateMutability\":\"view\",\"type\":\"function\"},{\"inputs\":[{\"internalType\":\"string\",\"name\":\"s\",\"type\":\"string\"}],\"name\":\"setNickName\",\"outputs\":[],\"stateMutability\":\"nonpayable\",\"type\":\"function\"}]\r\n"
     ]
    }
   ],
   "source": [
    "!solc --abi --bin --gas src/SimpleChild.sol"
   ]
  },
  {
   "cell_type": "code",
   "execution_count": 3,
   "id": "812ecc02",
   "metadata": {},
   "outputs": [
    {
     "name": "stdout",
     "output_type": "stream",
     "text": [
      "Writing src/IntBool.sol\n"
     ]
    }
   ],
   "source": [
    "%%writefile src/IntBool.sol\n",
    "//SPDX-License-Identifier: GPL-3.0-or-later\n",
    "pragma solidity ^0.8.0;\n",
    "\n",
    "contract IntBoolTest {\n",
    "    bool married = true;\n",
    "    uint256 xAge = 22;\n",
    "    uint256 yAge = 25;\n",
    "    fixed phi; // = 3.14;\n",
    "    function update() public {\n",
    "        xAge = yAge;\n",
    "        yAge = 33;\n",
    "    }\n",
    "    function setXAge(int age) public {\n",
    "        xAge = uint(age);  //type conversion\n",
    "    }\n",
    "    function getXAge() public view returns(uint) {\n",
    "        return xAge;\n",
    "    }\n",
    "    function getYAge() public view returns(uint) {\n",
    "        return yAge;\n",
    "    }\n",
    "    function testInt() public view returns(bool) {\n",
    "        assert(xAge>=20 && yAge>=20); //assert: 값이 그 안에 없다면 예외 발생\n",
    "        return true;\n",
    "    }\n",
    "    function isMarried() public view returns(bool) {\n",
    "        return married;\n",
    "    }\n",
    "}"
   ]
  },
  {
   "cell_type": "code",
   "execution_count": null,
   "id": "f238c39f",
   "metadata": {},
   "outputs": [],
   "source": []
  },
  {
   "cell_type": "code",
   "execution_count": null,
   "id": "1261284f",
   "metadata": {},
   "outputs": [],
   "source": []
  },
  {
   "cell_type": "code",
   "execution_count": null,
   "id": "8ab70514",
   "metadata": {},
   "outputs": [],
   "source": []
  },
  {
   "cell_type": "code",
   "execution_count": null,
   "id": "248ed021",
   "metadata": {},
   "outputs": [],
   "source": []
  }
 ],
 "metadata": {
  "kernelspec": {
   "display_name": "opcv",
   "language": "python",
   "name": "opcv"
  },
  "language_info": {
   "codemirror_mode": {
    "name": "ipython",
    "version": 3
   },
   "file_extension": ".py",
   "mimetype": "text/x-python",
   "name": "python",
   "nbconvert_exporter": "python",
   "pygments_lexer": "ipython3",
   "version": "3.8.12"
  }
 },
 "nbformat": 4,
 "nbformat_minor": 5
}
