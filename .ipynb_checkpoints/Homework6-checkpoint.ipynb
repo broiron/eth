{
 "cells": [
  {
   "cell_type": "code",
   "execution_count": 5,
   "id": "63d61438",
   "metadata": {},
   "outputs": [
    {
     "name": "stdout",
     "output_type": "stream",
     "text": [
      "Overwriting src/getMyAddr.js\n"
     ]
    }
   ],
   "source": [
    "%%writefile src/getMyAddr.js\n",
    "var Web3 = require('web3');\n",
    "var web3 = new Web3(new Web3.providers.HttpProvider(\"http://localhost:8345\"))\n",
    "var myAddr0;\n",
    "web3.eth.getAccounts().then(console.log);"
   ]
  },
  {
   "cell_type": "code",
   "execution_count": 6,
   "id": "8575ec57",
   "metadata": {
    "scrolled": false
   },
   "outputs": [
    {
     "name": "stdout",
     "output_type": "stream",
     "text": [
      "[\r\n",
      "  \u001b[32m'0x6F973e6C3758Bd4445dB01ed92A33Fe6f148e7A5'\u001b[39m,\r\n",
      "  \u001b[32m'0x81a2b2d710d27FBcD27F9302cB817391e1EeBf1A'\u001b[39m,\r\n",
      "  \u001b[32m'0x51e2F499C470a001Df7Ce425199672AC0976C880'\u001b[39m,\r\n",
      "  \u001b[32m'0x272204473C2C2075796478f9C274dAe8242cDf0C'\u001b[39m,\r\n",
      "  \u001b[32m'0xfA9B2207C95ac52Ac74f38973687bA78Be5687c5'\u001b[39m,\r\n",
      "  \u001b[32m'0x84bBC19d00A123D6ac829e84630a1C81a1659374'\u001b[39m,\r\n",
      "  \u001b[32m'0x5924eB5661d95Dc0Bb68dBdCBdF05637febD9Af2'\u001b[39m,\r\n",
      "  \u001b[32m'0xA45067ad39A64D799E10BA3F4070a136C33B19B7'\u001b[39m,\r\n",
      "  \u001b[32m'0x9926fe81Df9A33f86Cad600233A11d900ac24432'\u001b[39m,\r\n",
      "  \u001b[32m'0x987817c83D44cA3D273F8BDc2f2B6276986B07cB'\u001b[39m\r\n",
      "]\r\n"
     ]
    }
   ],
   "source": [
    "!node src/getMyAddr.js"
   ]
  },
  {
   "cell_type": "code",
   "execution_count": 7,
   "id": "1cac4d07",
   "metadata": {},
   "outputs": [
    {
     "name": "stdout",
     "output_type": "stream",
     "text": [
      "Overwriting src/HelloSnowman.sol\n"
     ]
    }
   ],
   "source": [
    "%%writefile src/HelloSnowman.sol\n",
    "pragma solidity ^0.8.0;\n",
    "\n",
    "contract Hello {\n",
    "    function sayHello() pure public returns(string memory) {\n",
    "        return \"Hello, Snowman\";\n",
    "    }\n",
    "}"
   ]
  },
  {
   "cell_type": "code",
   "execution_count": 8,
   "id": "3dd67cbf",
   "metadata": {
    "scrolled": true
   },
   "outputs": [
    {
     "name": "stdout",
     "output_type": "stream",
     "text": [
      "\u001b[1m\u001b[33mWarning\u001b[0m\u001b[1m\u001b[37m: SPDX license identifier not provided in source file. Before publishing, consider adding a comment containing \"SPDX-License-Identifier: <SPDX-License>\" to each source file. Use \"SPDX-License-Identifier: UNLICENSED\" for non-open-source code. Please see https://spdx.org for more information.\r\n",
      "\u001b[0m\u001b[1m\u001b[34m-->\u001b[0m src/HelloSnowman.sol\r\n",
      "\r\n",
      "\r\n",
      "======= src/HelloSnowman.sol:Hello =======\r\n",
      "Gas estimation:\r\n",
      "construction:\r\n",
      "   123 + 76000 = 76123\r\n",
      "external:\r\n",
      "   sayHello():\tinfinite\r\n",
      "Binary:\r\n",
      "608060405234801561001057600080fd5b5061017c806100206000396000f3fe608060405234801561001057600080fd5b506004361061002b5760003560e01c8063ef5fb05b14610030575b600080fd5b61003861004e565b6040516100459190610124565b60405180910390f35b60606040518060400160405280600e81526020017f48656c6c6f2c20536e6f776d616e000000000000000000000000000000000000815250905090565b600081519050919050565b600082825260208201905092915050565b60005b838110156100c55780820151818401526020810190506100aa565b838111156100d4576000848401525b50505050565b6000601f19601f8301169050919050565b60006100f68261008b565b6101008185610096565b93506101108185602086016100a7565b610119816100da565b840191505092915050565b6000602082019050818103600083015261013e81846100eb565b90509291505056fea26469706673582212200c958cd76e9425c2e281fa325d43390c4995cde9b23344fc1050a7888b291c4c64736f6c634300080c0033\r\n",
      "Contract JSON ABI\r\n",
      "[{\"inputs\":[],\"name\":\"sayHello\",\"outputs\":[{\"internalType\":\"string\",\"name\":\"\",\"type\":\"string\"}],\"stateMutability\":\"pure\",\"type\":\"function\"}]\r\n"
     ]
    }
   ],
   "source": [
    "!solc --abi --bin --gas src/HelloSnowman.sol"
   ]
  },
  {
   "cell_type": "code",
   "execution_count": 11,
   "id": "d7bf6e08",
   "metadata": {},
   "outputs": [
    {
     "name": "stdout",
     "output_type": "stream",
     "text": [
      "Overwriting src/HelloDeploy.js\n"
     ]
    }
   ],
   "source": [
    "%%writefile src/HelloDeploy.js\n",
    "var Web3 = require('web3');\n",
    "var web3;\n",
    "if (typeof web3 != 'undefined') {\n",
    "    web3 = new Web3(web3.currentProvider);\n",
    "} else {\n",
    "    web3 = new Web3(new Web3.providers.HttpProvider(\"http://localhost:8345\"));\n",
    "}\n",
    "\n",
    "var _abiArray = [{\"inputs\":[],\"name\":\"sayHello\",\"outputs\":[{\"internalType\":\"string\",\"name\":\"\",\"type\":\"string\"}],\"stateMutability\":\"pure\",\"type\":\"function\"}];\n",
    "var _bin = \"608060405234801561001057600080fd5b5061017c806100206000396000f3fe608060405234801561001057600080fd5b506004361061002b5760003560e01c8063ef5fb05b14610030575b600080fd5b61003861004e565b6040516100459190610124565b60405180910390f35b60606040518060400160405280600e81526020017f48656c6c6f2c20536e6f776d616e000000000000000000000000000000000000815250905090565b600081519050919050565b600082825260208201905092915050565b60005b838110156100c55780820151818401526020810190506100aa565b838111156100d4576000848401525b50505050565b6000601f19601f8301169050919050565b60006100f68261008b565b6101008185610096565b93506101108185602086016100a7565b610119816100da565b840191505092915050565b6000602082019050818103600083015261013e81846100eb565b90509291505056fea26469706673582212200c958cd76e9425c2e281fa325d43390c4995cde9b23344fc1050a7888b291c4c64736f6c634300080c0033\";\n",
    "\n",
    "var _contract = new web3.eth.Contract(_abiArray);\n",
    "_contract\n",
    "    .deploy({data:\"0x\"+_bin})\n",
    "    .send({\n",
    "    from: \"0x6F973e6C3758Bd4445dB01ed92A33Fe6f148e7A5\",\n",
    "    gas: '4700000'\n",
    "    }, function (error, transactionHash){\n",
    "            console.log(error, transactionHash); \n",
    "    })\n",
    "    .then(function(newContractInstance){\n",
    "        console.log(newContractInstance.options.address) //contract 주소 출력\n",
    "    });"
   ]
  },
  {
   "cell_type": "code",
   "execution_count": 12,
   "id": "dd5274ff",
   "metadata": {
    "scrolled": false
   },
   "outputs": [
    {
     "name": "stdout",
     "output_type": "stream",
     "text": [
      "\u001b[1mnull\u001b[22m 0x9bde4beab442c05db50863b58412956360aad085ce0b76056d50534013075cae\r\n",
      "0xB3cCB71Fd915498a1D9EaEbECB8da421899B3128\r\n"
     ]
    }
   ],
   "source": [
    "!node src/HelloDeploy.js"
   ]
  },
  {
   "cell_type": "code",
   "execution_count": 16,
   "id": "3f960a23",
   "metadata": {
    "scrolled": true
   },
   "outputs": [
    {
     "name": "stdout",
     "output_type": "stream",
     "text": [
      "Overwriting src/HelloUse.js\n"
     ]
    }
   ],
   "source": [
    "%%writefile src/HelloUse.js\n",
    "var Web3 = require('web3');\n",
    "var web3 = new Web3(new Web3.providers.HttpProvider(\"http://localhost:8345\"));\n",
    "var shelloContract = new web3.eth.Contract([{\"inputs\":[],\"name\":\"sayHello\",\"outputs\":[{\"internalType\":\"string\",\"name\":\"\",\"type\":\"string\"}],\"stateMutability\":\"pure\",\"type\":\"function\"}],\n",
    "                                      \"0xB3cCB71Fd915498a1D9EaEbECB8da421899B3128\");\n",
    "shelloContract.methods.sayHello().call().then(function(str) {console.log(str);});"
   ]
  },
  {
   "cell_type": "code",
   "execution_count": 17,
   "id": "1fc96c00",
   "metadata": {
    "scrolled": true
   },
   "outputs": [
    {
     "name": "stdout",
     "output_type": "stream",
     "text": [
      "Hello, Snowman\r\n"
     ]
    }
   ],
   "source": [
    "!node src/HelloUse.js"
   ]
  },
  {
   "cell_type": "markdown",
   "id": "23bb9ace",
   "metadata": {},
   "source": [
    "## Web3 DAPP 배포"
   ]
  },
  {
   "cell_type": "code",
   "execution_count": 19,
   "id": "8f697e58",
   "metadata": {},
   "outputs": [
    {
     "name": "stdout",
     "output_type": "stream",
     "text": [
      "Writing scripts/simpleCoinbase.html\n"
     ]
    }
   ],
   "source": [
    "%%writefile scripts/simpleCoinbase.html\n",
    "<!doctype>\n",
    "<html>\n",
    "<head>\n",
    "<script src=\"https://cdn.jsdelivr.net/npm/web3@1.2.5/dist/web3.min.js\"></script>\n",
    "<!-- script src=\"https://cdn.jsdelivr.net/npm/web3@0.20.5/dist/web3.min.js\"></script -->\n",
    "<script type=\"text/javascript\">\n",
    "    //var Web3 = require('web3');  //can be removed\n",
    "    var web3 = new Web3(new Web3.providers.HttpProvider(\"http://localhost:8345\"));\n",
    "\n",
    "    function displayCoinbase() {\n",
    "        var web3version = web3.version;  //web3.version.api\n",
    "        //web3@0.20.x\n",
    "        //document.getElementById('web3ver').innerText = 'web3 version 0.20.x: '+web3version.api;\n",
    "        //document.getElementById('web3coinbase').innerText = 'coinbase: ' + web3.eth.coinbase;\n",
    "        //web3@1.2.x\n",
    "        document.getElementById('web3ver').innerText = 'web3 version: '+web3version;\n",
    "        web3.eth.getCoinbase().then(function(coin) {\n",
    "            document.getElementById('web3coinbase').innerText = 'coinbase: ' + coin;\n",
    "            });\n",
    "    }\n",
    "</script>\n",
    "</head>\n",
    "<body>\n",
    "    <h1>Hello</h1>\n",
    "    <button type=\"button\" onClick=\"displayCoinbase();\">Display Coinbase</button>\n",
    "    <div></div>\n",
    "    <div id=\"web3ver\"></div>\n",
    "    <div id=\"web3coinbase\"></div>\n",
    "</body>\n",
    "</html>"
   ]
  },
  {
   "cell_type": "code",
   "execution_count": 20,
   "id": "65674a35",
   "metadata": {},
   "outputs": [
    {
     "name": "stdout",
     "output_type": "stream",
     "text": [
      "Writing scripts/hello.html\n"
     ]
    }
   ],
   "source": [
    "%%writefile scripts/hello.html\n",
    "<!doctype>\n",
    "<html>\n",
    "<head>\n",
    "<script src=\"https://cdn.jsdelivr.net/npm/web3@1.2.5/dist/web3.min.js\"></script>\n",
    "<!-- script src=\"https://cdn.jsdelivr.net/npm/web3@0.20.5/dist/web3.min.js\"></script -->\n",
    "<script type=\"text/javascript\">\n",
    "    //var Web3 = require('web3');  //can be removed\n",
    "    var web3 = new Web3(new Web3.providers.HttpProvider(\"http://localhost:8345\"));\n",
    "\n",
    "    function displayHello() {\n",
    "        var web3version = web3.version;  //web3.version.api\n",
    "        //web3@0.20.x\n",
    "        //var shelloContract = web3.eth.contract([{\"inputs\":[],\"name\":\"sayHello\",\"outputs\":[{\"internalType\":\"string\",\"name\":\"\",\"type\":\"string\"}],\"stateMutability\":\"pure\",\"type\":\"function\"}]);\n",
    "        //var hello = shelloContract.at(\"0x0d3C29cAD3c40497699e13CC34bA099E1fe426Ba\");\n",
    "        //var hello=hello.sayHello.call();\n",
    "        //document.getElementById('sayhello').innerText = \"The message from blockchain: \" + hello;\n",
    "        //document.getElementById('web3ver').innerText = 'web3 version 0.20.x: '+web3version.api;\n",
    "        //document.getElementById('web3coinbase').innerText = 'coinbase: ' + web3.eth.coinbase;\n",
    "\n",
    "        //web3@1.2.x - can not instanciate a contract\n",
    "        var shelloContract = new web3.eth.Contract([{\"inputs\":[],\"name\":\"sayHello\",\"outputs\":[{\"internalType\":\"string\",\"name\":\"\",\"type\":\"string\"}],\"stateMutability\":\"pure\",\"type\":\"function\"}],\n",
    "                                      \"0xB3cCB71Fd915498a1D9EaEbECB8da421899B3128\");\n",
    "        shelloContract.methods.sayHello().call().then(function(str) {\n",
    "            document.getElementById('sayhello').innerText = \"The message from blockchain: \" + str;\n",
    "        });\n",
    "        document.getElementById('web3ver').innerText = '*web3 version: '+web3version;\n",
    "        web3.eth.getCoinbase().then(function(coin) {\n",
    "            document.getElementById('web3coinbase').innerText = 'coinbase: ' + coin;\n",
    "            });\n",
    "    }\n",
    "</script>\n",
    "</head>\n",
    "<body>\n",
    "    <h1>Hello</h1>\n",
    "    <button type=\"button\" onClick=\"displayHello();\">Display Hello</button>\n",
    "    <div></div>\n",
    "    <div id=\"sayhello\"></div>\n",
    "    <div id=\"web3ver\"></div>\n",
    "    <div id=\"web3coinbase\"></div>\n",
    "</body>\n",
    "</html>"
   ]
  },
  {
   "cell_type": "markdown",
   "id": "e14ef35e",
   "metadata": {},
   "source": [
    "# 작동원리\n",
    "## 입출력을 웹 서버에서 진행하고, 처리는 블록체인에서 진행한다."
   ]
  },
  {
   "cell_type": "code",
   "execution_count": null,
   "id": "38b1d0ab",
   "metadata": {},
   "outputs": [],
   "source": []
  }
 ],
 "metadata": {
  "kernelspec": {
   "display_name": "opcv",
   "language": "python",
   "name": "opcv"
  },
  "language_info": {
   "codemirror_mode": {
    "name": "ipython",
    "version": 3
   },
   "file_extension": ".py",
   "mimetype": "text/x-python",
   "name": "python",
   "nbconvert_exporter": "python",
   "pygments_lexer": "ipython3",
   "version": "3.8.12"
  }
 },
 "nbformat": 4,
 "nbformat_minor": 5
}
