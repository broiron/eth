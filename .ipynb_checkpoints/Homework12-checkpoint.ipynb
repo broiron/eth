{
 "cells": [
  {
   "cell_type": "markdown",
   "id": "bc3beb03",
   "metadata": {},
   "source": [
    "# (1) REMIX에서 주문하고, 이벤트 발생하는지 보이도록 콘솔 출력 붙여넣으세요."
   ]
  },
  {
   "cell_type": "markdown",
   "id": "0d7ee0d9",
   "metadata": {},
   "source": [
    "[vm]from: 0x5B3...eddC4to: OrderEvent.order(bytes2,uint256,uint256,string) 0xd8b...33fa8value: 300 weidata: 0x5a2...00000logs: 3hash: 0x0b9...ac887\n",
    "status\ttrue Transaction mined and execution succeed\n",
    "transaction hash\t0x0b99707f0069465cdd5a8bc0bd37645a8af981e515b5c4da3bd37ef2998ac887\n",
    "from\t0x5B38Da6a701c568545dCfcB03FcB875f56beddC4\n",
    "to\tOrderEvent.order(bytes2,uint256,uint256,string) 0xd8b934580fcE35a11B58C6D73aDeE468a2833fa8\n",
    "gas\t111384 gas\n",
    "transaction cost\t96855 gas \n",
    "execution cost\t96855 gas \n",
    "input\t0x5a2...00000\n",
    "decoded input\t{\n",
    "\t\"bytes2 _itemId_\": \"0x1111\",\n",
    "\t\"uint256 quantity\": \"3\",\n",
    "\t\"uint256 unitPrice_\": \"100\",\n",
    "\t\"string add_\": \"2-gil Hongji-dong Jongro-gu Seoul\"\n",
    "}\n",
    "decoded output\t{}\n",
    "logs\t[\n",
    "\t{\n",
    "\t\t\"from\": \"0xd8b934580fcE35a11B58C6D73aDeE468a2833fa8\",\n",
    "\t\t\"topic\": \"0xb9e815be6bf0b588396af8fa0244c9f92e26ad4dbf3694c09d90b0cc9f2be8e5\",\n",
    "\t\t\"event\": \"OrderLog\",\n",
    "\t\t\"args\": {\n",
    "\t\t\t\"0\": \"Ordered\"\n",
    "\t\t}\n",
    "\t},\n",
    "\t{\n",
    "\t\t\"from\": \"0xd8b934580fcE35a11B58C6D73aDeE468a2833fa8\",\n",
    "\t\t\"topic\": \"0x2fb1e4e17675a393b0a43253759334f7e61806d1ac2690f0432362ed1c4c1611\",\n",
    "\t\t\"event\": \"OrderLog\",\n",
    "\t\t\"args\": {\n",
    "\t\t\t\"0\": \"1653818070\",\n",
    "\t\t\t\"timestamp\": \"1653818070\"\n",
    "\t\t}\n",
    "\t},\n",
    "\t{\n",
    "\t\t\"from\": \"0xd8b934580fcE35a11B58C6D73aDeE468a2833fa8\",\n",
    "\t\t\"topic\": \"0x538006ae16981d84b66e084c148f73553be69e4290d2c7bbb61abec6284186c1\",\n",
    "\t\t\"event\": \"OrderLog\",\n",
    "\t\t\"args\": {\n",
    "\t\t\t\"0\": \"0x5B38Da6a701c568545dCfcB03FcB875f56beddC4\",\n",
    "\t\t\t\"1\": \"0x1111\",\n",
    "\t\t\t\"2\": \"3\",\n",
    "\t\t\t\"3\": \"100\",\n",
    "\t\t\t\"4\": \"2-gil Hongji-dong Jongro-gu Seoul\",\n",
    "\t\t\t\"_from\": \"0x5B38Da6a701c568545dCfcB03FcB875f56beddC4\",\n",
    "\t\t\t\"_itemId\": \"0x1111\",\n",
    "\t\t\t\"quantity\": \"3\",\n",
    "\t\t\t\"unitprice\": \"100\",\n",
    "\t\t\t\"add\": \"2-gil Hongji-dong Jongro-gu Seoul\"\n",
    "\t\t}\n",
    "\t}\n",
    "]\n",
    "val\t300 wei"
   ]
  },
  {
   "cell_type": "markdown",
   "id": "b49b4b8f",
   "metadata": {},
   "source": [
    "# (2) 파일로 컴파일 하세요."
   ]
  },
  {
   "cell_type": "code",
   "execution_count": 38,
   "id": "5c88064d",
   "metadata": {},
   "outputs": [
    {
     "name": "stdout",
     "output_type": "stream",
     "text": [
      "Overwriting src/OrderEvent.sol\n"
     ]
    }
   ],
   "source": [
    "%%writefile src/OrderEvent.sol\n",
    "//SPDX-License-Identifier: GPL-3.0-or-later\n",
    "pragma solidity ^0.8.0;\n",
    "\n",
    "contract OrderEvent {\n",
    "    \n",
    "    address owner;\n",
    "    uint balance;\n",
    "    uint unitPrice;\n",
    "    bytes2 _itemId;\n",
    "    string add; \n",
    "\n",
    "    //event OrderLog(string);\n",
    "    event OrderLog(bytes2 _itemId, uint _value);\n",
    "    //event OrderLog(uint256 timestamp);\n",
    "    event OrderLog(address indexed _from, bytes2 _itemId, uint indexed quantity, uint indexed unitprice, string add);\n",
    "\n",
    "    constructor() {\n",
    "        owner = msg.sender;\n",
    "        balance = 0;\n",
    "    }\n",
    "\n",
    "    function order(bytes2 _itemId_, uint quantity, uint unitPrice_, string memory add_) public payable {\n",
    "        \n",
    "        unitPrice = unitPrice_;\n",
    "        add = add_;\n",
    "        _itemId = _itemId_;\n",
    "\n",
    "        //uint256 orderTime = block.timestamp;\n",
    "        uint256 orderAmount = quantity * unitPrice;\n",
    "        require(msg.value == orderAmount);\n",
    "        balance += orderAmount;\n",
    "        //emit OrderLog(\"Ordered\");\n",
    "        //emit OrderLog(orderTime);\n",
    "        //주소, 상품항목번호, 주문개수, 단가, 배송지\n",
    "        emit OrderLog(msg.sender, _itemId, quantity, unitPrice, add);\n",
    "    }\n",
    "\n",
    "    function getBalance() public view onlyOwner returns(uint, uint) {\n",
    "        return (balance, address(this).balance);\n",
    "    }\n",
    "    \n",
    "    modifier onlyOwner {\n",
    "        require(msg.sender==owner);\n",
    "        _;\n",
    "    }\n",
    "    \n",
    "\n",
    "}"
   ]
  },
  {
   "cell_type": "code",
   "execution_count": 39,
   "id": "f7530574",
   "metadata": {},
   "outputs": [],
   "source": [
    "!solc --optimize --combined-json abi,bin src/OrderEvent.sol > src/OrderEvent.json"
   ]
  },
  {
   "cell_type": "markdown",
   "id": "21a5217a",
   "metadata": {},
   "source": [
    "# (3) ganache에서 배포하세요."
   ]
  },
  {
   "cell_type": "code",
   "execution_count": 40,
   "id": "d48774ef",
   "metadata": {},
   "outputs": [
    {
     "name": "stdout",
     "output_type": "stream",
     "text": [
      "Overwriting src/OrderEventDeploy.js\n"
     ]
    }
   ],
   "source": [
    "%%writefile src/OrderEventDeploy.js\n",
    "var Web3 = require('web3');\n",
    "var _abiBinJson = require('./OrderEvent.json');      //importing a javascript file\n",
    "\n",
    "var web3 = new Web3(new Web3.providers.HttpProvider(\"http://localhost:8345\"));\n",
    "\n",
    "contractName=Object.keys(_abiBinJson.contracts); // reading ['src/OrderEvent.sol:OrderEvent']\n",
    "console.log(\"- contract name: \", contractName);\n",
    "_abiArray=_abiBinJson.contracts[contractName].abi;\n",
    "_abiArray=JSON.parse(JSON.stringify(_abiArray));\n",
    "//_abiArray=JSON.parse(_abi);      //JSON parsing needed!! //SyntaxError: Unexpected token o in JSON at position 1\n",
    "_bin=_abiBinJson.contracts[contractName].bin;\n",
    "\n",
    "//console.log(\"- ABI: \" + _abiArray);\n",
    "//console.log(\"- Bytecode: \" + _bin);\n",
    "\n",
    "async function deploy() {\n",
    "    const accounts = await web3.eth.getAccounts();\n",
    "    console.log(\"Deploying the contract from \" + accounts[0]);\n",
    "    var deployed = await new web3.eth.Contract(_abiArray)\n",
    "        .deploy({data: \"0x\"+_bin})\n",
    "        .send({from: accounts[0], gas: 600000}, function(err, transactionHash) {\n",
    "                if(!err) console.log(\"hash: \" + transactionHash); \n",
    "        })\n",
    "        //.then(function(newContractInstance){\n",
    "        //    console.log(newContractInstance)\n",
    "        //});\n",
    "    console.log(\"---> The contract deployed to: \" + deployed.options.address)\n",
    "}\n",
    "deploy()"
   ]
  },
  {
   "cell_type": "code",
   "execution_count": 41,
   "id": "c8b67e4d",
   "metadata": {},
   "outputs": [
    {
     "name": "stdout",
     "output_type": "stream",
     "text": [
      "- contract name:  [ \u001b[32m'src/OrderEvent.sol:OrderEvent'\u001b[39m ]\r\n",
      "Deploying the contract from 0xc2670dDa2aB09110fA5097402a9C5Dc856603D7D\r\n",
      "hash: 0x60c057894e69209b30a4ce405064f0cdc97e0467fd4896ae9d4aa759b94bea44\r\n",
      "---> The contract deployed to: 0xb8Cf4A0104759636aB490CFc4ce56E6751a411F7\r\n"
     ]
    }
   ],
   "source": [
    "!node src/OrderEventDeploy.js"
   ]
  },
  {
   "cell_type": "markdown",
   "id": "1ce30f52",
   "metadata": {},
   "source": [
    "# (4) 주문을 3건만 하고, 이벤트를 통해 다음과 같이 출력하세요."
   ]
  },
  {
   "cell_type": "code",
   "execution_count": 42,
   "id": "66ee8caa",
   "metadata": {},
   "outputs": [
    {
     "name": "stdout",
     "output_type": "stream",
     "text": [
      "Overwriting src/OrderEventUse.js\n"
     ]
    }
   ],
   "source": [
    "%%writefile src/OrderEventUse.js\n",
    "var Web3=require('web3');\n",
    "var fs = require('fs');\n",
    "var _abiBinJson = require('./OrderEvent.json');      //importing a javascript file\n",
    "\n",
    "var web3 = new Web3(new Web3.providers.WebsocketProvider(\"ws://localhost:8345\"));\n",
    "contractName=Object.keys(_abiBinJson.contracts); // reading ['src/OrderEvent.sol:OrderEvent']\n",
    "//console.log(\"- contract name: \", contractName); //or console.log(contractName[0]);\n",
    "_abiArray=_abiBinJson.contracts[contractName].abi; //use just as read from file\n",
    "//_abiArray=JSON.parse(JSON.stringify(_abi));\n",
    "//_abiArray=JSON.parse(_abi);      //JSON parsing needed!!\n",
    "//_bin=_abiBinJson.contracts[contractName].bin;\n",
    "console.log(\"- ABI: \" + _abiArray);\n",
    "//console.log(\"- Bytecode: \" + _bin);\n",
    "//var _test = new web3.eth.Contract(_abiArray,\"0xb8Cf4A0104759636aB490CFc4ce56E6751a411F7\");\n",
    "//var event = _test.events.MyLog({fromBlock: 0}, function (error, result) {\n",
    "//    if (!error) {\n",
    "//        console.log(\"Event fired: \" + JSON.stringify(result.returnValues));\n",
    "//    }\n",
    "//});\n",
    "\n",
    "async function doIt() {\n",
    "    var _order = new web3.eth.Contract(_abiArray, '0xb8Cf4A0104759636aB490CFc4ce56E6751a411F7');\n",
    "    const accounts = await web3.eth.getAccounts();\n",
    "    console.log(\"Account: \" + accounts[0]);\n",
    "    var event = _order.events.OrderLog({\n",
    "            //filter: {_from: accounts[0], _value: [20,50]},\n",
    "            filter: {_from: accounts[0], _value: 30},\n",
    "            fromBlock: 'latest', toBlock: 'pending'\n",
    "        }, function (error, result) {\n",
    "        if (!error) {\n",
    "            log = JSON.stringify(result.returnValues);\n",
    "            //console.log(\"Event fired: \" + JSON.stringify(result) + \"\\n---> \" + JSON.stringify(result.returnValues));\n",
    "            console.log(\"Event fired: \" + log);\n",
    "            fs.appendFile(\"src/OrderEvent.txt\", log, \"utf-8\", function(e) {\n",
    "                if(!e) {\n",
    "                    console.log(\">> Writing to file\");\n",
    "                    }\n",
    "                });\n",
    "            }\n",
    "    });\n",
    "    \n",
    "    var value;\n",
    "    const balanceBefore = await web3.eth.getBalance(accounts[0]);\n",
    "    console.log(\"Balance before: \" + balanceBefore);\n",
    "    // this will fire an event\n",
    "    my = await _order.methods.order(\"0x1111\", 3, 100, \"Hongji-dong Jongro-gu Seoul\")\n",
    "        .send({from: accounts[0], gas: 600000, value:300})\n",
    "        //.then(function(my) {console.log(\"---> MyFunction called \" + JSON.stringify(my.events.OrderLog.returnValues));});\n",
    "    console.log(\"---> MyFunction called \" + JSON.stringify(my.events.OrderLog.returnValues));\n",
    "    // this will fire another event\n",
    "    my = await _order.methods.order(\"0x1111\", 5, 100, \"Hongji-dong Jongro-gu Seoul\")\n",
    "        .send({from: accounts[0], gas: 600000, value:500});\n",
    "    console.log(\"---> MyFunction called \" + JSON.stringify(my.events.OrderLog.returnValues));\n",
    "    // this will NOT fire another event\n",
    "    my = await _order.methods.order(\"0x1111\", 20, 100, \"Hongji-dong Jongro-gu Seoul\")\n",
    "        .send({from: accounts[0], gas: 600000, value:2000});\n",
    "    console.log(\"---> MyFunction called \" + JSON.stringify(my.events.OrderLog.returnValues));\n",
    "    const balanceAfter = await web3.eth.getBalance(accounts[0]);\n",
    "    console.log(\"Balance after: \" + balanceAfter);\n",
    "    console.log(\"Balance diff: \" + (balanceBefore - balanceAfter));\n",
    "    \n",
    "    _order.methods.getBalance().call().then(function(err, bal) {\n",
    "        if(!err) {\n",
    "            console.log(\"Contract Balance:\" +bal[0] + \"    this.bal:\"+bal[1]);\n",
    "        \n",
    "        }\n",
    "    });\n",
    "    \n",
    "    process.exit(1); //force exit to disconnect websocket\n",
    "}\n",
    "\n",
    "doIt()"
   ]
  },
  {
   "cell_type": "code",
   "execution_count": 45,
   "id": "15729669",
   "metadata": {},
   "outputs": [
    {
     "name": "stdout",
     "output_type": "stream",
     "text": [
      "- ABI: [object Object],[object Object],[object Object],[object Object],[object Object]\r\n",
      "Account: 0xc2670dDa2aB09110fA5097402a9C5Dc856603D7D\r\n",
      "Invalid option: toBlock. Use getPastEvents for specific range.\r\n",
      "Balance before: 999992370053300171047\r\n",
      "Event fired: {\"0\":\"0xc2670dDa2aB09110fA5097402a9C5Dc856603D7D\",\"1\":\"0x1111\",\"2\":\"3\",\"3\":\"100\",\"4\":\"Hongji-dong Jongro-gu Seoul\",\"_from\":\"0xc2670dDa2aB09110fA5097402a9C5Dc856603D7D\",\"_itemId\":\"0x1111\",\"quantity\":\"3\",\"unitprice\":\"100\",\"add\":\"Hongji-dong Jongro-gu Seoul\"}\r\n",
      "---> MyFunction called {\"0\":\"0xc2670dDa2aB09110fA5097402a9C5Dc856603D7D\",\"1\":\"0x1111\",\"2\":\"3\",\"3\":\"100\",\"4\":\"Hongji-dong Jongro-gu Seoul\",\"_from\":\"0xc2670dDa2aB09110fA5097402a9C5Dc856603D7D\",\"_itemId\":\"0x1111\",\"quantity\":\"3\",\"unitprice\":\"100\",\"add\":\"Hongji-dong Jongro-gu Seoul\"}\r\n",
      ">> Writing to file\r\n",
      "Event fired: {\"0\":\"0xc2670dDa2aB09110fA5097402a9C5Dc856603D7D\",\"1\":\"0x1111\",\"2\":\"5\",\"3\":\"100\",\"4\":\"Hongji-dong Jongro-gu Seoul\",\"_from\":\"0xc2670dDa2aB09110fA5097402a9C5Dc856603D7D\",\"_itemId\":\"0x1111\",\"quantity\":\"5\",\"unitprice\":\"100\",\"add\":\"Hongji-dong Jongro-gu Seoul\"}\r\n",
      "---> MyFunction called {\"0\":\"0xc2670dDa2aB09110fA5097402a9C5Dc856603D7D\",\"1\":\"0x1111\",\"2\":\"5\",\"3\":\"100\",\"4\":\"Hongji-dong Jongro-gu Seoul\",\"_from\":\"0xc2670dDa2aB09110fA5097402a9C5Dc856603D7D\",\"_itemId\":\"0x1111\",\"quantity\":\"5\",\"unitprice\":\"100\",\"add\":\"Hongji-dong Jongro-gu Seoul\"}\r\n",
      ">> Writing to file\r\n",
      "Event fired: {\"0\":\"0xc2670dDa2aB09110fA5097402a9C5Dc856603D7D\",\"1\":\"0x1111\",\"2\":\"20\",\"3\":\"100\",\"4\":\"Hongji-dong Jongro-gu Seoul\",\"_from\":\"0xc2670dDa2aB09110fA5097402a9C5Dc856603D7D\",\"_itemId\":\"0x1111\",\"quantity\":\"20\",\"unitprice\":\"100\",\"add\":\"Hongji-dong Jongro-gu Seoul\"}\r\n",
      "---> MyFunction called {\"0\":\"0xc2670dDa2aB09110fA5097402a9C5Dc856603D7D\",\"1\":\"0x1111\",\"2\":\"20\",\"3\":\"100\",\"4\":\"Hongji-dong Jongro-gu Seoul\",\"_from\":\"0xc2670dDa2aB09110fA5097402a9C5Dc856603D7D\",\"_itemId\":\"0x1111\",\"quantity\":\"20\",\"unitprice\":\"100\",\"add\":\"Hongji-dong Jongro-gu Seoul\"}\r\n",
      ">> Writing to file\r\n",
      "Balance after: 999992060973961831303\r\n",
      "Balance diff: 309079338385408\r\n"
     ]
    }
   ],
   "source": [
    "!node src/OrderEventUse.js"
   ]
  },
  {
   "cell_type": "markdown",
   "id": "f3b7253d",
   "metadata": {},
   "source": [
    "# (5) 파일에 저장된 파일내역을 출력하세요 (주피터 노트북에서 !type src/OrderEvent.txt)"
   ]
  },
  {
   "cell_type": "code",
   "execution_count": 46,
   "id": "abf1fbd4",
   "metadata": {
    "scrolled": true
   },
   "outputs": [
    {
     "name": "stdout",
     "output_type": "stream",
     "text": [
      "{\"0\":\"0xc2670dDa2aB09110fA5097402a9C5Dc856603D7D\",\"1\":\"0x1111\",\"2\":\"3\",\"3\":\"100\",\"4\":\"Hongji-dong Jongro-gu Seoul\",\"_from\":\"0xc2670dDa2aB09110fA5097402a9C5Dc856603D7D\",\"_itemId\":\"0x1111\",\"quantity\":\"3\",\"unitprice\":\"100\",\"add\":\"Hongji-dong Jongro-gu Seoul\"}{\"0\":\"0xc2670dDa2aB09110fA5097402a9C5Dc856603D7D\",\"1\":\"0x1111\",\"2\":\"5\",\"3\":\"100\",\"4\":\"Hongji-dong Jongro-gu Seoul\",\"_from\":\"0xc2670dDa2aB09110fA5097402a9C5Dc856603D7D\",\"_itemId\":\"0x1111\",\"quantity\":\"5\",\"unitprice\":\"100\",\"add\":\"Hongji-dong Jongro-gu Seoul\"}{\"0\":\"0xc2670dDa2aB09110fA5097402a9C5Dc856603D7D\",\"1\":\"0x1111\",\"2\":\"20\",\"3\":\"100\",\"4\":\"Hongji-dong Jongro-gu Seoul\",\"_from\":\"0xc2670dDa2aB09110fA5097402a9C5Dc856603D7D\",\"_itemId\":\"0x1111\",\"quantity\":\"20\",\"unitprice\":\"100\",\"add\":\"Hongji-dong Jongro-gu Seoul\"}"
     ]
    }
   ],
   "source": [
    "!cat src/OrderEvent.txt"
   ]
  }
 ],
 "metadata": {
  "kernelspec": {
   "display_name": "opcv",
   "language": "python",
   "name": "opcv"
  },
  "language_info": {
   "codemirror_mode": {
    "name": "ipython",
    "version": 3
   },
   "file_extension": ".py",
   "mimetype": "text/x-python",
   "name": "python",
   "nbconvert_exporter": "python",
   "pygments_lexer": "ipython3",
   "version": "3.8.12"
  }
 },
 "nbformat": 4,
 "nbformat_minor": 5
}
