{
 "cells": [
  {
   "cell_type": "markdown",
   "id": "d3b79945",
   "metadata": {},
   "source": [
    "# 201710864 박형철"
   ]
  },
  {
   "cell_type": "markdown",
   "id": "beb02bba",
   "metadata": {},
   "source": [
    "# 문제 1."
   ]
  },
  {
   "cell_type": "code",
   "execution_count": 15,
   "id": "44895168",
   "metadata": {},
   "outputs": [
    {
     "name": "stdout",
     "output_type": "stream",
     "text": [
      "Overwriting src/firstQuestion.js\n"
     ]
    }
   ],
   "source": [
    "%%writefile src/firstQuestion.js\n",
    "\n",
    "var Web3 = require('web3');\n",
    "var web3 = new Web3(\"http://localhost:8345\");\n",
    "var balance;\n",
    "async function getInfo() {\n",
    "    accounts = await web3.eth.getAccounts();\n",
    "    account0 = accounts[0];\n",
    "    account1 = accounts[1];\n",
    "    console.log(\"ac0:\",account0, \"ac1:\",account1)\n",
    "    \n",
    "    balance0 = await web3.eth.getBalance(account0);\n",
    "    balance1 = await web3.eth.getBalance(account1);\n",
    "    console.log(\"bal of ac0:\",balance0, \"ac1:\",balance1);\n",
    "\n",
    "\n",
    "    await web3.eth.personal.sendTransaction({from:account0, to:account1, value:\"1111\"}).then(function(err, Resolved) {\n",
    "        console.log(\"callback-sending ac0 -> ac1\");});\n",
    "    \n",
    "    tx = await web3.eth.getTransaction(\"0x9baccb0e64f1b6ae9b05610ae83f535a128511e6907176f1f86ae3d2ff059ebf\");\n",
    "    console.log(\"transactionHash:\",tx.hash);\n",
    "    \n",
    "    gasPrice = tx.gasPrice;\n",
    "    gasCost = tx.gas;\n",
    "    \n",
    "    totalGas = gasPrice*gasCost;\n",
    "    console.log(\"gas costs:\",totalGas);\n",
    "    \n",
    "    console.log(\"nonce:\",tx.nonce);\n",
    "    \n",
    "    balance0_ = await web3.eth.getBalance(account0);\n",
    "    balance1_ = await web3.eth.getBalance(account1);\n",
    "    \n",
    "    diff1 = parseInt(balance0_) - parseInt(balance0);\n",
    "    diff2 = parseInt(balance1_) - parseInt(balance1);\n",
    "    console.log(\"bal diff1:\",diff1, \"bal diff2:\",diff2);\n",
    "    \n",
    "    var sum=0;\n",
    "    for (var i=0; i<10; i++) {\n",
    "        sum = sum + parseInt(await web3.eth.getBalance(accounts[i]));\n",
    "        console.log(\"sum:\",i,\"adding\",i,\"bal:\",sum);\n",
    "    }\n",
    "    \n",
    "    console.log(\"balance total:\",sum);\n",
    "         \n",
    "}\n",
    "getInfo()\n",
    "\n"
   ]
  },
  {
   "cell_type": "code",
   "execution_count": 16,
   "id": "c9c69765",
   "metadata": {
    "scrolled": true
   },
   "outputs": [
    {
     "name": "stdout",
     "output_type": "stream",
     "text": [
      "ac0: 0xF8cB02C734e1197F8a5E8604c8a022B2dbD2113C ac1: 0x6A12ffA57FE1c654821F22873e66b721a83c40EB\r\n",
      "bal of ac0: 999999938578803789667 ac1: 1000000000000000003333\r\n",
      "callback-sending ac0 -> ac1\r\n",
      "/Users/broiron/Code/201710864/src/firstQuestion.js:20\r\n",
      "    console.log(\"transactionHash:\",tx.hash);\r\n",
      "                                      ^\r\n",
      "\r\n",
      "TypeError: Cannot read properties of null (reading 'hash')\r\n",
      "    at getInfo (/Users/broiron/Code/201710864/src/firstQuestion.js:20:39)\r\n",
      "\u001b[90m    at processTicksAndRejections (node:internal/process/task_queues:96:5)\u001b[39m\r\n",
      "\r\n",
      "Node.js v17.8.0\r\n"
     ]
    }
   ],
   "source": [
    "!node src/firstQuestion.js"
   ]
  },
  {
   "cell_type": "markdown",
   "id": "12ba6a7c",
   "metadata": {},
   "source": [
    "# 문제 2. '풀지못함'"
   ]
  },
  {
   "cell_type": "markdown",
   "id": "d66900c7",
   "metadata": {},
   "source": [
    "[vm]from: 0x5B3...eddC4to: Counter.(constructor)value: 0 weidata: 0x608...c0033logs: 0hash: 0x636...65284\n",
    "Debug\n",
    "status\ttrue Transaction mined and execution succeed\n",
    "transaction hash\t0x6361c05061a00b74f38213555456aadbeb1bda418ebbd7f0e600d77441965284\n",
    "from\t0x5B38Da6a701c568545dCfcB03FcB875f56beddC4\n",
    "to\tCounter.(constructor)\n",
    "gas\t193949 gas\n",
    "transaction cost\t168651 gas \n",
    "execution cost\t168651 gas \n",
    "input\t0x608...c0033\n",
    "decoded input\t{}\n",
    "decoded output\t - \n",
    "logs\t[]\n",
    "val\t0 wei"
   ]
  },
  {
   "cell_type": "code",
   "execution_count": 75,
   "id": "0b62a608",
   "metadata": {},
   "outputs": [
    {
     "name": "stdout",
     "output_type": "stream",
     "text": [
      "Writing src/Counter.sol\n"
     ]
    }
   ],
   "source": [
    "%%writefile src/Counter.sol\n",
    "pragma solidity ^0.8.0;\n",
    "contract Counter {\n",
    "    uint256 counter = 0;\n",
    "    uint256 startTime;\n",
    "    function add() public {\n",
    "        counter++;\n",
    "    }\n",
    "    function subtract() public {\n",
    "        counter--;\n",
    "    }\n",
    "    function getCounter() public view returns (uint256) {\n",
    "        return counter;\n",
    "    }\n",
    "\n",
    "    function setTimeCalled() public {\n",
    "        startTime=block.timestamp;\n",
    "    }\n",
    "\n",
    "    function getTimeCalled() view public returns(uint256) {\n",
    "        return block.timestamp;\n",
    "    }\n",
    "\n",
    "}"
   ]
  },
  {
   "cell_type": "code",
   "execution_count": 145,
   "id": "34835f23",
   "metadata": {},
   "outputs": [
    {
     "name": "stdout",
     "output_type": "stream",
     "text": [
      "Invalid option to --combined-json: interface\r\n"
     ]
    }
   ],
   "source": [
    "!echo \"var _compiled=`solc --optimize --combined-json abi,bin,interface src/Counter.sol`\" > src/CounterGeth.js"
   ]
  },
  {
   "cell_type": "code",
   "execution_count": 146,
   "id": "a8726241",
   "metadata": {
    "scrolled": false
   },
   "outputs": [
    {
     "name": "stdout",
     "output_type": "stream",
     "text": [
      "\u001b[1m\u001b[33mWarning\u001b[0m\u001b[1m\u001b[37m: SPDX license identifier not provided in source file. Before publishing, consider adding a comment containing \"SPDX-License-Identifier: <SPDX-License>\" to each source file. Use \"SPDX-License-Identifier: UNLICENSED\" for non-open-source code. Please see https://spdx.org for more information.\r\n",
      "\u001b[0m\u001b[1m\u001b[34m-->\u001b[0m src/Counter.sol\r\n",
      "\r\n"
     ]
    }
   ],
   "source": [
    "!echo \"var _compiled=`solc --optimize --combined-json abi,bin src/Counter.sol`\" > src/CounterGeth.js"
   ]
  },
  {
   "cell_type": "code",
   "execution_count": 147,
   "id": "06c39082",
   "metadata": {},
   "outputs": [
    {
     "name": "stdout",
     "output_type": "stream",
     "text": [
      "\u001b[1mundefined\u001b[0m\r\n"
     ]
    }
   ],
   "source": [
    "!geth --exec 'loadScript(\"src/CounterGeth.js\")' attach http://localhost:8445"
   ]
  },
  {
   "cell_type": "code",
   "execution_count": 148,
   "id": "402278b0",
   "metadata": {},
   "outputs": [
    {
     "name": "stdout",
     "output_type": "stream",
     "text": [
      "Overwriting src/CounterDeployGeth.js\n"
     ]
    }
   ],
   "source": [
    "%%writefile src/CounterDeployGeth.js\n",
    "var primary = eth.accounts[0];\n",
    "console.log(\"primary ac: \",primary);\n",
    "console.log(\"balance: \",eth.getBalance(primary));\n",
    "loadScript('src/CounterGeth.js');\n",
    "contractName=Object.keys(_compiled.contracts); // \n",
    "//_abi=JSON.parse(_compiled.contracts['src/Example.sol:Example'].abi)\n",
    "//_bin=_compiled.contracts['src/Example.sol:Example'].bin\n",
    "_abi=JSON.parse(_compiled.contracts[contractName[0]].abi)\n",
    "_bin=_compiled.contracts[contractName[0]].bin\n",
    "\n",
    "_class=eth.contract(_abi);\n",
    "console.log('bin code: ', _bin)\n",
    "//this async way does not work from the Jupyter Notebook\n",
    "_object=_class.new({from:primary,data:'0x'+_bin,gas:1000000}, function(err, contract) {\n",
    "  if (!err && contract.address)t\n",
    "    console.log(\"contractAddress: \", contract.address);\n",
    "    console.log(\"transactionHash: \", contract.transactionHash);\n",
    "});"
   ]
  },
  {
   "cell_type": "code",
   "execution_count": 149,
   "id": "c4b7bcc2",
   "metadata": {
    "scrolled": false
   },
   "outputs": [
    {
     "name": "stdout",
     "output_type": "stream",
     "text": [
      "primary ac:  0xbc3995a91ef543781cd777de3b192acbc03a74a0\r\n",
      "balance:  114687520999999900000\r\n",
      "\u001b[91mGoError: Error while compiling or running script: SyntaxError: invalid character 'o' looking for beginning of value at parse (native)\r\n",
      "\tat github.com/ethereum/go-ethereum/internal/jsre.MakeCallback.func1 (native)\r\n",
      "\tat <eval>:1:12(1)\r\n",
      "\u001b[0m\r\n"
     ]
    }
   ],
   "source": [
    "!geth --exec \"loadScript('src/CounterDeployGeth.js')\" attach http://localhost:8445"
   ]
  },
  {
   "cell_type": "code",
   "execution_count": null,
   "id": "c80b7071",
   "metadata": {},
   "outputs": [],
   "source": [
    "!geth --exec \"eth.getTransactionReceipt('')\" attach http://localhost:8445"
   ]
  },
  {
   "cell_type": "code",
   "execution_count": 144,
   "id": "343eee28",
   "metadata": {},
   "outputs": [
    {
     "name": "stdout",
     "output_type": "stream",
     "text": [
      "Writing src/CounterUseGeth.js\n"
     ]
    }
   ],
   "source": [
    "%%writefile src/CounterUseGeth.js\n",
    "loadScript('src/TCounterGeth.js')\n",
    "contractName=Object.keys(_compiled.contracts)\n",
    "_abi=JSON.parse(_compiled.contracts[contractName[0]].abi)\n",
    "//_abi=JSON.parse(_compiled.contracts['src/Example.sol:Example'].abi)\n",
    "var _contract=eth.contract(_abi);\n",
    "var _address=\"\";\n",
    "var _instance=eth.contract(_abi).at(_address);\n",
    "console.log(_instance.getCounter.call());\n",
    "_instance.setTimeCalled.sendTransaction({from:eth.accounts[0]});\n",
    "console.log(_instance.getTimeCalled.call());\n",
    "_instance.add.sendTransaction({from:eth.accounts[0]});\n",
    "\n",
    "console.log(_instance.getCounter.call());\n",
    "console.log(_instance.getTimeCalled.call());\n",
    "\n",
    "_instance.add.sendTransaction({from:eth.accounts[0]});\n",
    "\n",
    "console.log(_instance.getCounter.call());\n",
    "console.log(_instance.getTimeCalled.call());"
   ]
  },
  {
   "cell_type": "code",
   "execution_count": null,
   "id": "1282220f",
   "metadata": {},
   "outputs": [],
   "source": []
  }
 ],
 "metadata": {
  "kernelspec": {
   "display_name": "opcv",
   "language": "python",
   "name": "opcv"
  },
  "language_info": {
   "codemirror_mode": {
    "name": "ipython",
    "version": 3
   },
   "file_extension": ".py",
   "mimetype": "text/x-python",
   "name": "python",
   "nbconvert_exporter": "python",
   "pygments_lexer": "ipython3",
   "version": "3.8.12"
  }
 },
 "nbformat": 4,
 "nbformat_minor": 5
}
