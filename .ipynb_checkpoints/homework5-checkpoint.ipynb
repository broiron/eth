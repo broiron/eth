{
 "cells": [
  {
   "cell_type": "markdown",
   "id": "81818655",
   "metadata": {},
   "source": [
    "# 문제 1"
   ]
  },
  {
   "cell_type": "code",
   "execution_count": 1,
   "id": "56a3f335",
   "metadata": {
    "scrolled": false
   },
   "outputs": [
    {
     "name": "stdout",
     "output_type": "stream",
     "text": [
      "\r\n",
      "node_modules/.bin/ganache --unlock 0 --host \"localhost\" --port \"8345\"\r\n"
     ]
    }
   ],
   "source": [
    "!cat _ganacheNow.sh"
   ]
  },
  {
   "cell_type": "code",
   "execution_count": 2,
   "id": "4a5f877f",
   "metadata": {
    "scrolled": true
   },
   "outputs": [
    {
     "name": "stdout",
     "output_type": "stream",
     "text": [
      "Overwriting src/Web3Coinbase.js\n"
     ]
    }
   ],
   "source": [
    "%%writefile src/Web3Coinbase.js\n",
    "var Web3 = require('web3');\n",
    "var web3 = new Web3(\"http://localhost:8345\");\n",
    "var coinbase;\n",
    "async function getCoinbase() {\n",
    "    cb = await web3.eth.getCoinbase();\n",
    "    coinbase = cb;\n",
    "    console.log(\"coinbase: \"+coinbase);\n",
    "}\n",
    "getCoinbase()"
   ]
  },
  {
   "cell_type": "code",
   "execution_count": 3,
   "id": "db6bc082",
   "metadata": {},
   "outputs": [
    {
     "name": "stdout",
     "output_type": "stream",
     "text": [
      "coinbase: 0x0000000000000000000000000000000000000000\r\n"
     ]
    }
   ],
   "source": [
    "!node src/Web3Coinbase.js"
   ]
  },
  {
   "cell_type": "code",
   "execution_count": 4,
   "id": "4387cd5f",
   "metadata": {},
   "outputs": [
    {
     "name": "stdout",
     "output_type": "stream",
     "text": [
      "\u001b[32m\"0xbc3995a91ef543781cd777de3b192acbc03a74a0\"\u001b[0m\r\n"
     ]
    }
   ],
   "source": [
    "!geth --exec 'eth.coinbase' attach http://\"localhost:8445\""
   ]
  },
  {
   "cell_type": "code",
   "execution_count": 38,
   "id": "c02a383d",
   "metadata": {},
   "outputs": [
    {
     "name": "stdout",
     "output_type": "stream",
     "text": [
      "Overwriting src/Web3Transac.js\n"
     ]
    }
   ],
   "source": [
    "%%writefile src/Web3Transac.js\n",
    "my=[]\n",
    "var Web3 = require('web3');\n",
    "var web3 = new Web3(\"http://localhost:8345\");\n",
    "var val  = web3.utils.toWei('1', 'ether');\n",
    "var Web3 = require('web3');\n",
    "var balance;\n",
    "async function getBalance() {\n",
    "    accounts = await web3.eth.getAccounts();\n",
    "    account = accounts[0];\n",
    "    balance = await web3.eth.getBalance(account);\n",
    "    console.log(\"Balance: \"+balance);\n",
    "}\n",
    "getBalance()\n",
    "async function Transac() {\n",
    "    accounts = await web3.eth.getAccounts();\n",
    "    account = accounts[0];\n",
    "    web3.eth.personal.sendTransaction({from:account, to:\"0xbc3995a91ef543781cd777de3b192acbc03a74a0\", value:val});\n",
    "}\n",
    "Transac()"
   ]
  },
  {
   "cell_type": "code",
   "execution_count": 39,
   "id": "d59fb3a8",
   "metadata": {
    "scrolled": true
   },
   "outputs": [
    {
     "name": "stdout",
     "output_type": "stream",
     "text": [
      "Overwriting src/Web3getBalance.js\n"
     ]
    }
   ],
   "source": [
    "%%writefile src/Web3getBalance.js\n",
    "var Web3 = require('web3');\n",
    "var web3 = new Web3(\"http://localhost:8345\");\n",
    "var balance;\n",
    "async function getBalance() {\n",
    "    accounts = await web3.eth.getAccounts();\n",
    "    account = accounts[0];\n",
    "    balance = await web3.eth.getBalance(account);\n",
    "    console.log(\"Balance: \"+balance);\n",
    "}\n",
    "getBalance()"
   ]
  },
  {
   "cell_type": "code",
   "execution_count": 40,
   "id": "9cf0acce",
   "metadata": {},
   "outputs": [
    {
     "name": "stdout",
     "output_type": "stream",
     "text": [
      "Balance: 991999877811781883000\r\n"
     ]
    }
   ],
   "source": [
    "!node src/Web3Transac.js"
   ]
  },
  {
   "cell_type": "code",
   "execution_count": 41,
   "id": "ac73c733",
   "metadata": {
    "scrolled": true
   },
   "outputs": [
    {
     "name": "stdout",
     "output_type": "stream",
     "text": [
      "Balance: 990999869808066772000\r\n"
     ]
    }
   ],
   "source": [
    "!node src/Web3getBalance.js"
   ]
  },
  {
   "cell_type": "markdown",
   "id": "49e48ea6",
   "metadata": {},
   "source": [
    "# 문제 2"
   ]
  },
  {
   "cell_type": "code",
   "execution_count": 26,
   "id": "3cc76734",
   "metadata": {},
   "outputs": [
    {
     "name": "stdout",
     "output_type": "stream",
     "text": [
      "Overwriting src/Web3weiToEther.js\n"
     ]
    }
   ],
   "source": [
    "%%writefile src/Web3weiToEther.js\n",
    "var Web3 = require('web3');\n",
    "var web3 = new Web3(\"http://localhost:8345\");\n",
    "var account\n",
    "var balance;\n",
    "async function weiToEther() {\n",
    "    accounts = await web3.eth.getAccounts();\n",
    "    account = accounts[0];\n",
    "    balance = await web3.eth.getBalance(account);\n",
    "    ethbal = web3.utils.fromWei(balance, 'ether');\n",
    "    console.log(\"Balance: \"+ethbal+\"/ether\");\n",
    "}\n",
    "weiToEther()"
   ]
  },
  {
   "cell_type": "code",
   "execution_count": 27,
   "id": "603ad231",
   "metadata": {},
   "outputs": [
    {
     "name": "stdout",
     "output_type": "stream",
     "text": [
      "Balance: 994.999909346778425/ether\r\n"
     ]
    }
   ],
   "source": [
    "!node src/Web3weiToEther.js"
   ]
  },
  {
   "cell_type": "markdown",
   "id": "ce2c1794",
   "metadata": {},
   "source": [
    "### bitsum기준 현재(2022.4.8 22:58) 1ether = 4,023,000 원"
   ]
  },
  {
   "cell_type": "code",
   "execution_count": 31,
   "id": "0377bd83",
   "metadata": {},
   "outputs": [
    {
     "name": "stdout",
     "output_type": "stream",
     "text": [
      "Writing src/Web3EtherToWon.js\n"
     ]
    }
   ],
   "source": [
    "%%writefile src/Web3EtherToWon.js\n",
    "var Web3 = require('web3');\n",
    "var web3 = new Web3(\"http://localhost:8345\");\n",
    "var account\n",
    "var balance;\n",
    "async function weiToEther() {\n",
    "    accounts = await web3.eth.getAccounts();\n",
    "    account = accounts[0];\n",
    "    balance = await web3.eth.getBalance(account);\n",
    "    ethbal = web3.utils.fromWei(balance, 'ether');\n",
    "    won = ethbal*4023000;\n",
    "    console.log(\"Ether To Won: \"+won+\"Won\");\n",
    "}\n",
    "weiToEther()"
   ]
  },
  {
   "cell_type": "code",
   "execution_count": 32,
   "id": "7d80e2da",
   "metadata": {},
   "outputs": [
    {
     "name": "stdout",
     "output_type": "stream",
     "text": [
      "Ether To Won: 3998861587.267184Won\r\n"
     ]
    }
   ],
   "source": [
    "!node src/Web3EtherToWon.js"
   ]
  },
  {
   "cell_type": "code",
   "execution_count": null,
   "id": "5d4dae5d",
   "metadata": {},
   "outputs": [],
   "source": []
  }
 ],
 "metadata": {
  "kernelspec": {
   "display_name": "opcv",
   "language": "python",
   "name": "opcv"
  },
  "language_info": {
   "codemirror_mode": {
    "name": "ipython",
    "version": 3
   },
   "file_extension": ".py",
   "mimetype": "text/x-python",
   "name": "python",
   "nbconvert_exporter": "python",
   "pygments_lexer": "ipython3",
   "version": "3.8.12"
  }
 },
 "nbformat": 4,
 "nbformat_minor": 5
}
