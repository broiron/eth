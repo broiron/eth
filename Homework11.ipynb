{
 "cells": [
  {
   "cell_type": "code",
   "execution_count": 117,
   "id": "9b2e2e7a",
   "metadata": {},
   "outputs": [
    {
     "name": "stdout",
     "output_type": "stream",
     "text": [
      "Overwriting src/Bank.sol\n"
     ]
    }
   ],
   "source": [
    "%%writefile src/Bank.sol\n",
    "//SPDX-License-Identifier: GPL-3.0-or-later\n",
    "pragma solidity ^0.8.0;\n",
    "\n",
    "contract Bank {\n",
    "    address owner;\n",
    "    uint balance;\n",
    "    \n",
    "    event PrintLog(address from, uint amount);\n",
    "    constructor() {\n",
    "        owner = msg.sender;\n",
    "        balance = 0;\n",
    "    }\n",
    "    receive() external payable {}\n",
    "    fallback() external payable {\n",
    "        emit PrintLog(msg.sender, msg.value);\n",
    "    }\n",
    "    function deposit(uint amount) public payable  {\n",
    "        require(amount==msg.value);\n",
    "        balance += amount;\n",
    "    }\n",
    "    function withdrawAll() public {\n",
    "        balance -= address(this).balance;\n",
    "        payable(msg.sender).transfer(address(this).balance);\n",
    "    }\n",
    "    function getBalance() public view returns(uint, uint) {\n",
    "        return (balance, address(this).balance);\n",
    "    }\n",
    "    function forwardTo(address payable _receiver) public payable  {\n",
    "        require(msg.sender == owner);\n",
    "        _receiver.transfer(msg.value);\n",
    "    }    \n",
    "}"
   ]
  },
  {
   "cell_type": "code",
   "execution_count": 118,
   "id": "6dc572f4",
   "metadata": {},
   "outputs": [],
   "source": [
    "!solc --optimize --combined-json abi,bin src/Bank.sol > src/Bank.json"
   ]
  },
  {
   "cell_type": "code",
   "execution_count": 119,
   "id": "45d960b4",
   "metadata": {},
   "outputs": [
    {
     "name": "stdout",
     "output_type": "stream",
     "text": [
      "Overwriting src/BankDeployFromFile.js\n"
     ]
    }
   ],
   "source": [
    "%%writefile src/BankDeployFromFile.js\n",
    "var Web3 = require('web3');\n",
    "var _abiBinJson = require('./Bank.json');      //importing a javascript file\n",
    "\n",
    "var web3 = new Web3(new Web3.providers.HttpProvider(\"http://localhost:8345\"));\n",
    "\n",
    "contractName=Object.keys(_abiBinJson.contracts); // reading ['src/BankV3.sol:BankV3']\n",
    "console.log(\"- contract name: \", contractName);\n",
    "_abi=_abiBinJson.contracts[contractName].abi;\n",
    "_abiArray=JSON.parse(JSON.stringify(_abi));\n",
    "//_abiArray=JSON.parse(_abi);      //JSON parsing needed!! //SyntaxError: Unexpected token o in JSON at position 1\n",
    "_bin=_abiBinJson.contracts[contractName].bin;\n",
    "\n",
    "console.log(\"- ABI: \" + _abiArray);\n",
    "console.log(\"- Bytecode: \" + _bin);\n",
    "\n",
    "async function deploy() {\n",
    "    const accounts = await web3.eth.getAccounts();\n",
    "    console.log(\"Deploying the contract from \" + accounts[0]);\n",
    "    var deployed = await new web3.eth.Contract(_abiArray)\n",
    "        .deploy({data: \"0x\"+_bin})\n",
    "        .send({from: accounts[0], gas: 259210}, function(err, transactionHash) {\n",
    "                if(!err) console.log(\"hash: \" + transactionHash); \n",
    "        })\n",
    "        //.then(function(newContractInstance){\n",
    "        //    console.log(newContractInstance)\n",
    "        //});\n",
    "    console.log(\"---> The contract deployed to: \" + deployed.options.address)\n",
    "}\n",
    "deploy()"
   ]
  },
  {
   "cell_type": "code",
   "execution_count": 120,
   "id": "2a8f1959",
   "metadata": {},
   "outputs": [
    {
     "name": "stdout",
     "output_type": "stream",
     "text": [
      "- contract name:  [ \u001b[32m'src/Bank.sol:Bank'\u001b[39m ]\r\n",
      "- ABI: [object Object],[object Object],[object Object],[object Object],[object Object],[object Object],[object Object],[object Object]\r\n",
      "- Bytecode: 608060405234801561001057600080fd5b50600080546001600160a01b03191633178155600155610268806100356000396000f3fe6080604052600436106100435760003560e01c806312065fe01461008457806327d8ad88146100ab578063853828b6146100c0578063b6b55f25146100d55761004a565b3661004a57005b604080513381523460208201527fac247564f70be8d5e06a6068acf596e7bbca33994b256697b38d49095d4f3805910160405180910390a1005b34801561009057600080fd5b50600154604080519182524760208301528051918290030190f35b6100be6100b93660046101a4565b6100e8565b005b3480156100cc57600080fd5b506100be610138565b6100be6100e33660046101d4565b61017e565b6000546001600160a01b031633146100ff57600080fd5b6040516001600160a01b038216903480156108fc02916000818181858888f19350505050158015610134573d6000803e3d6000fd5b5050565b476001600082825461014a9190610203565b909155505060405133904780156108fc02916000818181858888f1935050505015801561017b573d6000803e3d6000fd5b50565b34811461018a57600080fd5b806001600082825461019c919061021a565b909155505050565b6000602082840312156101b657600080fd5b81356001600160a01b03811681146101cd57600080fd5b9392505050565b6000602082840312156101e657600080fd5b5035919050565b634e487b7160e01b600052601160045260246000fd5b600082821015610215576102156101ed565b500390565b6000821982111561022d5761022d6101ed565b50019056fea26469706673582212208037db21bb0902e893562d46338711665d885385dd57231420b9469db43d5c6e64736f6c634300080c0033\r\n",
      "Deploying the contract from 0xcb530fD29b871914777F2A1585C98E1Ce7375B61\r\n",
      "hash: 0x7476a0b377c99cd5ffb0460ba635cf49a57bd18c6881cf61046d179bf7f99b2c\r\n",
      "---> The contract deployed to: 0x5b9620b34e8a29953797fEAf0E4aAA53F9Af7047\r\n"
     ]
    }
   ],
   "source": [
    "!node src/BankDeployFromFile.js"
   ]
  },
  {
   "cell_type": "code",
   "execution_count": 121,
   "id": "96ae06cd",
   "metadata": {
    "scrolled": true
   },
   "outputs": [
    {
     "name": "stdout",
     "output_type": "stream",
     "text": [
      "Overwriting src/BankUse.js\n"
     ]
    }
   ],
   "source": [
    "%%writefile src/BankUse.js\n",
    "var Web3=require('web3');\n",
    "var _abiBinJson = require('./Bank.json');      //importing a javascript file\n",
    "\n",
    "//var web3 = new Web3(new Web3.providers.HttpProvider(\"http://localhost:8345\"));\n",
    "var web3 = new Web3(new Web3.providers.WebsocketProvider(\"ws://localhost:8345\"));\n",
    "\n",
    "contractName=Object.keys(_abiBinJson.contracts); // reading ['src/Bank.sol:Bank']\n",
    "//console.log(\"- contract name: \", contractName); //or console.log(contractName[0]);\n",
    "_abiArray=_abiBinJson.contracts[contractName].abi; //use just as read from file\n",
    "//_abiArray=JSON.parse(JSON.stringify(_abi));\n",
    "//_abiArray=JSON.parse(_abi);      //JSON parsing needed!!\n",
    "//_bin=_abiBinJson.contracts[contractName].bin;\n",
    "console.log(\"- ABI: \" + _abiArray);\n",
    "//console.log(\"- Bytecode: \" + _bin);\n",
    "var bank = new web3.eth.Contract(_abiArray,\"0x5b9620b34e8a29953797fEAf0E4aAA53F9Af7047\");\n",
    "\n",
    "async function doIt() {\n",
    "    const accounts = await web3.eth.getAccounts();\n",
    "    console.log(\"Account: \" + accounts[0]);\n",
    "    const balanceBefore = await web3.eth.getBalance(accounts[0]);\n",
    "    console.log(\"Account[0] Balance: \" + balanceBefore);\n",
    "    bank.methods.getBalance().call().then(function(bal) {\n",
    "        console.log(\"Contract Balance:\"+bal[0] + \"   this.bal:\"+bal[1]);\n",
    "    });\n",
    "    \n",
    "    await bank.methods.deposit(11111).send({from: accounts[0], value:11111});\n",
    "    await bank.methods.deposit(222).send({from: accounts[0], value:222});\n",
    "    \n",
    "    await bank.methods.getBalance().call().then(function(bal) {\n",
    "        console.log(\"After Deposit, Contract balance:\" + bal[0] + \"  this.bal: \" + bal[1]);\n",
    "    });\n",
    "    \n",
    "    const account2BeforeBalance = await web3.eth.getBalance(accounts[1]);\n",
    "    console.log(\"Balance before forwardTo: \" + account2BeforeBalance);\n",
    "    \n",
    "    await bank.methods.forwardTo(accounts[1]).send({from: accounts[0], gas: 100000, value:333});\n",
    "    bank.methods.getBalance().call().then(function(bal) {\n",
    "        console.log(\"After ForwardTo, Contract balance:\" + bal[0] + \"  this.bal:\" + bal[1]);\n",
    "    });\n",
    "    const account2Balance = await web3.eth.getBalance(accounts[1]);\n",
    "    console.log(\"Balance Account[1]: \" + account2Balance);\n",
    "    \n",
    "    await bank.methods.withdrawAll().send({from: accounts[0]});\n",
    "    const balanceAfter = await web3.eth.getBalance(accounts[0]);\n",
    "    console.log(\"Account[0] Balance after Withdraw: \" + balanceAfter);\n",
    "    \n",
    "    await web3.eth.sendTransaction({from: accounts[0], to:\"0x5b9620b34e8a29953797fEAf0E4aAA53F9Af7047\", value:111});\n",
    "    bank.methods.getBalance().call().then(function(bal) {\n",
    "        console.log(\"After Fallback Contract balance:\" + bal[0] + \"  this.bal:\" + bal[1]);\n",
    "    })\n",
    "    process.exit(1);\n",
    "}\n",
    "doIt()"
   ]
  },
  {
   "cell_type": "code",
   "execution_count": 122,
   "id": "4ea1361a",
   "metadata": {
    "scrolled": true
   },
   "outputs": [
    {
     "name": "stdout",
     "output_type": "stream",
     "text": [
      "- ABI: [object Object],[object Object],[object Object],[object Object],[object Object],[object Object],[object Object],[object Object]\r\n",
      "Account: 0xcb530fD29b871914777F2A1585C98E1Ce7375B61\r\n",
      "Account[0] Balance: 999982672792422911553\r\n",
      "Contract Balance:0   this.bal:0\r\n",
      "After Deposit, Contract balance:11333  this.bal: 11333\r\n",
      "Balance before forwardTo: 999999627801663795025\r\n",
      "Balance Account[1]: 999999627801663795358\r\n",
      "After ForwardTo, Contract balance:11333  this.bal:11333\r\n",
      "Account[0] Balance after Withdraw: 999982343099921856204\r\n"
     ]
    }
   ],
   "source": [
    "!node src/BankUse.js"
   ]
  },
  {
   "cell_type": "code",
   "execution_count": null,
   "id": "6b19eee0",
   "metadata": {},
   "outputs": [],
   "source": []
  }
 ],
 "metadata": {
  "kernelspec": {
   "display_name": "opcv",
   "language": "python",
   "name": "opcv"
  },
  "language_info": {
   "codemirror_mode": {
    "name": "ipython",
    "version": 3
   },
   "file_extension": ".py",
   "mimetype": "text/x-python",
   "name": "python",
   "nbconvert_exporter": "python",
   "pygments_lexer": "ipython3",
   "version": "3.8.12"
  }
 },
 "nbformat": 4,
 "nbformat_minor": 5
}
