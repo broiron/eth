{
 "cells": [
  {
   "cell_type": "markdown",
   "id": "02fdc0cf",
   "metadata": {},
   "source": [
    "# contract 코드\n",
    "\n",
    "## 1. HelloInString.sol"
   ]
  },
  {
   "cell_type": "markdown",
   "id": "454f1213",
   "metadata": {},
   "source": [
    "//SPDX-License-Identifier: GPL-3.0-or-later\n",
    "pragma solidity ^0.8.0;\n",
    "contract HelloString {\n",
    "    String whom = \"smu\";\n",
    "    String hello = \"Hello \";\n",
    "\n",
    "    function sayHello() view public returns(String memory){\n",
    "        return String.concat(hello, whom);\n",
    "    }\n",
    "    function setWhom(String memory _whom) public {\n",
    "        whom = _whom;\n",
    "    }\n",
    "    function getWhom() view public returns(String memory){\n",
    "        return whom;\n",
    "    }\n",
    "}"
   ]
  },
  {
   "cell_type": "markdown",
   "id": "0489a725",
   "metadata": {},
   "source": [
    "## 2. HelloInBytes.sol"
   ]
  },
  {
   "cell_type": "markdown",
   "id": "7d77f39a",
   "metadata": {},
   "source": [
    "//SPDX-License-Identifier: GPL-3.0-or-later\n",
    "pragma solidity ^0.8.0;\n",
    "contract HelloInBytes {\n",
    "    bytes whom = \"smu\";\n",
    "    bytes hello = \"Hello \";\n",
    "\n",
    "    function sayHello() view public returns(bytes memory){\n",
    "        return bytes.concat(hello, whom);\n",
    "    }\n",
    "    function setWhom(bytes memory _whom) public {\n",
    "        whom = _whom;\n",
    "    }\n",
    "    function getWhom() view public returns(bytes memory){\n",
    "        return whom;\n",
    "    }\n",
    "}"
   ]
  },
  {
   "cell_type": "markdown",
   "id": "5e74e619",
   "metadata": {},
   "source": [
    "# 문제 1. REMIX에서 실행하고, 각 함수의 로그 결과를 붙여넣기한다 \n",
    "(입력, 출력, gas가 보이도록).\n",
    "\n"
   ]
  },
  {
   "cell_type": "markdown",
   "id": "68c3a23b",
   "metadata": {},
   "source": [
    "## 1. HelloInString.sol 함수 실행 로그 결과"
   ]
  },
  {
   "cell_type": "markdown",
   "id": "1c1db9fd",
   "metadata": {},
   "source": [
    "### (1). setWhom\n",
    "\n",
    "[vm]from: 0x5B3...eddC4to: Hello.setWhom(bytes) 0x9D7...b5E99value: 0 weidata: 0x820...00000logs: 0hash: 0x286...7147f\n",
    "Debug\n",
    "status\ttrue Transaction mined and execution succeed\n",
    "transaction hash\t0x286e06571e0d9fdb6ffe1124e1a193adb31113462aff0ab7c0a21ea77697147f\n",
    "from\t0x5B38Da6a701c568545dCfcB03FcB875f56beddC4\n",
    "to\tHello.setWhom(bytes) 0x9D7f74d0C41E726EC95884E0e97Fa6129e3b5E99\n",
    "gas\t34675 gas\n",
    "transaction cost\t30152 gas \n",
    "execution cost\t30152 gas \n",
    "input\t0x820...00000\n",
    "decoded input\t{\n",
    "\t\"bytes _whom\": \"0x64617665\"\n",
    "}\n",
    "decoded output\t{}\n",
    "logs\t[]\n",
    "val\t0 wei\n",
    "\n",
    "### (2). getWhom\n",
    "\n",
    "CALL\n",
    "[call]from: 0x5B38Da6a701c568545dCfcB03FcB875f56beddC4to: Hello.getWhom()data: 0x3c5...00c0e\n",
    "Debug\n",
    "from\t0x5B38Da6a701c568545dCfcB03FcB875f56beddC4\n",
    "to\tHello.getWhom() 0x9D7f74d0C41E726EC95884E0e97Fa6129e3b5E99\n",
    "execution cost\t24505 gas (Cost only applies when called by a contract)\n",
    "input\t0x3c5...00c0e\n",
    "decoded input\t{}\n",
    "decoded output\t{\n",
    "\t\"0\": \"bytes: 0x64617665\"\n",
    "}\n",
    "logs\t[]\n",
    "\n",
    "### (3). sayHello\n",
    "\n",
    "CALL\n",
    "[call]from: 0x5B38Da6a701c568545dCfcB03FcB875f56beddC4to: Hello.sayHello()data: 0xef5...fb05b\n",
    "Debug\n",
    "from\t0x5B38Da6a701c568545dCfcB03FcB875f56beddC4\n",
    "to\tHello.sayHello() 0x9D7f74d0C41E726EC95884E0e97Fa6129e3b5E99\n",
    "execution cost\t26740 gas (Cost only applies when called by a contract)\n",
    "input\t0xef5...fb05b\n",
    "decoded input\t{}\n",
    "decoded output\t{\n",
    "\t\"0\": \"bytes: 0x48656c6c6f2064617665\"\n",
    "}\n",
    "logs\t[]"
   ]
  },
  {
   "cell_type": "markdown",
   "id": "ef60ea8b",
   "metadata": {},
   "source": [
    "## 2. HelloInBytes.sol 함수 실행 로그 결과"
   ]
  },
  {
   "cell_type": "markdown",
   "id": "aabc5299",
   "metadata": {},
   "source": [
    "### (1). setWhom\n",
    "\n",
    "[vm]from: 0x5B3...eddC4to: Hello.setWhom(bytes) 0x0fC...9A836value: 0 weidata: 0x820...00000logs: 0hash: 0xcb6...00b74\n",
    "Debug\n",
    "status\ttrue Transaction mined and execution succeed\n",
    "transaction hash\t0xcb6b955b64415a87b1f09a4d9f7d1d8bd19694f2319416b5cf7396e671300b74\n",
    "from\t0x5B38Da6a701c568545dCfcB03FcB875f56beddC4\n",
    "to\tHello.setWhom(bytes) 0x0fC5025C764cE34df352757e82f7B5c4Df39A836\n",
    "gas\t34675 gas\n",
    "transaction cost\t30152 gas \n",
    "execution cost\t30152 gas \n",
    "input\t0x820...00000\n",
    "decoded input\t{\n",
    "\t\"bytes _whom\": \"0x64617665\"\n",
    "}\n",
    "decoded output\t{}\n",
    "logs\t[]\n",
    "val\t0 wei\n",
    "\n",
    "### (2). getWhom\n",
    "\n",
    "CALL\n",
    "[call]from: 0x5B38Da6a701c568545dCfcB03FcB875f56beddC4to: Hello.getWhom()data: 0x3c5...00c0e\n",
    "Debug\n",
    "from\t0x5B38Da6a701c568545dCfcB03FcB875f56beddC4\n",
    "to\tHello.getWhom() 0x0fC5025C764cE34df352757e82f7B5c4Df39A836\n",
    "execution cost\t24505 gas (Cost only applies when called by a contract)\n",
    "input\t0x3c5...00c0e\n",
    "decoded input\t{}\n",
    "decoded output\t{\n",
    "\t\"0\": \"bytes: 0x64617665\"\n",
    "}\n",
    "logs\t[]\n",
    "\n",
    "### (3). sayHello\n",
    "\n",
    "\n",
    "[call]from: 0x5B38Da6a701c568545dCfcB03FcB875f56beddC4to: Hello.sayHello()data: 0xef5...fb05b\n",
    "Debug\n",
    "from\t0x5B38Da6a701c568545dCfcB03FcB875f56beddC4\n",
    "to\tHello.sayHello() 0x0fC5025C764cE34df352757e82f7B5c4Df39A836\n",
    "execution cost\t26740 gas (Cost only applies when called by a contract)\n",
    "input\t0xef5...fb05b\n",
    "decoded input\t{}\n",
    "decoded output\t{\n",
    "\t\"0\": \"bytes: 0x48656c6c6f2064617665\"\n",
    "}\n",
    "logs\t[]\n"
   ]
  },
  {
   "cell_type": "markdown",
   "id": "bab42f4d",
   "metadata": {},
   "source": [
    "# 문제 2. HelloInString과 HelloInBytes의 배포할 때와 sayHello() 함수의 gas를 비교하세요.\n",
    "\n"
   ]
  },
  {
   "cell_type": "markdown",
   "id": "0b81ecc5",
   "metadata": {},
   "source": [
    "- HelloInString contract에서 사용한 String data는 참조형 data이고 HelloInBytes contract에서 사용한 bytes data또한 참조형 data이다. 두 contract 모두 memory를 동적으로 할당하여 사용하는데, 모두 같은 인자 (\"dave\" == 0x64617665, \"Hello \" == 0x48656c6c6f20)를 사용하였으므로 같은 크기의 memeory가 할당되어 사용된다. 따라서 두 contract에서 사용된 gas비는 같다."
   ]
  }
 ],
 "metadata": {
  "kernelspec": {
   "display_name": "opcv",
   "language": "python",
   "name": "opcv"
  },
  "language_info": {
   "codemirror_mode": {
    "name": "ipython",
    "version": 3
   },
   "file_extension": ".py",
   "mimetype": "text/x-python",
   "name": "python",
   "nbconvert_exporter": "python",
   "pygments_lexer": "ipython3",
   "version": "3.8.12"
  }
 },
 "nbformat": 4,
 "nbformat_minor": 5
}
