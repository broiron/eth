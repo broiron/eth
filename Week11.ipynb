{
 "cells": [
  {
   "cell_type": "markdown",
   "id": "9fe3ca36",
   "metadata": {},
   "source": [
    "### 1. event 발생 시 websocket과 연결하여 event 포착한다."
   ]
  },
  {
   "cell_type": "code",
   "execution_count": 1,
   "id": "42478362",
   "metadata": {},
   "outputs": [
    {
     "name": "stdout",
     "output_type": "stream",
     "text": [
      "Writing src/webSocketTest.js\n"
     ]
    }
   ],
   "source": [
    "%%writefile src/webSocketTest.js\n",
    "var Web3 = require('web3');\n",
    "const myProvider = new Web3.providers.WebsocketProvider(\"ws://localhost:8345\", {\n",
    "    clientConfig: {\n",
    "        keepalive:true, keepaliveInterval:10000\n",
    "    } \n",
    "  });\n",
    "var web3 = new Web3(myProvider);\n",
    "console.log(\"(1) websocket url: \", myProvider.connection.url); //web3.currentProvider.connection.url\n",
    "myProvider.on('connect', function() {\n",
    "    console.log(\"(2) connecting websocket: \"+web3.currentProvider.connected);\n",
    "    //myProvider.disconnect();\n",
    "    web3.currentProvider.connection.close();\n",
    "    console.log(\"(3) disconnecting Websocket: \"+web3.currentProvider.connected);\n",
    "});\n",
    "myProvider.on('close', function() { console.log(\"--> Websocket closed\"); });\n",
    "myProvider.on('end', function() { console.log(\"--> Websocket ended\"); });\n",
    "myProvider.on('error', function(error) { console.error(error); });"
   ]
  },
  {
   "cell_type": "code",
   "execution_count": 2,
   "id": "44bef618",
   "metadata": {},
   "outputs": [
    {
     "name": "stdout",
     "output_type": "stream",
     "text": [
      "(1) websocket url:  ws://localhost:8345\r\n",
      "(2) connecting websocket: true\r\n",
      "(3) disconnecting Websocket: false\r\n",
      "--> Websocket ended\r\n",
      "--> Websocket closed\r\n"
     ]
    }
   ],
   "source": [
    "!node src/webSocketTest.js"
   ]
  },
  {
   "cell_type": "code",
   "execution_count": 3,
   "id": "1d786988",
   "metadata": {},
   "outputs": [
    {
     "name": "stdout",
     "output_type": "stream",
     "text": [
      "Writing src/EventTest.sol\n"
     ]
    }
   ],
   "source": [
    "%%writefile src/EventTest.sol\n",
    "//SPDX-License-Identifier: GPL-3.0-or-later\n",
    "pragma solidity ^0.8.0;\n",
    "\n",
    "contract EventTest {\n",
    "    event MyLog(string my);\n",
    "    function myFunction() public {\n",
    "        emit MyLog(\"Hello World!\");\n",
    "    }\n",
    "}"
   ]
  },
  {
   "cell_type": "markdown",
   "id": "cd87f7b5",
   "metadata": {},
   "source": [
    "### 배포는 http로 가능"
   ]
  },
  {
   "cell_type": "code",
   "execution_count": 5,
   "id": "468e301d",
   "metadata": {},
   "outputs": [],
   "source": [
    "!solc --optimize --combined-json abi,bin src/EventTest.sol > src/EventTest.json"
   ]
  },
  {
   "cell_type": "code",
   "execution_count": 6,
   "id": "15d4bf76",
   "metadata": {},
   "outputs": [
    {
     "name": "stdout",
     "output_type": "stream",
     "text": [
      "{\"contracts\":{\"src/EventTest.sol:EventTest\":{\"abi\":[{\"anonymous\":false,\"inputs\":[{\"indexed\":false,\"internalType\":\"string\",\"name\":\"my\",\"type\":\"string\"}],\"name\":\"MyLog\",\"type\":\"event\"},{\"inputs\":[],\"name\":\"myFunction\",\"outputs\":[],\"stateMutability\":\"nonpayable\",\"type\":\"function\"}],\"bin\":\"608060405234801561001057600080fd5b5060c28061001f6000396000f3fe6080604052348015600f57600080fd5b506004361060285760003560e01c8063c3780a3a14602d575b600080fd5b60336035565b005b7f5186edd9beca61d795526ca1f274260b3fc74be3e10e1f02e1be1552e14f13736040516082906020808252600c908201526b48656c6c6f20576f726c642160a01b604082015260600190565b60405180910390a156fea2646970667358221220dc65f0285737028f1aab08a2f886f83ab92a51ec712b3b04a344a01efb90336d64736f6c634300080c0033\"}},\"version\":\"0.8.12+commit.f00d7308.Darwin.appleclang\"}\r\n"
     ]
    }
   ],
   "source": [
    "!cat src/EventTest.json"
   ]
  },
  {
   "cell_type": "code",
   "execution_count": 7,
   "id": "9868e7dc",
   "metadata": {},
   "outputs": [
    {
     "name": "stdout",
     "output_type": "stream",
     "text": [
      "Writing src/EventTestDeployFromFile.js\n"
     ]
    }
   ],
   "source": [
    "%%writefile src/EventTestDeployFromFile.js\n",
    "var Web3 = require('web3');\n",
    "var _abiBinJson = require('./EventTest.json');      //importing a javascript file\n",
    "\n",
    "var web3 = new Web3(new Web3.providers.HttpProvider(\"http://localhost:8345\"));\n",
    "\n",
    "contractName=Object.keys(_abiBinJson.contracts); // reading ['src/EventTest.sol:EventTest']\n",
    "console.log(\"- contract name: \", contractName);\n",
    "_abi=_abiBinJson.contracts[contractName].abi;\n",
    "_abiArray=JSON.parse(JSON.stringify(_abi));\n",
    "//_abiArray=JSON.parse(_abi);      //JSON parsing needed!! //SyntaxError: Unexpected token o in JSON at position 1\n",
    "_bin=_abiBinJson.contracts[contractName].bin;\n",
    "\n",
    "//console.log(\"- ABI: \" + _abiArray);\n",
    "//console.log(\"- Bytecode: \" + _bin);\n",
    "\n",
    "async function deploy() {\n",
    "    const accounts = await web3.eth.getAccounts();\n",
    "    console.log(\"Deploying the contract from \" + accounts[0]);\n",
    "    var deployed = await new web3.eth.Contract(_abiArray)\n",
    "        .deploy({data: \"0x\"+_bin})\n",
    "        .send({from: accounts[0], gas: 259210}, function(err, transactionHash) {\n",
    "                if(!err) console.log(\"hash: \" + transactionHash); \n",
    "        })\n",
    "        //.then(function(newContractInstance){\n",
    "        //    console.log(newContractInstance)\n",
    "        //});\n",
    "    console.log(\"---> The contract deployed to: \" + deployed.options.address)\n",
    "}\n",
    "deploy()"
   ]
  },
  {
   "cell_type": "code",
   "execution_count": null,
   "id": "75578944",
   "metadata": {},
   "outputs": [],
   "source": [
    "%%writefile src/EventTestDeployGeth.js\n",
    "var Web3 = require('web3');\n",
    "var _abiBinJson = require('./EventTest.json');\n",
    "\n",
    "var web3 = new Web3(new Web3.providers.HttpProvider(\"http://localhost:8445\"));\n",
    "\n",
    "contractName = Object.keys(_abiBinJson.contracts);\n",
    "console.log(\"- contract name: \", contractName);\n",
    "_abi=_abiBinJson.contracts[contractName].abi;\n",
    "_abiArray=JSON.parse(JSON.stringify(_abi));\n",
    "_bin=_abiBinJson.contracts[contractName].bin;\n",
    "web3.personal.unlockAccount(web3.eth.accounts[0],'password');\n",
    "async finction deploy() {\n",
    "    const accounts = await web3.eth.accounts;\n",
    "}\n"
   ]
  },
  {
   "cell_type": "code",
   "execution_count": 8,
   "id": "ac87e83c",
   "metadata": {},
   "outputs": [
    {
     "name": "stdout",
     "output_type": "stream",
     "text": [
      "- contract name:  [ \u001b[32m'src/EventTest.sol:EventTest'\u001b[39m ]\n",
      "Deploying the contract from 0x92D6b70ee4483106Ae97537Ac0b2B45a67C732ED\n",
      "hash: 0x8388dc49617c6bd3b173f2441368fec3c9646694352f6e897b6bf654af66e1f3\n",
      "---> The contract deployed to: 0x18a453CfB01bf2C5B004C0c2CEE8c320Fe538a00\n"
     ]
    }
   ],
   "source": [
    "!node src/EventTestDeployFromFile.js"
   ]
  },
  {
   "cell_type": "code",
   "execution_count": 9,
   "id": "bfa23415",
   "metadata": {},
   "outputs": [
    {
     "name": "stdout",
     "output_type": "stream",
     "text": [
      "Writing src/EventTestHttpNoEventFiredUse.js\n"
     ]
    }
   ],
   "source": [
    "%%writefile src/EventTestHttpNoEventFiredUse.js\n",
    "var Web3=require('web3');\n",
    "var _abiBinJson = require('./EventTest.json');      //importing a javascript file\n",
    "\n",
    "var web3 = new Web3(new Web3.providers.HttpProvider(\"http://localhost:8345\")); // Http provider...\n",
    "contractName=Object.keys(_abiBinJson.contracts); // reading ['src/EventTest.sol:EventTest']\n",
    "//console.log(\"- contract name: \", contractName); //or console.log(contractName[0]);\n",
    "_abiArray=_abiBinJson.contracts[contractName].abi; //use just as read from file\n",
    "//_abiArray=JSON.parse(JSON.stringify(_abi));\n",
    "//_abiArray=JSON.parse(_abi);      //JSON parsing needed!!\n",
    "//_bin=_abiBinJson.contracts[contractName].bin;\n",
    "console.log(\"- ABI: \" + _abiArray);\n",
    "//console.log(\"- Bytecode: \" + _bin);\n",
    "var _test = new web3.eth.Contract(_abiArray,\"0x8911bA097c812Bf0B3ff22F90eaf2A905112C5a6\");\n",
    "var event = _test.events.MyLog({fromBlock: 0}, function (error, result) {\n",
    "    if (!error) {\n",
    "        console.log(\"Event fired: \" + JSON.stringify(result.returnValues));\n",
    "    }\n",
    "});\n",
    "\n",
    "async function doIt() {\n",
    "    const accounts = await web3.eth.getAccounts();\n",
    "    console.log(\"Account: \" + accounts[0]);\n",
    "    const balanceBefore = await web3.eth.getBalance(accounts[0]);\n",
    "    console.log(\"Balance before: \" + balanceBefore);\n",
    "    const value = await _test.methods.myFunction()\n",
    "        .send({from: accounts[0], gas: 364124, gasPrice: '1000000000'})\n",
    "        //.then(function(value) {console.log(\"---> myFunction called \" + JSON.stringify(value.events.MyLog.returnValues));});\n",
    "    console.log(\"---> myFunction called \" + JSON.stringify(value.events.MyLog.returnValues));\n",
    "    const balanceAfter = await web3.eth.getBalance(accounts[0]);\n",
    "    console.log(\"Balance after: \" + balanceAfter);\n",
    "    console.log(\"Balance diff: \" + (balanceBefore - balanceAfter));\n",
    "}\n",
    "doIt()"
   ]
  },
  {
   "cell_type": "code",
   "execution_count": null,
   "id": "eb9fdd4c",
   "metadata": {},
   "outputs": [],
   "source": []
  },
  {
   "cell_type": "code",
   "execution_count": 20,
   "id": "e633813e",
   "metadata": {},
   "outputs": [
    {
     "name": "stdout",
     "output_type": "stream",
     "text": [
      "Overwriting src/EventTestWsUse.js\n"
     ]
    }
   ],
   "source": [
    "%%writefile src/EventTestWsUse.js\n",
    "var Web3=require('web3');\n",
    "var fs = require('fs');\n",
    "var _abiBinJson = require('./EventTest.json');      //importing a javascript file\n",
    "\n",
    "//var web3 = new Web3(new Web3.providers.HttpProvider(\"http://localhost:8345\"));\n",
    "//var web3 = new Web3(new Web3.providers.WebsocketProvider(\"http://localhost:8345\"));\n",
    "var web3 = new Web3(new Web3.providers.WebsocketProvider(\"ws://localhost:8345\"));\n",
    "contractName=Object.keys(_abiBinJson.contracts); // reading ['src/EventTest.sol:EventTest']\n",
    "//console.log(\"- contract name: \", contractName); //or console.log(contractName[0]);\n",
    "_abiArray=_abiBinJson.contracts[contractName].abi; //use just as read from file\n",
    "//_abiArray=JSON.parse(JSON.stringify(_abi));\n",
    "//_abiArray=JSON.parse(_abi);      //JSON parsing needed!!\n",
    "//_bin=_abiBinJson.contracts[contractName].bin;\n",
    "console.log(\"- ABI: \" + _abiArray);\n",
    "//console.log(\"- Bytecode: \" + _bin);\n",
    "//var _test = new web3.eth.Contract(_abiArray,\"0x8911bA097c812Bf0B3ff22F90eaf2A905112C5a6\");\n",
    "//var event = _test.events.MyLog({fromBlock: 0}, function (error, result) {\n",
    "//    if (!error) {\n",
    "//        console.log(\"Event fired: \" + JSON.stringify(result.returnValues));\n",
    "//    }\n",
    "//});\n",
    "\n",
    "async function doIt() {\n",
    "    var _test = new web3.eth.Contract(_abiArray, '0x18a453CfB01bf2C5B004C0c2CEE8c320Fe538a00');\n",
    "    var event = _test.events.MyLog({fromBlock: 0}, function (error, result) {\n",
    "        if (!error) {\n",
    "            log = JSON.stringify(result.returnValues);\n",
    "            console.log(\"Event fired: \" + log);\n",
    "            //fs.writeFile(\"src/EventTestLog.txt\", log, \"utf-8\", function(e) {\n",
    "            fs.appendFile(\"src/EventTestLog.txt\", log, \"utf-8\", function(e) {\n",
    "                if(!e) {\n",
    "                    console.log(\">> Writing to file\");\n",
    "                }\n",
    "            });\n",
    "        }\n",
    "    });\n",
    "    const accounts = await web3.eth.getAccounts();\n",
    "    console.log(\"Account: \" + accounts[0]);\n",
    "    const balanceBefore = await web3.eth.getBalance(accounts[0]);\n",
    "    console.log(\"Balance before: \" + balanceBefore);\n",
    "    const value = await _test.methods.myFunction()\n",
    "        .send({from: accounts[0], gas: 364124, gasPrice: '1000000000'})\n",
    "        //.then(function(value) {console.log(\"---> myFunction called \" + JSON.stringify(value.events.MyLog.returnValues));});\n",
    "    console.log(\"---> myFunction called \" + JSON.stringify(value.events.MyLog.returnValues));\n",
    "    const balanceAfter = await web3.eth.getBalance(accounts[0]);\n",
    "    console.log(\"Balance after: \" + balanceAfter);\n",
    "    console.log(\"Balance diff: \" + (balanceBefore - balanceAfter));\n",
    "    process.exit(1); //force exit to disconnect websocket\n",
    "}\n",
    "\n",
    "doIt()"
   ]
  },
  {
   "cell_type": "code",
   "execution_count": 21,
   "id": "718ae0d0",
   "metadata": {},
   "outputs": [
    {
     "name": "stdout",
     "output_type": "stream",
     "text": [
      "- ABI: [object Object],[object Object]\r\n",
      "Account: 0x92D6b70ee4483106Ae97537Ac0b2B45a67C732ED\r\n",
      "Event fired: {\"0\":\"Hello World!\",\"my\":\"Hello World!\"}\r\n",
      "Balance before: 999999571085625000000\r\n",
      ">> Writing to file\r\n",
      "Event fired: {\"0\":\"Hello World!\",\"my\":\"Hello World!\"}\r\n",
      "---> myFunction called {\"0\":\"Hello World!\",\"my\":\"Hello World!\"}\r\n",
      ">> Writing to file\r\n",
      "Balance after: 999999548270625000000\r\n",
      "Balance diff: 22814999969792\r\n"
     ]
    }
   ],
   "source": [
    "!node src/EventTestWsUse.js"
   ]
  },
  {
   "cell_type": "code",
   "execution_count": 22,
   "id": "2c2adb78",
   "metadata": {},
   "outputs": [
    {
     "name": "stdout",
     "output_type": "stream",
     "text": [
      "{\"0\":\"Hello World!\",\"my\":\"Hello World!\"}{\"0\":\"Hello World!\",\"my\":\"Hello World!\"}{\"0\":\"Hello World!\",\"my\":\"Hello World!\"}"
     ]
    }
   ],
   "source": [
    "!cat src/EventTestLog.txt"
   ]
  },
  {
   "cell_type": "code",
   "execution_count": 23,
   "id": "a43e6812",
   "metadata": {},
   "outputs": [
    {
     "name": "stdout",
     "output_type": "stream",
     "text": [
      "Writing src/FallbackTest.sol\n"
     ]
    }
   ],
   "source": [
    "%%writefile src/FallbackTest.sol\n",
    "//SPDX-License-Identifier: GPL-3.0-or-later\n",
    "pragma solidity ^0.8.0;\n",
    "\n",
    "contract FallbackTest {\n",
    "    event PrintLog(string);\n",
    "    function callA () pure public returns(string memory){\n",
    "        return \"doing callA\";\n",
    "    }\n",
    "    fallback () external {\n",
    "        emit PrintLog(\"fallback called\");\n",
    "    }\n",
    "}"
   ]
  },
  {
   "cell_type": "code",
   "execution_count": 24,
   "id": "a5043c25",
   "metadata": {},
   "outputs": [],
   "source": [
    "!solc --optimize --combined-json abi,bin src/FallbackTest.sol > src/FallbackTest.json"
   ]
  },
  {
   "cell_type": "code",
   "execution_count": 26,
   "id": "0d3297f9",
   "metadata": {},
   "outputs": [
    {
     "name": "stdout",
     "output_type": "stream",
     "text": [
      "{\"contracts\":{\"src/FallbackTest.sol:FallbackTest\":{\"abi\":[{\"anonymous\":false,\"inputs\":[{\"indexed\":false,\"internalType\":\"string\",\"name\":\"\",\"type\":\"string\"}],\"name\":\"PrintLog\",\"type\":\"event\"},{\"stateMutability\":\"nonpayable\",\"type\":\"fallback\"},{\"inputs\":[],\"name\":\"callA\",\"outputs\":[{\"internalType\":\"string\",\"name\":\"\",\"type\":\"string\"}],\"stateMutability\":\"pure\",\"type\":\"function\"}],\"bin\":\"608060405234801561001057600080fd5b50610147806100206000396000f3fe608060405234801561001057600080fd5b506004361061002b5760003560e01c8063e7f09e0514610086575b7f968f0302429ff0e5bd56a45ce3ba1f4fa79f4b822857e438616435f00c3b59fd60405161007c906020808252600f908201526e19985b1b189858dac818d85b1b1959608a1b604082015260600190565b60405180910390a1005b604080518082018252600b81526a646f696e672063616c6c4160a81b602082015290516100b391906100bc565b60405180910390f35b600060208083528351808285015260005b818110156100e9578581018301518582016040015282016100cd565b818111156100fb576000604083870101525b50601f01601f191692909201604001939250505056fea2646970667358221220ca0d94044203e8a15a48cbea354d376d644e72987f941c7da9b279262fac4a6564736f6c634300080c0033\"}},\"version\":\"0.8.12+commit.f00d7308.Darwin.appleclang\"}\r\n"
     ]
    }
   ],
   "source": [
    "!cat src/FallbackTest.json"
   ]
  },
  {
   "cell_type": "code",
   "execution_count": 27,
   "id": "09b1189f",
   "metadata": {},
   "outputs": [
    {
     "name": "stdout",
     "output_type": "stream",
     "text": [
      "Writing src/FallbackTestDeployFromFile.js\n"
     ]
    }
   ],
   "source": [
    "%%writefile src/FallbackTestDeployFromFile.js\n",
    "var Web3 = require('web3');\n",
    "var _abiBinJson = require('./FallbackTest.json');      //importing a javascript file\n",
    "//var fs=require('fs');\n",
    "//var _str = fs.readFileSync(\"src/FallbackTest.json\");\n",
    "//var _json=JSON.parse(_str)\n",
    "\n",
    "var web3 = new Web3(new Web3.providers.HttpProvider(\"http://localhost:8345\"));\n",
    "\n",
    "contractName=Object.keys(_abiBinJson.contracts); // reading ['src/FallbackTest.sol:FallbackTest']\n",
    "console.log(\"- contract name: \", contractName);\n",
    "_abiArray=_abiBinJson.contracts[contractName].abi;\n",
    "//_abiArray=JSON.parse(JSON.stringify(_abi));\n",
    "//_abiArray=JSON.parse(_abi);      //JSON parsing needed!! //SyntaxError: Unexpected token o in JSON at position 1\n",
    "_bin=_abiBinJson.contracts[contractName].bin;\n",
    "\n",
    "//console.log(\"- ABI: \" + _abiArray);\n",
    "//console.log(\"- Bytecode: \" + _bin);\n",
    "\n",
    "async function deploy() {\n",
    "    const accounts = await web3.eth.getAccounts();\n",
    "    console.log(\"Deploying the contract from \" + accounts[0]);\n",
    "    var deployed = await new web3.eth.Contract(_abiArray)\n",
    "        .deploy({data: \"0x\"+_bin})\n",
    "        .send({from: accounts[0], gas: 1000000}, function(err, transactionHash) {\n",
    "                if(!err) console.log(\"hash: \" + transactionHash); \n",
    "        })\n",
    "        //.then(function(newContractInstance){\n",
    "        //    console.log(newContractInstance)\n",
    "        //});\n",
    "    console.log(\"---> The contract deployed to: \" + deployed.options.address)\n",
    "}\n",
    "deploy()\n"
   ]
  },
  {
   "cell_type": "code",
   "execution_count": 28,
   "id": "fc24802f",
   "metadata": {},
   "outputs": [
    {
     "name": "stdout",
     "output_type": "stream",
     "text": [
      "- contract name:  [ \u001b[32m'src/FallbackTest.sol:FallbackTest'\u001b[39m ]\r\n",
      "Deploying the contract from 0x92D6b70ee4483106Ae97537Ac0b2B45a67C732ED\r\n",
      "hash: 0x400e1f35c1027239491dcc219f7b69ed7d5e2e2b855fc9f9df429bad40565402\r\n",
      "---> The contract deployed to: 0xbb812Dbd0dC65CD50d5f2A702833631a8761Cf26\r\n"
     ]
    }
   ],
   "source": [
    "!node src/FallbackTestDeployFromFile.js"
   ]
  },
  {
   "cell_type": "code",
   "execution_count": 51,
   "id": "4de1a7f1",
   "metadata": {},
   "outputs": [
    {
     "name": "stdout",
     "output_type": "stream",
     "text": [
      "Overwriting src/FallbackTestUseFromFile.js\n"
     ]
    }
   ],
   "source": [
    "%%writefile src/FallbackTestUseFromFile.js\n",
    "var Web3=require('web3');\n",
    "//var _abiJson = require('./FallbackTestABI.json');\n",
    "\n",
    "var _abiBinJson = require('./FallbackTest.json');      //importing a javascript file\n",
    "\n",
    "//var web3 = new Web3(new Web3.providers.HttpProvider(\"http://localhost:8345\"));\n",
    "//var web3 = new Web3(new Web3.providers.WebsocketProvider(\"http://localhost:8345\"));\n",
    "var web3 = new Web3(new Web3.providers.WebsocketProvider(\"ws://localhost:8345\"));\n",
    "contractName=Object.keys(_abiBinJson.contracts); // reading ['src/EventTest.sol:EventTest']\n",
    "//console.log(\"- contract name: \", contractName); //or console.log(contractName[0]);\n",
    "_abiArray=_abiBinJson.contracts[contractName].abi; //use just as read from file\n",
    "console.log(\"- ABI: \" + _abiArray);\n",
    "\n",
    "\n",
    "var web3;\n",
    "if (typeof web3 !== 'undefined') {\n",
    "    web3 = new Web3(web3.currentProvider);\n",
    "} else {\n",
    "    web3 = new Web3(new Web3.providers.WebsocketProvider(\"ws://117.16.44.45:8345\"));\n",
    "    //web3 = new Web3(new Web3.providers.HttpProvider(\"http://117.16.44.45:8345\"));\n",
    "}\n",
    "\n",
    "// contractName=Object.keys(_abiJson.contracts); // reading ['src//FallbackTest.sol:FallbackTest']\n",
    "// console.log(\"- contract name: \", contractName[0]); //or console.log(contractName);\n",
    "//_abiArray=JSON.parse(_abiJson.contracts[contractName].abi);    //JSON parsing needed!!\n",
    "//_bin=_binJson.contracts[contractName].bin;\n",
    "//console.log(\"- ABI: \" + _abiArray);\n",
    "//console.log(\"- Bytecode: \" + _bin);\n",
    "\n",
    "async function doIt() {\n",
    "    const accounts = await web3.eth.getAccounts();\n",
    "    console.log(\"Account: \" + accounts[0]);\n",
    "    const balanceBefore = await web3.eth.getBalance(accounts[0]);\n",
    "    console.log(\"Balance before: \" + balanceBefore);\n",
    "    var _instance = new web3.eth.Contract(_abiArray, \"0xbb812Dbd0dC65CD50d5f2A702833631a8761Cf26\");\n",
    "    var event = _instance.events.PrintLog(function (error, result) {\n",
    "        if (!error) {\n",
    "            console.log(\"Event fired: \" + JSON.stringify(result) + \"\\n---> \" + JSON.stringify(result.returnValues));\n",
    "        }\n",
    "    });\n",
    "\n",
    "    _instance.methods.callA().call().then(function(res) { console.log(res); });  //null\n",
    "    //call without calling any method\n",
    "    await _instance.methods.callB().send({from:accounts[0], to: \"0x3991e87b71cBFf94aA0718F341d8Ad4bCF969f36\"}); //fail\n",
    "    //await _instance.methods.callA().send({from:accounts[0], data:\"0x1234\"});  //empty calldata to call fallback -> fail\n",
    "    web3.eth.sendTransaction({from:accounts[0], to: \"0x3991e87b71cBFf94aA0718F341d8Ad4bCF969f36\"}); //fallback called\n",
    "    const balanceAfter = await web3.eth.getBalance(accounts[0]);\n",
    "    console.log(\"Balance after: \" + balanceAfter);\n",
    "    console.log(\"Balance diff: \" + (balanceBefore - balanceAfter));\n",
    "    process.exit(1); //force exit to disconnect websocket\n",
    "\n",
    "}\n",
    "\n",
    "doIt()"
   ]
  },
  {
   "cell_type": "code",
   "execution_count": 52,
   "id": "666025df",
   "metadata": {
    "scrolled": false
   },
   "outputs": [
    {
     "name": "stdout",
     "output_type": "stream",
     "text": [
      "- ABI: [object Object],[object Object],[object Object]\r\n",
      "Account: 0x92D6b70ee4483106Ae97537Ac0b2B45a67C732ED\r\n",
      "Balance before: 999998963155311254111\r\n",
      "/Users/broiron/Code/201710864/src/FallbackTestUseFromFile.js:44\r\n",
      "    await _instance.methods.callB().send({from:accounts[0], to: \"0x3991e87b71cBFf94aA0718F341d8Ad4bCF969f36\"}); //fail\r\n",
      "                            ^\r\n",
      "\r\n",
      "TypeError: _instance.methods.callB is not a function\r\n",
      "    at doIt (/Users/broiron/Code/201710864/src/FallbackTestUseFromFile.js:44:29)\r\n",
      "\u001b[90m    at processTicksAndRejections (node:internal/process/task_queues:96:5)\u001b[39m\r\n",
      "\r\n",
      "Node.js v17.8.0\r\n"
     ]
    }
   ],
   "source": [
    "!node src/FallbackTestUseFromFile.js"
   ]
  },
  {
   "cell_type": "code",
   "execution_count": null,
   "id": "abf6d49f",
   "metadata": {},
   "outputs": [],
   "source": []
  }
 ],
 "metadata": {
  "kernelspec": {
   "display_name": "opcv",
   "language": "python",
   "name": "opcv"
  },
  "language_info": {
   "codemirror_mode": {
    "name": "ipython",
    "version": 3
   },
   "file_extension": ".py",
   "mimetype": "text/x-python",
   "name": "python",
   "nbconvert_exporter": "python",
   "pygments_lexer": "ipython3",
   "version": "3.8.12"
  }
 },
 "nbformat": 4,
 "nbformat_minor": 5
}
