{
 "cells": [
  {
   "cell_type": "code",
   "execution_count": 1,
   "id": "2878508b",
   "metadata": {},
   "outputs": [
    {
     "name": "stdout",
     "output_type": "stream",
     "text": [
      "HelloJS.ipynb     \u001b[31m_gethNow.sh\u001b[m\u001b[m       homework4.ipynb   package-lock.json\r\n",
      "Week6_Prac.ipynb  \u001b[31m_geth_genesis.sh\u001b[m\u001b[m  homework5.ipynb   package.json\r\n",
      "_ganacheNow.sh    \u001b[1m\u001b[36metc\u001b[m\u001b[m               homework_3.ipynb  \u001b[1m\u001b[36mscripts\u001b[m\u001b[m\r\n",
      "_genesis.json     \u001b[1m\u001b[36meth\u001b[m\u001b[m               \u001b[1m\u001b[36mnode_modules\u001b[m\u001b[m      \u001b[1m\u001b[36msrc\u001b[m\u001b[m\r\n"
     ]
    }
   ],
   "source": [
    "!ls"
   ]
  },
  {
   "cell_type": "code",
   "execution_count": 4,
   "id": "02376846",
   "metadata": {},
   "outputs": [
    {
     "name": "stdout",
     "output_type": "stream",
     "text": [
      "Writing src/Hello.sol\n"
     ]
    }
   ],
   "source": [
    "%%writefile src/Hello.sol\n",
    "pragma solidity ^0.8.0;\n",
    "contract Hello {\n",
    "    function sayHello() pure public returns(string memory) {\n",
    "        return \"Hello World\";\n",
    "    }\n",
    "}"
   ]
  },
  {
   "cell_type": "code",
   "execution_count": 5,
   "id": "48c5d8ec",
   "metadata": {},
   "outputs": [
    {
     "name": "stdout",
     "output_type": "stream",
     "text": [
      "\u001b[1m\u001b[33mWarning\u001b[0m\u001b[1m\u001b[37m: SPDX license identifier not provided in source file. Before publishing, consider adding a comment containing \"SPDX-License-Identifier: <SPDX-License>\" to each source file. Use \"SPDX-License-Identifier: UNLICENSED\" for non-open-source code. Please see https://spdx.org for more information.\r\n",
      "\u001b[0m\u001b[1m\u001b[34m-->\u001b[0m src/Hello.sol\r\n",
      "\r\n",
      "\r\n",
      "======= src/Hello.sol:Hello =======\r\n",
      "Gas estimation:\r\n",
      "construction:\r\n",
      "   123 + 76000 = 76123\r\n",
      "external:\r\n",
      "   sayHello():\tinfinite\r\n",
      "Binary:\r\n",
      "608060405234801561001057600080fd5b5061017c806100206000396000f3fe608060405234801561001057600080fd5b506004361061002b5760003560e01c8063ef5fb05b14610030575b600080fd5b61003861004e565b6040516100459190610124565b60405180910390f35b60606040518060400160405280600b81526020017f48656c6c6f20576f726c64000000000000000000000000000000000000000000815250905090565b600081519050919050565b600082825260208201905092915050565b60005b838110156100c55780820151818401526020810190506100aa565b838111156100d4576000848401525b50505050565b6000601f19601f8301169050919050565b60006100f68261008b565b6101008185610096565b93506101108185602086016100a7565b610119816100da565b840191505092915050565b6000602082019050818103600083015261013e81846100eb565b90509291505056fea264697066735822122029bac9183db611e019d9909966d64fb0ec8f9f98caeca1ae4f62a8a1091a3abb64736f6c634300080c0033\r\n",
      "Contract JSON ABI\r\n",
      "[{\"inputs\":[],\"name\":\"sayHello\",\"outputs\":[{\"internalType\":\"string\",\"name\":\"\",\"type\":\"string\"}],\"stateMutability\":\"pure\",\"type\":\"function\"}]\r\n"
     ]
    }
   ],
   "source": [
    "!solc --abi --bin --gas src/Hello.sol"
   ]
  },
  {
   "cell_type": "code",
   "execution_count": 7,
   "id": "ba98b7d4",
   "metadata": {},
   "outputs": [
    {
     "name": "stdout",
     "output_type": "stream",
     "text": [
      "Overwriting src/promiseThen.js\n"
     ]
    }
   ],
   "source": [
    "%%writefile src/promiseThen.js\n",
    "var doPromise = new Promise(function(myResolve, myReject) {\n",
    "    myResolve(123); // 함수가 성공적으로 구현되면 123을 return\n",
    "    myReject(\"Rejected\"); // Error나면 rejected를 return\n",
    "});\n",
    "\n",
    "doPromise.then(function(my){\n",
    "        console.log(\"RETURNED: \"+my); // 성공일 경우\n",
    "    }, function(err) {\n",
    "        console.log(\"ERROR: \"+err); // 실패일 경우\n",
    "    });"
   ]
  },
  {
   "cell_type": "code",
   "execution_count": 8,
   "id": "ead74a78",
   "metadata": {},
   "outputs": [
    {
     "name": "stdout",
     "output_type": "stream",
     "text": [
      "RETURNED: 123\r\n"
     ]
    }
   ],
   "source": [
    "!node src/promiseThen.js"
   ]
  },
  {
   "cell_type": "code",
   "execution_count": null,
   "id": "fced3eda",
   "metadata": {},
   "outputs": [],
   "source": []
  }
 ],
 "metadata": {
  "kernelspec": {
   "display_name": "opcv",
   "language": "python",
   "name": "opcv"
  },
  "language_info": {
   "codemirror_mode": {
    "name": "ipython",
    "version": 3
   },
   "file_extension": ".py",
   "mimetype": "text/x-python",
   "name": "python",
   "nbconvert_exporter": "python",
   "pygments_lexer": "ipython3",
   "version": "3.8.12"
  }
 },
 "nbformat": 4,
 "nbformat_minor": 5
}
