{
 "cells": [
  {
   "cell_type": "code",
   "execution_count": 1,
   "id": "95759208",
   "metadata": {},
   "outputs": [
    {
     "name": "stdout",
     "output_type": "stream",
     "text": [
      "Writing src/SimpleChild.sol\n"
     ]
    }
   ],
   "source": [
    "%%writefile src/SimpleChild.sol\n",
    "//SPDX-License-Identifier: GPL-3.0-or-later\n",
    "pragma solidity ^0.8.0;\n",
    "\n",
    "contract Parent {\n",
    "    //state variables\n",
    "    address owner; //as of 0.8.0 no need to be address payable owner;\n",
    "    uint private counter;\n",
    "    \n",
    "    //constructor. no need for constructor to be public as of 0.7.0\n",
    "    constructor() {\n",
    "        owner = msg.sender;\n",
    "        counter = 0;\n",
    "    }\n",
    "    //functions\n",
    "    function add() public { counter++; }\n",
    "    function getCounter() public view returns(uint) { return counter; }\n",
    "}\n",
    "\n",
    "contract SimpleChild is Parent {\n",
    "    //state variables\n",
    "    string nickName;\n",
    "    mapping(address => uint) private balances;\n",
    "    //event\n",
    "    event PrintLog(address, uint);\n",
    "    \n",
    "    //constructor\n",
    "    constructor() {}  // no public as in constructor() public {}  \n",
    "    //functions\n",
    "    function setNickName(string memory s) public { nickName = s; }\n",
    "    function getNickName() public view returns(string memory) { return nickName; }\n",
    "    function deposit() public payable {\n",
    "        balances[msg.sender] += msg.value;\n",
    "        emit PrintLog(msg.sender, msg.value);\n",
    "    }\n",
    "    function queryBalance() public view returns (uint) {\n",
    "        return balances[msg.sender];\n",
    "    }\n",
    "    //access non-private members of the parent\n",
    "    function kill() public {\n",
    "        if (msg.sender == owner) selfdestruct(payable(owner)); //0.6.x selfdestruct(owner)\n",
    "    }\n",
    "}"
   ]
  },
  {
   "cell_type": "code",
   "execution_count": 2,
   "id": "7879929f",
   "metadata": {},
   "outputs": [
    {
     "name": "stdout",
     "output_type": "stream",
     "text": [
      "\r\n",
      "======= src/SimpleChild.sol:Parent =======\r\n",
      "Gas estimation:\r\n",
      "construction:\r\n",
      "   29403 + 72200 = 101603\r\n",
      "external:\r\n",
      "   add():\t24482\r\n",
      "   getCounter():\t2437\r\n",
      "Binary:\r\n",
      "608060405234801561001057600080fd5b50336000806101000a81548173ffffffffffffffffffffffffffffffffffffffff021916908373ffffffffffffffffffffffffffffffffffffffff1602179055506000600181905550610169806100686000396000f3fe608060405234801561001057600080fd5b50600436106100365760003560e01c80634f2be91f1461003b5780638ada066e14610045575b600080fd5b610043610063565b005b61004d61007d565b60405161005a91906100a0565b60405180910390f35b60016000815480929190610076906100ea565b9190505550565b6000600154905090565b6000819050919050565b61009a81610087565b82525050565b60006020820190506100b56000830184610091565b92915050565b7f4e487b7100000000000000000000000000000000000000000000000000000000600052601160045260246000fd5b60006100f582610087565b91507fffffffffffffffffffffffffffffffffffffffffffffffffffffffffffffffff821415610128576101276100bb565b5b60018201905091905056fea264697066735822122052f760e241fbd6c667b3a56a00d83c3809b1c63dac6200085563effb89cb513264736f6c634300080c0033\r\n",
      "Contract JSON ABI\r\n",
      "[{\"inputs\":[],\"stateMutability\":\"nonpayable\",\"type\":\"constructor\"},{\"inputs\":[],\"name\":\"add\",\"outputs\":[],\"stateMutability\":\"nonpayable\",\"type\":\"function\"},{\"inputs\":[],\"name\":\"getCounter\",\"outputs\":[{\"internalType\":\"uint256\",\"name\":\"\",\"type\":\"uint256\"}],\"stateMutability\":\"view\",\"type\":\"function\"}]\r\n",
      "\r\n",
      "======= src/SimpleChild.sol:SimpleChild =======\r\n",
      "Gas estimation:\r\n",
      "construction:\r\n",
      "   29754 + 435400 = 465154\r\n",
      "external:\r\n",
      "   add():\t24549\r\n",
      "   deposit():\tinfinite\r\n",
      "   getCounter():\t2459\r\n",
      "   getNickName():\tinfinite\r\n",
      "   kill():\t32069\r\n",
      "   queryBalance():\t2527\r\n",
      "   setNickName(string):\tinfinite\r\n",
      "Binary:\r\n",
      "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\r\n",
      "Contract JSON ABI\r\n",
      "[{\"inputs\":[],\"stateMutability\":\"nonpayable\",\"type\":\"constructor\"},{\"anonymous\":false,\"inputs\":[{\"indexed\":false,\"internalType\":\"address\",\"name\":\"\",\"type\":\"address\"},{\"indexed\":false,\"internalType\":\"uint256\",\"name\":\"\",\"type\":\"uint256\"}],\"name\":\"PrintLog\",\"type\":\"event\"},{\"inputs\":[],\"name\":\"add\",\"outputs\":[],\"stateMutability\":\"nonpayable\",\"type\":\"function\"},{\"inputs\":[],\"name\":\"deposit\",\"outputs\":[],\"stateMutability\":\"payable\",\"type\":\"function\"},{\"inputs\":[],\"name\":\"getCounter\",\"outputs\":[{\"internalType\":\"uint256\",\"name\":\"\",\"type\":\"uint256\"}],\"stateMutability\":\"view\",\"type\":\"function\"},{\"inputs\":[],\"name\":\"getNickName\",\"outputs\":[{\"internalType\":\"string\",\"name\":\"\",\"type\":\"string\"}],\"stateMutability\":\"view\",\"type\":\"function\"},{\"inputs\":[],\"name\":\"kill\",\"outputs\":[],\"stateMutability\":\"nonpayable\",\"type\":\"function\"},{\"inputs\":[],\"name\":\"queryBalance\",\"outputs\":[{\"internalType\":\"uint256\",\"name\":\"\",\"type\":\"uint256\"}],\"stateMutability\":\"view\",\"type\":\"function\"},{\"inputs\":[{\"internalType\":\"string\",\"name\":\"s\",\"type\":\"string\"}],\"name\":\"setNickName\",\"outputs\":[],\"stateMutability\":\"nonpayable\",\"type\":\"function\"}]\r\n"
     ]
    }
   ],
   "source": [
    "!solc --abi --bin --gas src/SimpleChild.sol"
   ]
  },
  {
   "cell_type": "code",
   "execution_count": 14,
   "id": "4314d91d",
   "metadata": {},
   "outputs": [
    {
     "name": "stdout",
     "output_type": "stream",
     "text": [
      "Overwriting src/IntBool.sol\n"
     ]
    }
   ],
   "source": [
    "%%writefile src/IntBool.sol\n",
    "//SPDX-License-Identifier: GPL-3.0-or-later\n",
    "pragma solidity ^0.8.0;\n",
    "\n",
    "contract IntBoolTest {\n",
    "    bool married = true;\n",
    "    uint256 xAge = 22;\n",
    "    uint256 yAge = 25;\n",
    "    // fixed phi = 3.14;\n",
    "    function update() public {\n",
    "        xAge = yAge;\n",
    "        yAge = 33;\n",
    "    }\n",
    "    function setXAge(int age) public {\n",
    "        xAge = uint(age);  //type conversion\n",
    "    }\n",
    "    function getXAge() public view returns(uint) {\n",
    "        return xAge;\n",
    "    }\n",
    "    function getYAge() public view returns(uint) {\n",
    "        return yAge;\n",
    "    }\n",
    "    function testInt() public view returns(bool) {\n",
    "        assert(xAge>=20 && yAge>=20); //assert: 값이 그 안에 없다면 예외 발생\n",
    "        return true;\n",
    "    }\n",
    "    function isMarried() public view returns(bool) {\n",
    "        return married;\n",
    "    }\n",
    "}"
   ]
  },
  {
   "cell_type": "code",
   "execution_count": 16,
   "id": "5f8ec19b",
   "metadata": {
    "scrolled": true
   },
   "outputs": [
    {
     "name": "stdout",
     "output_type": "stream",
     "text": [
      "\r\n",
      "======= src/IntBool.sol:IntBoolTest =======\r\n",
      "Binary:\r\n",
      "608060405260016000806101000a81548160ff0219169083151502179055506016600155601960025534801561003457600080fd5b506102ae806100446000396000f3fe608060405234801561001057600080fd5b50600436106100615760003560e01c8062e5561d14610066578063148aa8d714610084578063a2e62045146100a0578063a702314d146100aa578063c23ef142146100c8578063f866375f146100e6575b600080fd5b61006e610104565b60405161007b9190610192565b60405180910390f35b61009e600480360381019061009991906101e8565b610130565b005b6100a861013a565b005b6100b261014d565b6040516100bf9190610192565b60405180910390f35b6100d0610163565b6040516100dd919061022e565b60405180910390f35b6100ee61016d565b6040516100fb919061022e565b60405180910390f35b600060146001541015801561011c5750601460025410155b61012957610128610249565b5b6001905090565b8060018190555050565b6002546001819055506021600281905550565b60008060009054906101000a900460ff16905090565b6000600254905090565b6000600154905090565b60008115159050919050565b61018c81610177565b82525050565b60006020820190506101a76000830184610183565b92915050565b600080fd5b6000819050919050565b6101c5816101b2565b81146101d057600080fd5b50565b6000813590506101e2816101bc565b92915050565b6000602082840312156101fe576101fd6101ad565b5b600061020c848285016101d3565b91505092915050565b6000819050919050565b61022881610215565b82525050565b6000602082019050610243600083018461021f565b92915050565b7f4e487b7100000000000000000000000000000000000000000000000000000000600052600160045260246000fdfea26469706673582212208a45a315cf85e07a9390ece48edcbe67fa938e7fd76154e9bca79cb9eae4946f64736f6c634300080c0033\r\n",
      "Contract JSON ABI\r\n",
      "[{\"inputs\":[],\"name\":\"getXAge\",\"outputs\":[{\"internalType\":\"uint256\",\"name\":\"\",\"type\":\"uint256\"}],\"stateMutability\":\"view\",\"type\":\"function\"},{\"inputs\":[],\"name\":\"getYAge\",\"outputs\":[{\"internalType\":\"uint256\",\"name\":\"\",\"type\":\"uint256\"}],\"stateMutability\":\"view\",\"type\":\"function\"},{\"inputs\":[],\"name\":\"isMarried\",\"outputs\":[{\"internalType\":\"bool\",\"name\":\"\",\"type\":\"bool\"}],\"stateMutability\":\"view\",\"type\":\"function\"},{\"inputs\":[{\"internalType\":\"int256\",\"name\":\"age\",\"type\":\"int256\"}],\"name\":\"setXAge\",\"outputs\":[],\"stateMutability\":\"nonpayable\",\"type\":\"function\"},{\"inputs\":[],\"name\":\"testInt\",\"outputs\":[{\"internalType\":\"bool\",\"name\":\"\",\"type\":\"bool\"}],\"stateMutability\":\"view\",\"type\":\"function\"},{\"inputs\":[],\"name\":\"update\",\"outputs\":[],\"stateMutability\":\"nonpayable\",\"type\":\"function\"}]\r\n"
     ]
    }
   ],
   "source": [
    "!solc --abi --bin src/IntBool.sol "
   ]
  },
  {
   "cell_type": "code",
   "execution_count": 17,
   "id": "ff8038d7",
   "metadata": {},
   "outputs": [
    {
     "name": "stdout",
     "output_type": "stream",
     "text": [
      "Writing src/IntBool.js\n"
     ]
    }
   ],
   "source": [
    "%%writefile src/IntBool.js\n",
    "var Web3 = require('web3');\n",
    "var web3;\n",
    "if (typeof web3 != 'undefined') {\n",
    "    web3 = new Web3(web3.currentProvider);\n",
    "} else {\n",
    "    web3 = new Web3(new Web3.providers.HttpProvider(\"http://localhost:8345\"));\n",
    "}\n",
    "\n",
    "var _abiArray = [{\"inputs\":[],\"name\":\"getXAge\",\"outputs\":[{\"internalType\":\"uint256\",\"name\":\"\",\"type\":\"uint256\"}],\"stateMutability\":\"view\",\"type\":\"function\"},{\"inputs\":[],\"name\":\"getYAge\",\"outputs\":[{\"internalType\":\"uint256\",\"name\":\"\",\"type\":\"uint256\"}],\"stateMutability\":\"view\",\"type\":\"function\"},{\"inputs\":[],\"name\":\"isMarried\",\"outputs\":[{\"internalType\":\"bool\",\"name\":\"\",\"type\":\"bool\"}],\"stateMutability\":\"view\",\"type\":\"function\"},{\"inputs\":[{\"internalType\":\"int256\",\"name\":\"age\",\"type\":\"int256\"}],\"name\":\"setXAge\",\"outputs\":[],\"stateMutability\":\"nonpayable\",\"type\":\"function\"},{\"inputs\":[],\"name\":\"testInt\",\"outputs\":[{\"internalType\":\"bool\",\"name\":\"\",\"type\":\"bool\"}],\"stateMutability\":\"view\",\"type\":\"function\"},{\"inputs\":[],\"name\":\"update\",\"outputs\":[],\"stateMutability\":\"nonpayable\",\"type\":\"function\"}];\n",
    "var _bin = \"608060405260016000806101000a81548160ff0219169083151502179055506016600155601960025534801561003457600080fd5b506102ae806100446000396000f3fe608060405234801561001057600080fd5b50600436106100615760003560e01c8062e5561d14610066578063148aa8d714610084578063a2e62045146100a0578063a702314d146100aa578063c23ef142146100c8578063f866375f146100e6575b600080fd5b61006e610104565b60405161007b9190610192565b60405180910390f35b61009e600480360381019061009991906101e8565b610130565b005b6100a861013a565b005b6100b261014d565b6040516100bf9190610192565b60405180910390f35b6100d0610163565b6040516100dd919061022e565b60405180910390f35b6100ee61016d565b6040516100fb919061022e565b60405180910390f35b600060146001541015801561011c5750601460025410155b61012957610128610249565b5b6001905090565b8060018190555050565b6002546001819055506021600281905550565b60008060009054906101000a900460ff16905090565b6000600254905090565b6000600154905090565b60008115159050919050565b61018c81610177565b82525050565b60006020820190506101a76000830184610183565b92915050565b600080fd5b6000819050919050565b6101c5816101b2565b81146101d057600080fd5b50565b6000813590506101e2816101bc565b92915050565b6000602082840312156101fe576101fd6101ad565b5b600061020c848285016101d3565b91505092915050565b6000819050919050565b61022881610215565b82525050565b6000602082019050610243600083018461021f565b92915050565b7f4e487b7100000000000000000000000000000000000000000000000000000000600052600160045260246000fdfea26469706673582212208a45a315cf85e07a9390ece48edcbe67fa938e7fd76154e9bca79cb9eae4946f64736f6c634300080c0033\";\n",
    "\n",
    "var _contract = new web3.eth.Contract(_abiArray);\n",
    "_contract\n",
    "    .deploy({data:\"0x\"+_bin})\n",
    "    .send({\n",
    "    from: \"0xD48fa1D79a09BE80b3ab93a0b2aea6297a6e0221\",\n",
    "    gas: '4700000'\n",
    "    }, function (error, transactionHash){\n",
    "            console.log(error, transactionHash); \n",
    "    })\n",
    "    .then(function(newContractInstance){\n",
    "        console.log(newContractInstance.options.address) //contract 주소 출력\n",
    "    });"
   ]
  },
  {
   "cell_type": "code",
   "execution_count": 18,
   "id": "28e1abbe",
   "metadata": {},
   "outputs": [
    {
     "name": "stdout",
     "output_type": "stream",
     "text": [
      "\u001b[1mnull\u001b[22m 0x7d11cd4828b3028f58c4baa13926b47231e7c009b4a87c20fb7e581fca0cbf52\r\n",
      "0xE3d1C3907659d2b020a8e031927Cb232caf4DaA6\r\n"
     ]
    }
   ],
   "source": [
    "!node src/IntBool.js"
   ]
  },
  {
   "cell_type": "code",
   "execution_count": 21,
   "id": "d79d0e14",
   "metadata": {},
   "outputs": [
    {
     "name": "stdout",
     "output_type": "stream",
     "text": [
      "Overwriting src/IntBoolUse.js\n"
     ]
    }
   ],
   "source": [
    "%%writefile src/IntBoolUse.js\n",
    "var Web3=require('web3');\n",
    "var web3 = new Web3(new Web3.providers.HttpProvider(\"http://localhost:8345\"));\n",
    "//console.log(\"- contract name: \", contractName); //or console.log(contractName[0]);\n",
    "_abiArray=[{\"inputs\":[],\"name\":\"getXAge\",\"outputs\":[{\"internalType\":\"uint256\",\"name\":\"\",\"type\":\"uint256\"}],\"stateMutability\":\"view\",\"type\":\"function\"},{\"inputs\":[],\"name\":\"getYAge\",\"outputs\":[{\"internalType\":\"uint256\",\"name\":\"\",\"type\":\"uint256\"}],\"stateMutability\":\"view\",\"type\":\"function\"},{\"inputs\":[],\"name\":\"isMarried\",\"outputs\":[{\"internalType\":\"bool\",\"name\":\"\",\"type\":\"bool\"}],\"stateMutability\":\"view\",\"type\":\"function\"},{\"inputs\":[{\"internalType\":\"int256\",\"name\":\"age\",\"type\":\"int256\"}],\"name\":\"setXAge\",\"outputs\":[],\"stateMutability\":\"nonpayable\",\"type\":\"function\"},{\"inputs\":[],\"name\":\"testInt\",\"outputs\":[{\"internalType\":\"bool\",\"name\":\"\",\"type\":\"bool\"}],\"stateMutability\":\"view\",\"type\":\"function\"},{\"inputs\":[],\"name\":\"update\",\"outputs\":[],\"stateMutability\":\"nonpayable\",\"type\":\"function\"}]\n",
    "//_abiArray=JSON.parse(_abi);      //JSON parsing needed!!\n",
    "_bin=\"608060405260016000806101000a81548160ff0219169083151502179055506016600155601960025534801561003457600080fd5b506102ae806100446000396000f3fe608060405234801561001057600080fd5b50600436106100615760003560e01c8062e5561d14610066578063148aa8d714610084578063a2e62045146100a0578063a702314d146100aa578063c23ef142146100c8578063f866375f146100e6575b600080fd5b61006e610104565b60405161007b9190610192565b60405180910390f35b61009e600480360381019061009991906101e8565b610130565b005b6100a861013a565b005b6100b261014d565b6040516100bf9190610192565b60405180910390f35b6100d0610163565b6040516100dd919061022e565b60405180910390f35b6100ee61016d565b6040516100fb919061022e565b60405180910390f35b600060146001541015801561011c5750601460025410155b61012957610128610249565b5b6001905090565b8060018190555050565b6002546001819055506021600281905550565b60008060009054906101000a900460ff16905090565b6000600254905090565b6000600154905090565b60008115159050919050565b61018c81610177565b82525050565b60006020820190506101a76000830184610183565b92915050565b600080fd5b6000819050919050565b6101c5816101b2565b81146101d057600080fd5b50565b6000813590506101e2816101bc565b92915050565b6000602082840312156101fe576101fd6101ad565b5b600061020c848285016101d3565b91505092915050565b6000819050919050565b61022881610215565b82525050565b6000602082019050610243600083018461021f565b92915050565b7f4e487b7100000000000000000000000000000000000000000000000000000000600052600160045260246000fdfea26469706673582212208a45a315cf85e07a9390ece48edcbe67fa938e7fd76154e9bca79cb9eae4946f64736f6c634300080c0033\";\n",
    "//console.log(\"- ABI: \" + _abiArray);\n",
    "//console.log(\"- Bytecode: \" + _bin);\n",
    "\n",
    "var IntBool = new web3.eth.Contract(_abiArray,\"0xE3d1C3907659d2b020a8e031927Cb232caf4DaA6\");\n",
    "\n",
    "async function doIt() {\n",
    "    const accounts = await web3.eth.getAccounts();\n",
    "    console.log(\"Call from: \" + accounts[0]);\n",
    "    IntBool.methods.getXAge().call().then(function(value) {console.log(\"XAge: \", value);});\n",
    "    IntBool.methods.getYAge().call().then(function(value) {console.log(\"YAge: \", value);});\n",
    "    await IntBool.methods.setXAge(30).send({from:accounts[0],gas:100000})\n",
    "    IntBool.methods.getXAge().call().then(function(value) {console.log(\"XAge: \", value);});\n",
    "}\n",
    "\n",
    "doIt()"
   ]
  },
  {
   "cell_type": "code",
   "execution_count": 22,
   "id": "d7f3f864",
   "metadata": {
    "scrolled": true
   },
   "outputs": [
    {
     "name": "stdout",
     "output_type": "stream",
     "text": [
      "Call from: 0xD48fa1D79a09BE80b3ab93a0b2aea6297a6e0221\r\n",
      "XAge:  22\r\n",
      "YAge:  25\r\n",
      "XAge:  30\r\n"
     ]
    }
   ],
   "source": [
    "!node src/IntBoolUse.js"
   ]
  },
  {
   "cell_type": "code",
   "execution_count": 23,
   "id": "660daa4f",
   "metadata": {},
   "outputs": [
    {
     "name": "stdout",
     "output_type": "stream",
     "text": [
      "Writing src/ByteStringTest.sol\n"
     ]
    }
   ],
   "source": [
    "%%writefile src/ByteStringTest.sol\n",
    "//SPDX-License-Identifier: GPL-3.0-or-later\n",
    "pragma solidity ^0.8.0;\n",
    "\n",
    "contract ByteStringTest {\n",
    "    //byte b = 0xFF; //use bytes1 as of 0.8.0\n",
    "    bytes1 b1 = 0xFF;\n",
    "    bytes2 b2 = 0xFFAA;\n",
    "    bytes8 place8 = \"7 hongji\"; //8 characters long\n",
    "    bytes23 place23 = \"7 hongji-dong jongro-gu\";\n",
    "    bytes place = \"7 hongji-dong jongro-gu Seoul\"; //variable length\n",
    "    bytes myBytes = new bytes(3);  //0x000000\n",
    "    string constant name = \"jsl\"; //utf-8 string \"jsl\"\n",
    "    function getB1() public view returns(bytes1) {\n",
    "        return b1;  //bytes1, so no casting required\n",
    "    }\n",
    "    function getB2() public view returns(bytes2) {\n",
    "        return b2;\n",
    "    }\n",
    "    function getB23() public view returns(bytes23) {\n",
    "        return place23;  //fixed size, value type (no memory)\n",
    "    }\n",
    "    /**@return hex bytes. reference type should be set as memory*/\n",
    "    function getBytes() public view returns(bytes memory) {\n",
    "        return myBytes;  //smu in hex 0x736d75\n",
    "    }\n",
    "    function getLengOfBytes23 () view public returns(uint) {\n",
    "        return place23.length;  // returns 23\n",
    "    }\n",
    "    function getLenOfBytes() pure public returns(uint) {\n",
    "        bytes memory bm = \"7 hongji-dong jongro-gu\";\n",
    "        return bm.length;        // returns 23\n",
    "    }\n",
    "    //need the arg in hex e.g. bytes1 0x61 bytes2 0x6161\n",
    "    //a 61, b 62, ... , y 79\n",
    "    //try invalid type, e.g. bytes2 0x61 or 0x616161\n",
    "    function setB2(bytes2 _b2) public {\n",
    "        b2 = _b2;\n",
    "    }\n",
    "    function setBytes() public {\n",
    "        myBytes = \"smu\";\n",
    "    }\n",
    "    function getLenOfString() pure public returns(uint) {\n",
    "        string memory nameLocal = \"jslLocal\"; //참조형은 memory\n",
    "        //return nameLocal.length;  //error, casting required\n",
    "        return bytes(nameLocal).length; //형변환 후 .length 사용 -> return\n",
    "    }\n",
    "    function getString() pure public returns(string memory) {\n",
    "    //function getString() pure public returns(bytes memory) {\n",
    "        string memory s = \"\\xec\\x95\\x88\\xeb\\x85\\x95\"; //\"한글\";\n",
    "        //bytes memory s = \"\\xec\\x95\\x88\\xeb\\x85\\x95\"; //\"한글\";\n",
    "        return s;\n",
    "    }\n",
    "}\n"
   ]
  },
  {
   "cell_type": "code",
   "execution_count": 24,
   "id": "c1b9ad40",
   "metadata": {},
   "outputs": [],
   "source": [
    "!solc --optimize --combined-json abi,bin src/ByteStringTest.sol > src/ByteStringTest.json"
   ]
  },
  {
   "cell_type": "code",
   "execution_count": 25,
   "id": "babecf16",
   "metadata": {
    "scrolled": true
   },
   "outputs": [
    {
     "name": "stdout",
     "output_type": "stream",
     "text": [
      "{\"contracts\":{\"src/ByteStringTest.sol:ByteStringTest\":{\"abi\":[{\"inputs\":[],\"name\":\"getB1\",\"outputs\":[{\"internalType\":\"bytes1\",\"name\":\"\",\"type\":\"bytes1\"}],\"stateMutability\":\"view\",\"type\":\"function\"},{\"inputs\":[],\"name\":\"getB2\",\"outputs\":[{\"internalType\":\"bytes2\",\"name\":\"\",\"type\":\"bytes2\"}],\"stateMutability\":\"view\",\"type\":\"function\"},{\"inputs\":[],\"name\":\"getB23\",\"outputs\":[{\"internalType\":\"bytes23\",\"name\":\"\",\"type\":\"bytes23\"}],\"stateMutability\":\"view\",\"type\":\"function\"},{\"inputs\":[],\"name\":\"getBytes\",\"outputs\":[{\"internalType\":\"bytes\",\"name\":\"\",\"type\":\"bytes\"}],\"stateMutability\":\"view\",\"type\":\"function\"},{\"inputs\":[],\"name\":\"getLenOfBytes\",\"outputs\":[{\"internalType\":\"uint256\",\"name\":\"\",\"type\":\"uint256\"}],\"stateMutability\":\"pure\",\"type\":\"function\"},{\"inputs\":[],\"name\":\"getLenOfString\",\"outputs\":[{\"internalType\":\"uint256\",\"name\":\"\",\"type\":\"uint256\"}],\"stateMutability\":\"pure\",\"type\":\"function\"},{\"inputs\":[],\"name\":\"getLengOfBytes23\",\"outputs\":[{\"internalType\":\"uint256\",\"name\":\"\",\"type\":\"uint256\"}],\"stateMutability\":\"view\",\"type\":\"function\"},{\"inputs\":[],\"name\":\"getString\",\"outputs\":[{\"internalType\":\"string\",\"name\":\"\",\"type\":\"string\"}],\"stateMutability\":\"pure\",\"type\":\"function\"},{\"inputs\":[{\"internalType\":\"bytes2\",\"name\":\"_b2\",\"type\":\"bytes2\"}],\"name\":\"setB2\",\"outputs\":[],\"stateMutability\":\"nonpayable\",\"type\":\"function\"},{\"inputs\":[],\"name\":\"setBytes\",\"outputs\":[],\"stateMutability\":\"nonpayable\",\"type\":\"function\"}],\"bin\":\"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\"}},\"version\":\"0.8.12+commit.f00d7308.Darwin.appleclang\"}\r\n"
     ]
    }
   ],
   "source": [
    "!cat src/ByteStringTest.json"
   ]
  },
  {
   "cell_type": "code",
   "execution_count": 28,
   "id": "6c54b444",
   "metadata": {},
   "outputs": [
    {
     "name": "stdout",
     "output_type": "stream",
     "text": [
      "Overwriting src/ByteStringTestDeployAbiBinFromFile.js\n"
     ]
    }
   ],
   "source": [
    "%%writefile src/ByteStringTestDeployAbiBinFromFile.js\n",
    "var Web3 = require('web3');\n",
    "var _abiBinJson = require('./ByteStringTest.json');      //importing a javascript file\n",
    "\n",
    "var web3 = new Web3(new Web3.providers.HttpProvider(\"http://localhost:8345\"));\n",
    "\n",
    "contractName=Object.keys(_abiBinJson.contracts); // reading \n",
    "console.log(\"- contract name: \", contractName);\n",
    "_abi=_abiBinJson.contracts[contractName].abi;\n",
    "_abiArray=JSON.parse(JSON.stringify(_abi)); // -> 문자열로 바꾸고 parsing해야함.\n",
    "//_abiArray=JSON.parse(_abi);      //JSON parsing needed!! \n",
    "_bin=_abiBinJson.contracts[contractName].bin;\n",
    "\n",
    "console.log(\"- ABI: \" + _abiArray);\n",
    "console.log(\"- Bytecode: \" + _bin);\n",
    "\n",
    "async function deploy() {\n",
    "    const accounts = await web3.eth.getAccounts();\n",
    "    console.log(\"Deploying the contract from \" + accounts[0]);\n",
    "    var deployed = await new web3.eth.Contract(_abiArray)\n",
    "        .deploy({data: \"0x\"+_bin})\n",
    "        .send({from: accounts[0], gas: 4700000}, function(err, transactionHash) {\n",
    "                if(!err) console.log(\"hash: \" + transactionHash); \n",
    "        })\n",
    "        //.then(function(newContractInstance){\n",
    "        //    console.log(newContractInstance)\n",
    "        //});\n",
    "    console.log(\"---> The contract deployed to: \" + deployed.options.address)\n",
    "}\n",
    "deploy()"
   ]
  },
  {
   "cell_type": "code",
   "execution_count": 29,
   "id": "c8045ae5",
   "metadata": {},
   "outputs": [
    {
     "name": "stdout",
     "output_type": "stream",
     "text": [
      "- contract name:  [ \u001b[32m'src/ByteStringTest.sol:ByteStringTest'\u001b[39m ]\r\n",
      "- ABI: [object Object],[object Object],[object Object],[object Object],[object Object],[object Object],[object Object],[object Object],[object Object],[object Object]\r\n",
      "- Bytecode: 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\r\n",
      "Deploying the contract from 0xD48fa1D79a09BE80b3ab93a0b2aea6297a6e0221\r\n",
      "hash: 0xded5b30d387e1f9b615292e141f5dd890743ef5872aedffd761f33d0065e069e\r\n",
      "---> The contract deployed to: 0x32fa3f18fc5C53522AE945B866760E5F2B298F9B\r\n"
     ]
    }
   ],
   "source": [
    "!node src/ByteStringTestDeployAbiBinFromFile.js"
   ]
  },
  {
   "cell_type": "code",
   "execution_count": null,
   "id": "f4d23321",
   "metadata": {},
   "outputs": [],
   "source": [
    "%%writefile src/ByteStringUse.js\n",
    "var Web3=require('web3');\n",
    "var _abiBinJson = require('./ByteStringTest.json');      //importing a javascript file\n",
    "\n",
    "var web3 = new Web3(new Web3.providers.HttpProvider(\"http://localhost:8345\"));\n",
    "contractName=Object.keys(_abiBinJson.contracts); // reading\n",
    "//console.log(\"- contract name: \", contractName); //or console.log(contractName[0]);\n",
    "_abi=_abiBinJson.contracts[contractName].abi;\n",
    "_abiArray=JSON.parse(JSON.stringify(_abi));\n",
    "//_abiArray=JSON.parse(_abi);      //JSON parsing needed!!\n",
    "//_bin=_abiBinJson.contracts[contractName].bin;\n",
    "//console.log(\"- ABI: \" + _abiArray);\n",
    "//console.log(\"- Bytecode: \" + _bin);\n",
    "\n",
    "var ByteString = new web3.eth.Contract(_abiArray,\"0x32fa3f18fc5C53522AE945B866760E5F2B298F9B\");\n",
    "\n",
    "async function doIt() {\n",
    "    const accounts = await web3.eth.getAccounts();\n",
    "    console.log(\"Call from: \" + accounts[0]);\n",
    "    ByteString.methods.getNow().call().then(function(value) {console.log(\"Now: \", value);});\n",
    "    await timer.methods.start().send({from:accounts[0],gas:100000});\n",
    "    //await 4000;\n",
    "    timer.methods.timePassed().call().then(function(value) {console.log(\"Passed: \", value);});\n",
    "}\n",
    "\n",
    "doIt()"
   ]
  }
 ],
 "metadata": {
  "kernelspec": {
   "display_name": "opcv",
   "language": "python",
   "name": "opcv"
  },
  "language_info": {
   "codemirror_mode": {
    "name": "ipython",
    "version": 3
   },
   "file_extension": ".py",
   "mimetype": "text/x-python",
   "name": "python",
   "nbconvert_exporter": "python",
   "pygments_lexer": "ipython3",
   "version": "3.8.12"
  }
 },
 "nbformat": 4,
 "nbformat_minor": 5
}
