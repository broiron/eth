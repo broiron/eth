{
 "cells": [
  {
   "cell_type": "code",
   "execution_count": 1,
   "id": "f769889a",
   "metadata": {},
   "outputs": [
    {
     "name": "stdout",
     "output_type": "stream",
     "text": [
      "Writing src/ArrayTest2.sol\n"
     ]
    }
   ],
   "source": [
    "%%writefile src/ArrayTest2.sol\n",
    "//SPDX-License-Identifier: GPL-3.0-or-later\n",
    "pragma solidity ^0.8.0;\n",
    "pragma experimental ABIEncoderV2;\n",
    "\n",
    "contract ArrayTest2 {\n",
    "    string[3] cities1=[\"Seoul\", \"Sydney\", \"Tokyo\"];\n",
    "    string[] cities2 = new string[](2);\n",
    "    string[] cities3;\n",
    "    uint24[5] balance = [255, 65536, 95, 50, 1];\n",
    "    int[5] mathMarks;\n",
    "    uint[3][] marks=[[100, 80, 95],[20,30,40]];\n",
    "\n",
    "    function setLocalDynamicArr() pure public returns(uint) {\n",
    "        //uint[] myArr; //error\n",
    "        //uint[] storage myArr; //error uninitialized storage\n",
    "        //uint[] memory myArr; //ok. but cannot push\n",
    "        //uint[] myArr = new uint[](3); //error\n",
    "        //uint[] storage myArr = new uint[](3); //error conversion from memory to stoarge\n",
    "        uint[] memory myArr = new uint[](3);\n",
    "        //myArr.push(11); //error\n",
    "        myArr[0]=11;\n",
    "        myArr[1]=12;\n",
    "        //myArr.push(13); //error\n",
    "        //myArr[5]=15;\n",
    "        return myArr.length;\n",
    "    }\n",
    "    function getDynamicArrMemory() pure public returns(uint[] memory) {\n",
    "        uint[] memory num=new uint[](3);  //dynamic\n",
    "        for (uint i=0; i<num.length; i++)\n",
    "            num[i]=i;       //push() not allowed for array memeory\n",
    "        return num;\n",
    "    }\n",
    "    //string is a dynamic array itself, which can not be returned.\n",
    "    //function setArrMemory() view public returns(string[] memory) {\n",
    "    function getStringDynamicArrMemory() pure public {\n",
    "        //array storage not allowed\n",
    "        //error: string[2] storage places = [\"9000\", \"Sydney\"];\n",
    "        string[2] memory places = [\"9000\", \"Sydney\"];\n",
    "        //array memory push not allowed\n",
    "        //places.push(\"Seoul\");\n",
    "        places[0]=\"Seoul\";\n",
    "        //return places;\n",
    "    }\n",
    "    /*returning 'string[] storage' is not allowed\n",
    "    function getCities1_() view public returns(string[] memory) {\n",
    "        return cities1;  //can not return stoarge var. \n",
    "    }*/\n",
    "    function getCities1() view public returns(string memory) {\n",
    "        return cities1[0];\n",
    "    }\n",
    "    function getCities1Length() view public returns(uint) { return cities1.length; }\n",
    "    function setCities23() public {\n",
    "        //string my = \"Seoul\"; //error\n",
    "        string memory my = \"seoul\";\n",
    "        cities2[0]=\"New York\";\n",
    "        cities2.push(my);\n",
    "        cities2.push(\"Busan\");\n",
    "        cities3.push(\"New York\");\n",
    "        cities3.push(\"Beijing\");\n",
    "    }\n",
    "    //dynamic array return needs \"pragma experimental ABIEncoderV2;\"\n",
    "    function getCities2() view public returns(string[] memory){\n",
    "        return cities2;\n",
    "    }\n",
    "    function setMathMarks() public {\n",
    "        //mathMarks.push(100); //push for fixed array not allowed\n",
    "        //mathMarks=uint8([100,60,95,50,80]); //error: uint8 memory -> uint8\n",
    "        uint8[5] memory temp = [100, 60, 95, 50, 80];\n",
    "        //mathMarks = int(temp); //error: uint8[5] memory -> int256\n",
    "        for (uint i = 0; i < temp.length; i++) {\n",
    "            //mathMarks[i] = int(temp[i]); //error: uint8 -> int256\n",
    "            mathMarks[i] = int(int8(temp[i])); //ok: uint8 -> int8 -> int256\n",
    "        }\n",
    "    }\n",
    "    function getMathMarks() view public returns (int[] memory) {\n",
    "        //return mathMarks;  //can not return storage array: error: int[] storage -> int[] memory\n",
    "        int[] memory _arr256 = new int[](mathMarks.length);\n",
    "        for (uint i = 0; i < mathMarks.length; i++) {\n",
    "            _arr256[i] = int256(mathMarks[i]);\n",
    "        }\n",
    "        return _arr256;\n",
    "    }\n",
    "    //run setMathMarks() beforehand\n",
    "    function getMathAbove70_() view public returns(int[] memory) {\n",
    "        // size is not allocated yet -> invalid opcode error\n",
    "        int[] memory mathAbove70;\n",
    "        uint counter = 0;\n",
    "        for(uint8 i=0;i<mathMarks.length;i++)\n",
    "            if(mathMarks[i]>70) {\n",
    "                mathAbove70[counter] = mathMarks[i];\n",
    "                //mathAbove70.push(mathMarks[i]);\n",
    "                counter++;\n",
    "            }\n",
    "        return mathAbove70;\n",
    "    }\n",
    "    //run setMathMarks() beforehand\n",
    "    function getMathAbove70() view public returns(int[] memory) {\n",
    "        //compute lengthOfMathAbove70\n",
    "        uint8 counter=0;\n",
    "        uint8 lengthOfMathAbove70=0;\n",
    "        for(uint8 i=0;i<mathMarks.length;i++)\n",
    "            if(mathMarks[i]>70) counter++;\n",
    "        lengthOfMathAbove70=counter;\n",
    "        //move math marks above 70\n",
    "        int[] memory mathAbove70=new int[](lengthOfMathAbove70);\n",
    "        counter=0;\n",
    "        for(uint i=0;i<mathMarks.length;i++) {\n",
    "            if(mathMarks[i]>70) {\n",
    "                mathAbove70[counter]=mathMarks[i];\n",
    "                counter++;\n",
    "            }\n",
    "        }\n",
    "        return mathAbove70;\n",
    "    }\n",
    "    function updateMarks() public returns(uint[3][] memory){\n",
    "        marks[0][0]=90;\n",
    "        return marks;\n",
    "    }\n",
    "    function getMarksArr() view public returns(uint[3][] memory) {\n",
    "        return marks;\n",
    "    }\n",
    "    function getMarksLength() view public returns(uint) {\n",
    "        return marks.length;\n",
    "    }\n",
    "}"
   ]
  },
  {
   "cell_type": "code",
   "execution_count": 2,
   "id": "ab96c7e2",
   "metadata": {},
   "outputs": [],
   "source": [
    "!solc src/ArrayTest2.sol --combined-json abi > src/ArrayTest2ABI.json"
   ]
  },
  {
   "cell_type": "code",
   "execution_count": 5,
   "id": "c4e6926f",
   "metadata": {},
   "outputs": [],
   "source": [
    "!solc src/ArrayTest2.sol --combined-json bin > src/ArrayTest2BIN.json"
   ]
  },
  {
   "cell_type": "code",
   "execution_count": 6,
   "id": "1b45a7e4",
   "metadata": {},
   "outputs": [
    {
     "name": "stdout",
     "output_type": "stream",
     "text": [
      "Overwriting src/ArrayTest2Deploy.js\n"
     ]
    }
   ],
   "source": [
    "%%writefile src/ArrayTest2Deploy.js\n",
    "var Web3=require('web3');\n",
    "var _abiJson = require('./ArrayTest2ABI.json');\n",
    "var _binJson = require('./ArrayTest2BIN.json');\n",
    "\n",
    "var web3 = new Web3(new Web3.providers.HttpProvider(\"http://localhost:8345\"));\n",
    "contractName=Object.keys(_abiJson.contracts); // reading ['src/ArrayTest2.sol:ArrayTest2']\n",
    "console.log(\"- contract name: \", contractName[0]); //or console.log(contractName);\n",
    "_abiArray=_abiJson.contracts[contractName].abi;\n",
    "//_abiArray=JSON.parse(_abiJson.contracts[contractName].abi);    //JSON parsing needed!!\n",
    "_bin=\"0x\"+_binJson.contracts[contractName].bin; //ok without \"0x\"\n",
    "\n",
    "//unlock the account with a password provided\n",
    "//web3.personal.unlockAccount(web3.eth.accounts[0],'password');\n",
    "async function deploy() {\n",
    "    const accounts = await web3.eth.getAccounts();\n",
    "    console.log(\"Deploying the contract from \" + accounts[0]);\n",
    "\n",
    "    new web3.eth.Contract(_abiArray).deploy({data: _bin}).estimateGas(function(err, gas) {\n",
    "        if(!err) console.log(\">> gas: \"+ gas);\n",
    "    });\n",
    "\n",
    "    var deployed = await new web3.eth.Contract(_abiArray)\n",
    "        .deploy({data: _bin})\n",
    "        .send({from: accounts[0], gas: 1621137}, function(err, transactionHash) {\n",
    "                if(!err) console.log(\"hash: \" + transactionHash); \n",
    "        })\n",
    "        //.then(function(newContractInstance){\n",
    "        //    console.log(newContractInstance.options.address)\n",
    "        //});\n",
    "    console.log(\"---> The contract deployed to: \" + deployed.options.address);\n",
    "}\n",
    "\n",
    "deploy()"
   ]
  },
  {
   "cell_type": "code",
   "execution_count": 7,
   "id": "ac34bd9f",
   "metadata": {},
   "outputs": [
    {
     "name": "stdout",
     "output_type": "stream",
     "text": [
      "- contract name:  src/ArrayTest2.sol:ArrayTest2\n",
      "Deploying the contract from 0xB47490a054587C9d20d5f5daE63001293aaa8bd5\n",
      "hash: 0x3cf229f9bd6fb931650cdb71f5fd74b5d51ccf837d6765d913d61ddbfd873df7\n",
      "---> The contract deployed to: 0x74Bac6bd313a3f5506A0018f74e2Dff609F67E53\n",
      ">> gas: 1460202\n"
     ]
    }
   ],
   "source": [
    "!node src/ArrayTest2Deploy.js"
   ]
  },
  {
   "cell_type": "code",
   "execution_count": 14,
   "id": "e43e9a5f",
   "metadata": {},
   "outputs": [
    {
     "name": "stdout",
     "output_type": "stream",
     "text": [
      "Overwriting src/ArrayTest2Use.js\n"
     ]
    }
   ],
   "source": [
    "%%writefile src/ArrayTest2Use.js\n",
    "var Web3=require('web3');\n",
    "var _abiJson = require('./ArrayTest2ABI.json');\n",
    "var web3=new Web3(new Web3.providers.HttpProvider(\"http://localhost:8345\"));       //ok\n",
    "\n",
    "contractName=Object.keys(_abiJson.contracts); // reading ['src/ArrayTest2.sol:ArrayTest2']\n",
    "console.log(\"- contract name: \", contractName[0]); //or console.log(contractName);\n",
    "_abiArray=_abiJson.contracts[contractName].abi;\n",
    "//_abiArray=JSON.parse(_abiJson.contracts[contractName].abi);    //JSON parsing needed!!\n",
    "\n",
    "async function doIt() {\n",
    "    var arr = new web3.eth.Contract(_abiArray, \"0x74Bac6bd313a3f5506A0018f74e2Dff609F67E53\");\n",
    "    const accounts = await web3.eth.getAccounts();\n",
    "    console.log(\"Account: \" + accounts[0]);\n",
    "    const balanceBefore = await web3.eth.getBalance(accounts[0]);\n",
    "    console.log(\"Balance before: \" + balanceBefore);\n",
    "    \n",
    "    arr.methods.setCities23().estimateGas(function(err, gas) {\n",
    "        if(!err) console.log(\">> gas: \"+ gas);\n",
    "    });\n",
    "\n",
    "    //await arr.methods.setCities23().send({from: accounts[0]});   //out of gas error\n",
    "    await arr.methods.setCities23().send({from: accounts[0], gas:1460202});\n",
    "    arr.methods.getCities2().call().then(console.log);\n",
    "\n",
    "    arr.methods.setMathMarks().estimateGas(function(err, gas) {\n",
    "        if(!err) console.log(\">> gas: \"+ gas);\n",
    "    });\n",
    "\n",
    "    await arr.methods.setMathMarks().send({from: accounts[0], gas: 162354});\n",
    "    //ERROR invalid opcode arr.methods.getMathAbove70().call().then(console.log);\n",
    "    arr.methods.getMarksArr().call().then(console.log);\n",
    "\n",
    "    const balanceAfter = await web3.eth.getBalance(accounts[0]);\n",
    "    console.log(\"Balance after: \" + balanceAfter);\n",
    "    console.log(\"Balance diff: \" + (balanceBefore - balanceAfter));\n",
    "}\n",
    "\n",
    "doIt()"
   ]
  },
  {
   "cell_type": "code",
   "execution_count": 16,
   "id": "67d2490a",
   "metadata": {
    "scrolled": true
   },
   "outputs": [
    {
     "name": "stdout",
     "output_type": "stream",
     "text": [
      "- contract name:  src/ArrayTest2.sol:ArrayTest2\n",
      "Account: 0xB47490a054587C9d20d5f5daE63001293aaa8bd5\n",
      "Balance before: 999993254010194583740\n",
      ">> gas: 127611\n",
      "[ \u001b[32m'New York'\u001b[39m, \u001b[32m''\u001b[39m, \u001b[32m'seoul'\u001b[39m, \u001b[32m'Busan'\u001b[39m, \u001b[32m'seoul'\u001b[39m, \u001b[32m'Busan'\u001b[39m ]\n",
      ">> gas: 33810\n",
      "Balance after: 999992795364479180513\n",
      "Balance diff: 458645715419136\n",
      "[ [ \u001b[32m'100'\u001b[39m, \u001b[32m'80'\u001b[39m, \u001b[32m'95'\u001b[39m ], [ \u001b[32m'20'\u001b[39m, \u001b[32m'30'\u001b[39m, \u001b[32m'40'\u001b[39m ] ]\n"
     ]
    }
   ],
   "source": [
    "!node src/ArrayTest2Use.js"
   ]
  },
  {
   "cell_type": "code",
   "execution_count": null,
   "id": "56925386",
   "metadata": {},
   "outputs": [],
   "source": []
  }
 ],
 "metadata": {
  "kernelspec": {
   "display_name": "opcv",
   "language": "python",
   "name": "opcv"
  },
  "language_info": {
   "codemirror_mode": {
    "name": "ipython",
    "version": 3
   },
   "file_extension": ".py",
   "mimetype": "text/x-python",
   "name": "python",
   "nbconvert_exporter": "python",
   "pygments_lexer": "ipython3",
   "version": "3.8.12"
  }
 },
 "nbformat": 4,
 "nbformat_minor": 5
}
